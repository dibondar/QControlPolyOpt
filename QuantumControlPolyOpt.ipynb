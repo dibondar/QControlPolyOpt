{
 "cells": [
  {
   "cell_type": "markdown",
   "id": "035ede82",
   "metadata": {},
   "source": [
    "# Quantum Control as Polynomial Optimization: Synthesizing unitary target"
   ]
  },
  {
   "cell_type": "markdown",
   "id": "88fad342",
   "metadata": {},
   "source": [
    "This notebook uses multithreading \n",
    "\n",
    "    julia --threads auto\n"
   ]
  },
  {
   "cell_type": "raw",
   "id": "1b26ab56",
   "metadata": {},
   "source": [
    "a = zeros(10)\n",
    "\n",
    "Threads.@threads for i = 1:10\n",
    "           a[i] = Threads.threadid()\n",
    "       end"
   ]
  },
  {
   "cell_type": "code",
   "execution_count": 5,
   "id": "e72bfa15",
   "metadata": {},
   "outputs": [],
   "source": [
    "using ProgressBars\n",
    "using LinearAlgebra\n",
    "using QuantumOptics\n",
    "using DynamicPolynomials, MomentTools\n",
    "using TSSOS\n",
    "using QuadGK\n",
    "using MosekTools\n",
    "using JuMP\n",
    "using Random\n",
    "using NLopt"
   ]
  },
  {
   "cell_type": "markdown",
   "id": "b7498b48",
   "metadata": {},
   "source": [
    "## Quantum system"
   ]
  },
  {
   "cell_type": "code",
   "execution_count": 6,
   "id": "212a6925",
   "metadata": {},
   "outputs": [],
   "source": [
    "#= \n",
    "Quantum system is taken from \n",
    " https://github.com/q-optimize/c3/blob/master/examples/two_qubits.ipynb\n",
    "\n",
    "Drift Hamiltonian\n",
    "=#\n",
    "\n",
    "H0 = [\n",
    "    0 0 0;\n",
    "    0 3.21505101e+10 0;\n",
    "    0 0 6.23173079e+10\n",
    "];\n",
    "\n",
    "H0 ./= norm(H0, Inf)\n",
    "\n",
    "# Control Hamiltonian\n",
    "V = [\n",
    "    0 1 0;\n",
    "    1 0 1.41421356;\n",
    "    0 1.41421356 0\n",
    "]\n",
    "\n",
    "V ./= norm(V, Inf);"
   ]
  },
  {
   "cell_type": "code",
   "execution_count": null,
   "id": "57ab3213",
   "metadata": {},
   "outputs": [],
   "source": []
  },
  {
   "cell_type": "markdown",
   "id": "1ff1015e",
   "metadata": {},
   "source": [
    "## Utilities for working with Polynomials"
   ]
  },
  {
   "cell_type": "code",
   "execution_count": 169,
   "id": "f4120afd",
   "metadata": {},
   "outputs": [
    {
     "data": {
      "text/plain": [
       "square_frobenius_norm (generic function with 1 method)"
      ]
     },
     "execution_count": 169,
     "metadata": {},
     "output_type": "execute_result"
    }
   ],
   "source": [
    "function ∫(p::AbstractPolynomial, x::PolyVar, x_lower, x_upper)\n",
    "    \n",
    "    # get the index of the variable of integration\n",
    "    ind_x = indexin([x], variables(p))[1]\n",
    "        \n",
    "    if isnothing(ind_x)\n",
    "        # integration valuable is not found among vars\n",
    "        return p * (x_upper - x_lower)\n",
    "    end\n",
    "    \n",
    "    # get the indefinite integral\n",
    "    int_p = sum(\n",
    "        coeff * term * x * 1 // (exponents(term)[ind_x] + 1)\n",
    "        for (coeff, term) in zip(coefficients(p), terms(p));\n",
    "        init = 0 * x\n",
    "    )\n",
    "        \n",
    "    # get the definite integral\n",
    "    subs(int_p, x=>x_upper) - subs(int_p, x=>x_lower)\n",
    "end\n",
    "\n",
    "function ∫(M::AbstractMatrix, x::PolyVar, x_lower, x_upper)\n",
    "   map(z -> ∫(z, x, x_lower, x_upper), M) \n",
    "end\n",
    "\n",
    "function real_poly(p::Polynomial)\n",
    "    #=\n",
    "    Real part of the polynomial\n",
    "    =#\n",
    "    sum(\n",
    "        real(c) * m for (c, m) in zip(coefficients(p), monomials(p))\n",
    "    )\n",
    "end\n",
    "\n",
    "function square_frobenius_norm(M::AbstractArray)\n",
    "    #=\n",
    "    Square of the Frobenius norm of a matrix\n",
    "    =#\n",
    "    real_poly(sum(z' * z for z in M))\n",
    "end"
   ]
  },
  {
   "cell_type": "markdown",
   "id": "52e52a8d",
   "metadata": {},
   "source": [
    "## Get the truncated Magnus expansion ($n=3$)"
   ]
  },
  {
   "cell_type": "code",
   "execution_count": 102,
   "id": "eb1f1ba4",
   "metadata": {},
   "outputs": [],
   "source": [
    "@polyvar x[1:4]\n",
    "@polyvar t[1:3]\n",
    "\n",
    "# final time\n",
    "T = 0.1\n",
    "\n",
    "function u(t, x)\n",
    "    # the polynomial shape for control\n",
    "    sum(x[n] * t^(n - 1) for n = 1:length(x))\n",
    "end\n",
    "\n",
    "function A(t, x)\n",
    "    #=\n",
    "    The generator of motion entering the Magnus expansion\n",
    "    =#\n",
    "    (H0 + V * u(t, x)) / im\n",
    "end\n",
    "\n",
    "function commutator(a, b)\n",
    "    a * b - b * a\n",
    "end \n",
    "\n",
    "# get the partial sum of the Magnus expansion\n",
    "A₁ = A(t[1], x)\n",
    "A₂ = A(t[2], x)\n",
    "\n",
    "Ω = ∫(A₁, t[1], 0, T)\n",
    "\n",
    "# 2nd term in the Magnus expansion\n",
    "Ω .+= 1//2 * ∫(∫(\n",
    "    commutator(A₁, A₂), \n",
    "    t[2], 0, t[1]), \n",
    "    t[1], 0, T\n",
    ")\n",
    "\n",
    "# 3nd term in the Magnus expansion\n",
    "\n",
    "A₃ = A(t[3], x)\n",
    "\n",
    "Ω .+= 1//6 * ∫(∫(∫(\n",
    "    commutator(A₁, commutator(A₂, A₃)) + commutator(commutator(A₁, A₂), A₃),\n",
    "    t[3], 0, t[2]),\n",
    "    t[2], 0, t[1]),\n",
    "    t[1], 0, T\n",
    ");"
   ]
  },
  {
   "cell_type": "markdown",
   "id": "67aee5a6",
   "metadata": {},
   "source": [
    "## Construct the polynomial $\\tanh_p \\frac{\\Omega^{(n)}}{2}$ with $n=p=3$"
   ]
  },
  {
   "cell_type": "code",
   "execution_count": 103,
   "id": "3abfe4d7",
   "metadata": {},
   "outputs": [],
   "source": [
    "Ω = convert(typeof(A₁), Ω)\n",
    "\n",
    "Ω²¼ = Ω^2 / 4\n",
    "\n",
    "tanh₃ = (Ω/2) * (I + Ω²¼ * (-1//3 * I + 2//15 * Ω²¼));"
   ]
  },
  {
   "cell_type": "markdown",
   "id": "8768cc6c",
   "metadata": {},
   "source": [
    "## Getting statistic for checking the performance of quantum control formulation as a polynomial optimization"
   ]
  },
  {
   "cell_type": "code",
   "execution_count": 189,
   "id": "d0770fc6",
   "metadata": {},
   "outputs": [
    {
     "data": {
      "text/plain": [
       "local_minimize (generic function with 1 method)"
      ]
     },
     "execution_count": 189,
     "metadata": {},
     "output_type": "execute_result"
    }
   ],
   "source": [
    "function get_unitray(x::AbstractArray)\n",
    "    #=\n",
    "    Get the unitary given the coefficients for the polynomial control\n",
    "    =#\n",
    "    basis = NLevelBasis(size(H0)[1])\n",
    "\n",
    "    𝓗₀ = DenseOperator(basis, basis, H0)\n",
    "    𝓥 = DenseOperator(basis, basis, V)\n",
    "\n",
    "    H = LazySum([1., u(0, x)], [𝓗₀, 𝓥])\n",
    "        \n",
    "    function 𝓗(t, psi)\n",
    "        H.factors[2] = u(t, x)\n",
    "        return H\n",
    "    end\n",
    "\n",
    "    _, 𝓤 = timeevolution.schroedinger_dynamic([0, T], identityoperator(basis, basis), 𝓗)\n",
    "    \n",
    "    return Matrix(𝓤[2].data)\n",
    "end\n",
    "\n",
    "\n",
    "function local_minimize(obj::AbstractPolynomial, init_x::AbstractArray)\n",
    "    #=\n",
    "    Perform local minimization of obj polynomial using init_x as initial guess\n",
    "    =#\n",
    "    vars = variables(obj)\n",
    "\n",
    "    @assert length(vars) == length(init_x)\n",
    "    \n",
    "    function g(a...)\n",
    "        # Converting polynomial expression to function to be minimize\n",
    "        obj(vars => a)\n",
    "    end\n",
    "    \n",
    "    model = Model(NLopt.Optimizer)\n",
    "\n",
    "    set_optimizer_attribute(model, \"algorithm\", :LD_MMA)\n",
    "\n",
    "    set_silent(model)\n",
    "    @variable(model, y[1:length(vars)])\n",
    "\n",
    "    # set initial guess\n",
    "    for (var, init_val) in zip(y, init_x)\n",
    "        set_start_value(var, init_val)\n",
    "    end\n",
    "\n",
    "    register(model, :g, length(y), g; autodiff = true)\n",
    "    @NLobjective(model, Min, g(y...))\n",
    "    JuMP.optimize!(model)\n",
    "\n",
    "    map(value, y)\n",
    "end"
   ]
  },
  {
   "cell_type": "code",
   "execution_count": 200,
   "id": "7d2864d4",
   "metadata": {},
   "outputs": [
    {
     "data": {
      "text/plain": [
       "2-element Vector{Float64}:\n",
       " 0.0\n",
       " 0.0"
      ]
     },
     "execution_count": 200,
     "metadata": {},
     "output_type": "execute_result"
    }
   ],
   "source": [
    "n_samples = 2\n",
    "\n",
    "# randomly generate the coefficients for the polynomial control \n",
    "exact_x = -1 .+ 2 * rand(length(x) * n_samples)\n",
    "exact_x = reshape(exact_x, (length(x), n_samples))\n",
    "\n",
    "# The values of objective functions for exact x\n",
    "obj_exact_x = zeros(n_samples)\n",
    "\n",
    "# the estimate of the global minimum of the polynomial objective function using MomentTools\n",
    "glob_obj_min = zeros(n_samples)\n",
    "\n",
    "# The global minimum via TSSOS library\n",
    "tssos_glob_obj_min = zeros(n_samples)\n",
    "\n",
    "# Frobenius norm difference between target and obtained unitaries\n",
    "norm_U_target_obtained = zeros(n_samples)\n",
    "\n",
    "# Convergence test for the Magnus expansion for the exact control (convergence_test_exact_x < 1)\n",
    "convergence_test_exact_x = zeros(n_samples)\n",
    "\n",
    "# Convergence test for the Magnus expansion for the obtained control (convergence_test_min_x < 1)\n",
    "convergence_test_min_x = zeros(n_samples)\n",
    "\n",
    "Threads.@threads for i=ProgressBar(1:n_samples)\n",
    "    act\n",
    "    # target unitray\n",
    "    U_target = get_unitray(exact_x[:, i])\n",
    "    \n",
    "    # get the polynomial objective function\n",
    "    obj = square_frobenius_norm(\n",
    "        I - U_target + (I + U_target) * tanh₃\n",
    "    )\n",
    "    \n",
    "    # save the value of objective function for exact x\n",
    "    obj_exact_x[i] = obj(exact_x[:, i])\n",
    "\n",
    "    \n",
    "    # Perform polynomial optimization using MomentTools\n",
    "    optimizer = optimizer_with_attributes(Mosek.Optimizer, \"QUIET\" => true)\n",
    "    glob_obj_min[i], M = minimize(obj, [], [], variables(obj), maxdegree(obj) ÷ 2, optimizer)\n",
    "    \n",
    "    # Extract the estimate for the global minimum \n",
    "    r = get_minimizers(M)\n",
    "    obj_min_vals = [obj(r[:,j]) for j=1:size(r)[2]]\n",
    "    min_x = r[:, argmin(obj_min_vals)]\n",
    "\n",
    "    # refine the estimate by local minimization\n",
    "    min_x = local_minimize(obj, min_x)\n",
    "\n",
    "\n",
    "    # Get the global minimum via TSSOS library\n",
    "    opt,sol,data = tssos_first(obj, variables(obj); QUIET = true)\n",
    "    \n",
    "    previous_opt = opt\n",
    "    \n",
    "    while ~isnothing(opt)\n",
    "        previous_opt = opt\n",
    "\n",
    "        opt,sol,data = tssos_higher!(data; QUIET = true)\n",
    "    end\n",
    "    \n",
    "    tssos_glob_obj_min[i] = previous_opt\n",
    "    \n",
    "    \n",
    "    # get the Frobenius norm difference between target and obtained unitaries\n",
    "    norm_U_target_obtained[i] = norm(U_target - get_unitray(min_x))\n",
    "\n",
    "    # Convergence test for the Magnus expansion for the exact control\n",
    "    convergence_test_exact_x[i] = quadgk(t -> opnorm(A(t, exact_x)), 0, T)[1] / π\n",
    "\n",
    "    # Convergence test for the Magnus expansion for the obtained control\n",
    "    convergence_test_min_x[i] = quadgk(t -> opnorm(A(t, min_x)), 0, T)[1] / π    \n",
    "    \n",
    "end;"
   ]
  },
  {
   "cell_type": "code",
   "execution_count": 202,
   "id": "8b6c5063",
   "metadata": {},
   "outputs": [
    {
     "data": {
      "text/plain": [
       "2-element Vector{Float64}:\n",
       " 1.980289441162809e-5\n",
       " 0.0"
      ]
     },
     "execution_count": 202,
     "metadata": {},
     "output_type": "execute_result"
    }
   ],
   "source": [
    "norm_U_target_obtained .^ 2"
   ]
  },
  {
   "cell_type": "code",
   "execution_count": 203,
   "id": "95abca1f",
   "metadata": {},
   "outputs": [
    {
     "data": {
      "text/plain": [
       "2-element Vector{Float64}:\n",
       " 0.02333892219141751\n",
       " 0.0"
      ]
     },
     "execution_count": 203,
     "metadata": {},
     "output_type": "execute_result"
    }
   ],
   "source": [
    "glob_obj_min"
   ]
  },
  {
   "cell_type": "code",
   "execution_count": 204,
   "id": "e2442195",
   "metadata": {},
   "outputs": [
    {
     "data": {
      "text/plain": [
       "2-element Vector{Float64}:\n",
       " 0.031830988792286206\n",
       " 0.0"
      ]
     },
     "execution_count": 204,
     "metadata": {},
     "output_type": "execute_result"
    }
   ],
   "source": [
    "convergence_test_min_x"
   ]
  },
  {
   "cell_type": "code",
   "execution_count": 205,
   "id": "781831da",
   "metadata": {},
   "outputs": [
    {
     "data": {
      "text/plain": [
       "2-element Vector{Float64}:\n",
       " 0.03188886414327108\n",
       " 0.0"
      ]
     },
     "execution_count": 205,
     "metadata": {},
     "output_type": "execute_result"
    }
   ],
   "source": [
    "convergence_test_exact_x"
   ]
  },
  {
   "cell_type": "code",
   "execution_count": null,
   "id": "8018bba0",
   "metadata": {},
   "outputs": [],
   "source": []
  }
 ],
 "metadata": {
  "kernelspec": {
   "display_name": "Julia 1.8.0-beta3",
   "language": "julia",
   "name": "julia-1.8"
  },
  "language_info": {
   "file_extension": ".jl",
   "mimetype": "application/julia",
   "name": "julia",
   "version": "1.8.0"
  }
 },
 "nbformat": 4,
 "nbformat_minor": 5
}
