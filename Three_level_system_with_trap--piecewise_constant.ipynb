{
 "cells": [
  {
   "cell_type": "markdown",
   "id": "6fe2d92f",
   "metadata": {},
   "source": [
    " # Demonstration of finding global maximum by using the example of a 3-level system with a trap [Pechen and Tannor *Phys. Rev. Lett.* **106**, 120402 (2011)](https://doi.org/10.1103/PhysRevLett.106.120402)"
   ]
  },
  {
   "cell_type": "code",
   "execution_count": 1,
   "id": "4ff6d52f",
   "metadata": {},
   "outputs": [],
   "source": [
    "using LinearAlgebra\n",
    "using DynamicPolynomials\n",
    "using HomotopyContinuation\n",
    "using SpecialFunctions\n",
    "using PyPlot"
   ]
  },
  {
   "cell_type": "markdown",
   "id": "8a52a036",
   "metadata": {},
   "source": [
    "## Quantum system"
   ]
  },
  {
   "cell_type": "code",
   "execution_count": 2,
   "id": "01f00272",
   "metadata": {},
   "outputs": [
    {
     "data": {
      "text/plain": [
       "3×3 Matrix{Int64}:\n",
       " 0  0  1\n",
       " 0  0  1\n",
       " 1  1  0"
      ]
     },
     "execution_count": 2,
     "metadata": {},
     "output_type": "execute_result"
    }
   ],
   "source": [
    "# https://journals.aps.org/prl/pdf/10.1103/PhysRevLett.106.120402\n",
    "\n",
    "# order: |1>, |2>, |3>\n",
    "H0 = Matrix(Diagonal([1, 1.1, 1.2]))\n",
    "\n",
    "\n",
    "# Control Hamiltonian\n",
    "V = [\n",
    "    0 0 1;\n",
    "    0 0 1;\n",
    "    1 1 0\n",
    "]\n"
   ]
  },
  {
   "cell_type": "markdown",
   "id": "efe1d6a1",
   "metadata": {},
   "source": [
    "## Chebyshve polynomial approximation for $\\exp(\\Delta t \\Omega)$"
   ]
  },
  {
   "cell_type": "code",
   "execution_count": 3,
   "id": "3b80a1f4",
   "metadata": {},
   "outputs": [
    {
     "data": {
      "text/plain": [
       "exp_chebyshev"
      ]
     },
     "execution_count": 3,
     "metadata": {},
     "output_type": "execute_result"
    }
   ],
   "source": [
    "\"\"\"\n",
    "Chebyshev approximation for exp(Δt Ω)\n",
    "\"\"\"\n",
    "function exp_chebyshev(Δt::Real, Ω::AbstractMatrix, order::Integer)\n",
    "    \n",
    "    Tₙ₋₁ = I\n",
    "    Tₙ  = Ω\n",
    "    \n",
    "    # The first two terms of Chebyshev series for exp\n",
    "    series = besselj(0, Δt) * Tₙ₋₁ + 2 * besselj(1, Δt) * Tₙ\n",
    "    \n",
    "    # To guarantee the convergence of the series \n",
    "    @assert order > Δt + 2\n",
    "    \n",
    "    for n=2:order\n",
    "        Tₙ₊₁  = 2 * Ω * Tₙ + Tₙ₋₁\n",
    "        \n",
    "        series += 2 * besselj(n, Δt) * Tₙ₊₁\n",
    "        \n",
    "        (Tₙ, Tₙ₋₁) = (Tₙ₊₁, Tₙ) \n",
    "    end\n",
    "    \n",
    "    series\n",
    "end"
   ]
  },
  {
   "cell_type": "markdown",
   "id": "7c452047",
   "metadata": {},
   "source": [
    "## Taylor series for $\\exp(\\Delta t \\Omega)$"
   ]
  },
  {
   "cell_type": "code",
   "execution_count": 4,
   "id": "fa3bb14b",
   "metadata": {},
   "outputs": [
    {
     "data": {
      "text/plain": [
       "exp_taylor (generic function with 1 method)"
      ]
     },
     "execution_count": 4,
     "metadata": {},
     "output_type": "execute_result"
    }
   ],
   "source": [
    "function exp_taylor(Δt::Real, Ω::AbstractMatrix, order::Integer)\n",
    "    \n",
    "    # The first two terms of the serie for exp\n",
    "    term = Δt * Ω\n",
    "    \n",
    "    series = I + term\n",
    "    \n",
    "    for n=2:order\n",
    "        term *= Δt * Ω * (1 // n) \n",
    "        \n",
    "        series += term\n",
    "    end\n",
    "    \n",
    "    series\n",
    "end"
   ]
  },
  {
   "cell_type": "markdown",
   "id": "1dd87832",
   "metadata": {},
   "source": [
    "## Utilities"
   ]
  },
  {
   "cell_type": "code",
   "execution_count": 5,
   "id": "9fee3ced",
   "metadata": {},
   "outputs": [
    {
     "data": {
      "text/plain": [
       "scaling_poly (generic function with 1 method)"
      ]
     },
     "execution_count": 5,
     "metadata": {},
     "output_type": "execute_result"
    }
   ],
   "source": [
    "function real_poly(p::Polynomial)\n",
    "    #=\n",
    "    Real part of the polynomial\n",
    "    =#\n",
    "    sum(\n",
    "        real(c) * m for (c, m) in zip(coefficients(p), monomials(p))# if ~isapproxzero(abs(c))\n",
    "    )\n",
    "end\n",
    "\n",
    "function square_frobenius_norm(M::AbstractArray)\n",
    "    #=\n",
    "    Square of the Frobenius norm of a matrix\n",
    "    =#\n",
    "    real_poly(sum(z' * z for z in M))\n",
    "end\n",
    "\n",
    "function propagate(x::Real)   \n",
    "    #=\n",
    "    Solve the equation of motion\n",
    "    =#\n",
    "    exp(-im * T * (H0 + x * V))\n",
    "end\n",
    "\n",
    "function 𝓤_propagation(x::AbstractArray)   \n",
    "    map(z -> z(x), 𝓤)\n",
    "end\n",
    "\n",
    "function scaling_poly(p::Polynomial)\n",
    "    #=\n",
    "    Estimate the scaling factor for the variables of a polynomial to make TSSOS computations numerically stable \n",
    "    =#\n",
    "    \n",
    "    # Simple linear gergression \n",
    "    linreg(x, y) = hcat(fill!(similar(x), 1), x) \\ y\n",
    "    \n",
    "    # Get the scaling \n",
    "    scaling = linreg(\n",
    "        [degree(t) for t in terms(p)], \n",
    "        log.(abs.(coefficients(p)))\n",
    "    )[2]\n",
    "            \n",
    "    exp(abs(scaling))\n",
    "end"
   ]
  },
  {
   "cell_type": "markdown",
   "id": "89a12d27",
   "metadata": {},
   "source": [
    "### Define the target observable $O$ whose expectation value is to be maximized "
   ]
  },
  {
   "cell_type": "code",
   "execution_count": 6,
   "id": "2d41546c",
   "metadata": {},
   "outputs": [
    {
     "data": {
      "text/plain": [
       "expectation_O (generic function with 1 method)"
      ]
     },
     "execution_count": 6,
     "metadata": {},
     "output_type": "execute_result"
    }
   ],
   "source": [
    "λ = [0.1, 1, 0]\n",
    "\n",
    "@assert size(λ)[1] == size(H0)[1]\n",
    "@assert λ[2] > λ[1] > λ[3]\n",
    "\n",
    "O = Diagonal(λ)\n",
    "\n",
    "function expectation_O(x::Real)\n",
    "    #=\n",
    "    The exact expectation value of O\n",
    "    =#\n",
    "    # |1> is the intial state\n",
    "    Ψ = propagate(x) * [1; 0; 0]\n",
    "    \n",
    "    real(Ψ' * O * Ψ)\n",
    "end"
   ]
  },
  {
   "cell_type": "markdown",
   "id": "c1f0d730",
   "metadata": {},
   "source": [
    "## Define the polynomial approximation for porpagators "
   ]
  },
  {
   "cell_type": "code",
   "execution_count": 7,
   "id": "13bf9495",
   "metadata": {},
   "outputs": [],
   "source": [
    "@polyvar x\n",
    "\n",
    "# final time\n",
    "const T = 0.5\n",
    "\n",
    "\"\"\"\n",
    "Get the polynomial approx of the obj function \n",
    "\"\"\"\n",
    "function get_obj(exp_approx)\n",
    "    \n",
    "    # This affects the Chebyshev expansion, but does not affect the Taylor expansion  \n",
    "    scale = 10.\n",
    "    \n",
    "    𝓤 = exp_approx(T * scale, -im * (H0 + x * V) / scale, 10)\n",
    "    ψ = 𝓤 * [1; 0; 0]\n",
    "    real_poly(ψ' * O * ψ)\n",
    "end\n",
    "\n",
    "\n",
    "obj_chebyshev = get_obj(exp_chebyshev);\n",
    "obj_taylor = get_obj(exp_taylor);"
   ]
  },
  {
   "cell_type": "code",
   "execution_count": 8,
   "id": "ff1b0e6f",
   "metadata": {},
   "outputs": [
    {
     "name": "stdout",
     "output_type": "stream",
     "text": [
      "\r",
      "\u001B[32mTracking 19 paths... 100%|██████████████████████████████| Time: 0:00:40\u001B[39m\r\n",
      "\u001B[34m  # paths tracked:                  19\u001B[39m\r\n",
      "\u001B[34m  # non-singular solutions (real):  19 (7)\u001B[39m\r\n",
      "\u001B[34m  # singular endpoints (real):      0 (0)\u001B[39m\r\n",
      "\u001B[34m  # total solutions (real):         19 (7)\u001B[39m\n"
     ]
    },
    {
     "data": {
      "text/plain": [
       "7-element Vector{Float64}:\n",
       "  7.7034097621294535\n",
       " -7.703409762129351\n",
       "  4.4414350226490225\n",
       "  0.8667668237502103\n",
       " -0.8667668237502103\n",
       " -4.441435022649022\n",
       "  0.0"
      ]
     },
     "execution_count": 8,
     "metadata": {},
     "output_type": "execute_result"
    }
   ],
   "source": [
    "result_chebyshev = HomotopyContinuation.solve([differentiate(obj_chebyshev, x)])\n",
    "critical_points_chebyshev = vcat(real_solutions(result_chebyshev)...)"
   ]
  },
  {
   "cell_type": "code",
   "execution_count": 9,
   "id": "eb347f75",
   "metadata": {},
   "outputs": [
    {
     "data": {
      "text/plain": [
       "7-element Vector{Float64}:\n",
       "  6.4137798316740335\n",
       "  0.0\n",
       " -4.426855211845736\n",
       " -0.8661151451235372\n",
       "  4.426855211845735\n",
       "  0.8661151451235373\n",
       " -6.413779831674043"
      ]
     },
     "execution_count": 9,
     "metadata": {},
     "output_type": "execute_result"
    }
   ],
   "source": [
    "result_taylor = HomotopyContinuation.solve([differentiate(obj_taylor, x)])\n",
    "critical_points_taylor = vcat(real_solutions(result_taylor)...)"
   ]
  },
  {
   "cell_type": "markdown",
   "id": "e1296a0b",
   "metadata": {},
   "source": [
    "# Plot results"
   ]
  },
  {
   "cell_type": "code",
   "execution_count": 10,
   "id": "37ab991d",
   "metadata": {},
   "outputs": [],
   "source": [
    "ξ = range(-10, 10, 1000)\n",
    "average_O = expectation_O.(ξ);"
   ]
  },
  {
   "cell_type": "code",
   "execution_count": 11,
   "id": "6cc5f1cb",
   "metadata": {},
   "outputs": [
    {
     "data": {
      "image/png": "[encoded data removed]",
      "text/plain": [
       "Figure(PyObject <Figure size 640x480 with 1 Axes>)"
      ]
     },
     "metadata": {},
     "output_type": "display_data"
    }
   ],
   "source": [
    "plot(ξ, average_O, label=L\"\\langle O \\rangle\")\n",
    "plot(ξ, obj_chebyshev.(ξ), \"--\", label=\"poly. approx. Chebyshev\")\n",
    "plot(ξ, obj_taylor.(ξ), \"--\", label=\"poly. approx. Taylor\")\n",
    "\n",
    "scatter(critical_points_chebyshev, obj_chebyshev.(critical_points_chebyshev), 100, marker=\"x\", color=\"r\", label=\"crytical point\")\n",
    "ylim(0, 1.2)\n",
    "\n",
    "xlabel(L\"x\" * \", control variable\")\n",
    "ylabel(L\"\\langle O \\rangle\")\n",
    "legend()\n",
    "\n",
    "savefig(\"Fig_OwithTrap.pdf\")\n",
    "\n",
    "show()"
   ]
  }
 ],
 "metadata": {
  "kernelspec": {
   "display_name": "Julia 1.7.2",
   "language": "julia",
   "name": "julia-1.7"
  },
  "language_info": {
   "file_extension": ".jl",
   "mimetype": "application/julia",
   "name": "julia",
   "version": "1.7.2"
  }
 },
 "nbformat": 4,
 "nbformat_minor": 5
}