{
 "cells": [
  {
   "cell_type": "code",
   "execution_count": null,
   "metadata": {},
   "outputs": [],
   "source": []
  },
  {
   "cell_type": "code",
   "execution_count": 1,
   "metadata": {},
   "outputs": [],
   "source": [
    "import matplotlib.pyplot as plt\n",
    "\n",
    "import numpy as np\n",
    "from scipy.linalg import logm, expm,eig\n",
    "\n",
    "from ncpol2sdpa import generate_variables, SdpRelaxation\n",
    "\n",
    "from qutip import propagator, Qobj\n",
    "\n",
    "from sympy import I, symbols, sympify, lambdify, Matrix, Float, Rational, pi, zeros, integrate, re\n",
    "# from sympy import , eye, diag, Float, , , I, re, sin, , , \n",
    "\n",
    "from sympy.matrices import randMatrix, matrix2numpy"
   ]
  },
  {
   "cell_type": "markdown",
   "metadata": {},
   "source": [
    "# Constructing quantum system"
   ]
  },
  {
   "cell_type": "code",
   "execution_count": 2,
   "metadata": {},
   "outputs": [],
   "source": [
    "def get_random_matrix(n):\n",
    "    \"\"\"\n",
    "    Generate random Hermitian matrix\n",
    "    \"\"\"\n",
    "    H = randMatrix(4, percent=100) + I * randMatrix(4, percent=80)\n",
    "    H = H.H + H\n",
    "    \n",
    "    return H / 200"
   ]
  },
  {
   "cell_type": "markdown",
   "metadata": {},
   "source": [
    "Generate random quantum system with the hamiltonian\n",
    "$\\hat{H}(t) = \\hat{H}_0 + u(t) \\hat{V}$,\n",
    "where $u(t)$ is a control field."
   ]
  },
  {
   "cell_type": "code",
   "execution_count": 3,
   "metadata": {},
   "outputs": [],
   "source": [
    "sys_params = dict(\n",
    "    H0 = get_random_matrix(4),\n",
    "    V = get_random_matrix(4),\n",
    "    T = 1, # final time\n",
    ")\n",
    "\n",
    "# convert sympy matrix to qutip objects for subsequent propagation \n",
    "H0 = Qobj(matrix2numpy(sys_params['H0']))\n",
    "V = Qobj(matrix2numpy(sys_params['V']))"
   ]
  },
  {
   "cell_type": "markdown",
   "metadata": {},
   "source": [
    "Propagate to get the target unitary with some chose control"
   ]
  },
  {
   "cell_type": "code",
   "execution_count": 4,
   "metadata": {},
   "outputs": [],
   "source": [
    "# the chosen control\n",
    "u_original_str = 'cos(5 * t)'\n",
    "\n",
    "# get target unitary\n",
    "U_target = propagator([H0, [V, u_original_str]], sys_params['T'])\n",
    "\n",
    "# covert the chosen control to the numpy function for plotting\n",
    "t = symbols('t')\n",
    "u_original = lambdify(t, sympify(u_original_str), 'numpy')"
   ]
  },
  {
   "cell_type": "markdown",
   "metadata": {},
   "source": [
    "Extract the generator of dynamics by constructing the projectors and eigenenergies\n",
    "\n",
    "$\\hat{U} = \\sum_{k=1}^N e^{i\\phi_k} |k\\rangle\\langle k|$"
   ]
  },
  {
   "cell_type": "code",
   "execution_count": 5,
   "metadata": {},
   "outputs": [],
   "source": [
    "vals, vects = eig(U_target)\n",
    "\n",
    "# eigenenergies \n",
    "phi = np.angle(vals) # these are phi_k\n",
    "\n",
    "# get projectors to eigenvectors\n",
    "projectors = []\n",
    "\n",
    "for psi in vects.T:\n",
    "    psi = psi[:, np.newaxis]\n",
    "    projectors.append(\n",
    "        psi * psi.T.conj()\n",
    "    )"
   ]
  },
  {
   "cell_type": "markdown",
   "metadata": {},
   "source": [
    "rounding the projectors to avoid weird errors in sympy due to numerical noise"
   ]
  },
  {
   "cell_type": "code",
   "execution_count": 6,
   "metadata": {},
   "outputs": [],
   "source": [
    "def round_matrix(G_exact):\n",
    "    \"\"\"\n",
    "    Rounding matrix\n",
    "    \"\"\"\n",
    "    for digit in range(10, 0, -1):\n",
    "        G_exact_aroud = np.around(G_exact, digit)\n",
    "        \n",
    "        if np.alltrue(G_exact_aroud == G_exact_aroud.T.conj()):\n",
    "            # sucess we got the hermitian matrix\n",
    "            return G_exact_aroud"
   ]
  },
  {
   "cell_type": "code",
   "execution_count": 7,
   "metadata": {},
   "outputs": [],
   "source": [
    "projectors = [Matrix(round_matrix(_)) for _ in projectors]\n",
    "phi = [Float(_) for _ in np.around(phi, 10)]"
   ]
  },
  {
   "cell_type": "markdown",
   "metadata": {},
   "source": [
    "# Construct the objective function\n",
    "\n",
    "$\\left\\| e^{i\\hat{G}} - e^{i\\hat{H}} \\right\\|_F \\leq \\left\\| \\hat{G} - \\hat{H} \\right\\|_F$\n",
    "for Hermitian $\\hat{G}$ and $\\hat{H}$"
   ]
  },
  {
   "cell_type": "code",
   "execution_count": 8,
   "metadata": {},
   "outputs": [],
   "source": [
    "def magnus_expansion(*, H0, V, u, T, **kwargs):\n",
    "    \"\"\"\n",
    "    Symbolically construct the first two terms in the Magnus expansion\n",
    "    \"\"\"\n",
    "    \n",
    "    # symbols\n",
    "    t1, t2 = symbols('t1, t2', real=True)\n",
    "    \n",
    "    # introduce alias \n",
    "    def h(t):\n",
    "        return H0 + V * u(t)\n",
    "    \n",
    "    def Commutator(a, b):\n",
    "        return a * b - b * a\n",
    "    \n",
    "    \n",
    "    first_order = -integrate(h(t1), (t1, 0, T))\n",
    "    \n",
    "    second_order = -I * Rational(1, 2) * integrate(\n",
    "        Commutator(integrate(h(t2), (t2, 0, t1)), h(t1)),\n",
    "        (t1, 0, T)\n",
    "    )\n",
    "    \n",
    "    return first_order + second_order"
   ]
  },
  {
   "cell_type": "code",
   "execution_count": 9,
   "metadata": {},
   "outputs": [],
   "source": [
    "# time variable\n",
    "t = symbols('t', real=True)\n",
    "\n",
    "# the coefficients as varaibles to be minimize over\n",
    "x = generate_variables('x', 4)\n",
    "\n",
    "# define controls symbolically\n",
    "u = lambdify(t, sum(c * t ** n_ for n_, c in enumerate(x)))"
   ]
  },
  {
   "cell_type": "markdown",
   "metadata": {},
   "source": [
    "# !!!!! Jakub, the following variables are the new integer !!!!"
   ]
  },
  {
   "cell_type": "code",
   "execution_count": 10,
   "metadata": {},
   "outputs": [],
   "source": [
    "n = generate_variables('n', len(phi))"
   ]
  },
  {
   "cell_type": "markdown",
   "metadata": {},
   "source": [
    "Objective function"
   ]
  },
  {
   "cell_type": "code",
   "execution_count": 11,
   "metadata": {},
   "outputs": [],
   "source": [
    "obj = (\n",
    "    (\n",
    "        magnus_expansion(u = u, **sys_params) \n",
    "        -\n",
    "        sum(\n",
    "            ((phi_ + 2 * pi * n_) * P for phi_, n_, P in zip(phi, n, projectors)),\n",
    "            zeros(len(n))\n",
    "        ) \n",
    "    ).norm() ** 2\n",
    ").simplify()"
   ]
  },
  {
   "cell_type": "markdown",
   "metadata": {},
   "source": [
    "Run optimization"
   ]
  },
  {
   "cell_type": "code",
   "execution_count": 12,
   "metadata": {},
   "outputs": [],
   "source": [
    "# Until Jakub fixes this, we set all n to zero\n",
    "obj = obj.subs(zip(n, [0] * len(n)))"
   ]
  },
  {
   "cell_type": "code",
   "execution_count": 13,
   "metadata": {},
   "outputs": [],
   "source": [
    "sdp = SdpRelaxation(x)\n",
    "sdp.get_relaxation(7, objective=re(obj))\n",
    "sdp.solve(solver='mosek')\n",
    "\n",
    "# extract the values of control\n",
    "if sdp.status == 'optimal':\n",
    "    opt_vals = [sdp[_] for _ in sdp.variables]\n",
    "    \n",
    "    # construct the control\n",
    "    t = symbols('t')\n",
    "    u_reconstructed = sum(c * t ** n_ for n_, c in enumerate(opt_vals))\n",
    "    \n",
    "    # Covert u_reconstructed to string for qutip below\n",
    "    u_reconstructed_str = str(u_reconstructed)\n",
    "    \n",
    "    # u_reconstructed for plotting\n",
    "    u_reconstructed = lambdify(t, u_reconstructed, 'numpy')"
   ]
  },
  {
   "cell_type": "markdown",
   "metadata": {},
   "source": [
    "Get the value of the objective function"
   ]
  },
  {
   "cell_type": "code",
   "execution_count": 14,
   "metadata": {},
   "outputs": [
    {
     "data": {
      "text/latex": [
       "$\\displaystyle 0.00429227482851788 + 2.79352034620433 \\cdot 10^{-18} i$"
      ],
      "text/plain": [
       "0.00429227482851788 + 2.79352034620433e-18*I"
      ]
     },
     "execution_count": 14,
     "metadata": {},
     "output_type": "execute_result"
    }
   ],
   "source": [
    "obj.subs(\n",
    "    zip(sdp.variables, (sdp[_] for _ in sdp.variables))\n",
    ").evalf()"
   ]
  },
  {
   "cell_type": "markdown",
   "metadata": {},
   "source": [
    "Plot the recovered control via combative pop vs the original control"
   ]
  },
  {
   "cell_type": "code",
   "execution_count": 15,
   "metadata": {},
   "outputs": [
    {
     "data": {
      "image/png": "[encoded data removed]",
      "text/plain": [
       "<Figure size 432x288 with 1 Axes>"
      ]
     },
     "metadata": {
      "needs_background": "light"
     },
     "output_type": "display_data"
    }
   ],
   "source": [
    "t = np.linspace(0, sys_params['T'], 100)\n",
    "\n",
    "plt.title('Controls')\n",
    "plt.plot(t, u_original(t), label='original')\n",
    "plt.plot(t, u_reconstructed(t), label='reconstructed')\n",
    "plt.ylabel('$u(t)$')\n",
    "plt.xlabel('t')\n",
    "plt.legend()\n",
    "plt.show()"
   ]
  },
  {
   "cell_type": "markdown",
   "metadata": {},
   "source": [
    "Get the norm difference between the target unitary and recovered unitary\n",
    "$\\left\\| e^{i\\hat{G}} - e^{i\\hat{H}} \\right\\|_F$"
   ]
  },
  {
   "cell_type": "code",
   "execution_count": 16,
   "metadata": {},
   "outputs": [
    {
     "data": {
      "text/plain": [
       "0.09715124654527188"
      ]
     },
     "execution_count": 16,
     "metadata": {},
     "output_type": "execute_result"
    }
   ],
   "source": [
    "Ug = propagator([H0, [V, u_reconstructed_str]], sys_params['T'])\n",
    "(Ug - U_target).norm()"
   ]
  },
  {
   "cell_type": "code",
   "execution_count": 17,
   "metadata": {},
   "outputs": [
    {
     "data": {
      "text/latex": [
       "Quantum object: dims = [[4], [4]], shape = (4, 4), type = oper, isherm = False\\begin{equation*}\\left(\\begin{array}{*{11}c}(-0.004-0.004j) & (-0.003-0.011j) & (0.013+0.005j) & (0.017-0.012j)\\\\(-0.003+2.079\\times10^{-04}j) & (-0.001-0.002j) & (-0.013+0.004j) & (0.004+0.006j)\\\\(-0.015+0.022j) & (0.001+0.003j) & (-0.007-0.002j) & (-0.003-0.017j)\\\\(-0.031+0.009j) & (-0.007+0.007j) & (-0.014-0.012j) & (0.002+0.003j)\\\\\\end{array}\\right)\\end{equation*}"
      ],
      "text/plain": [
       "Quantum object: dims = [[4], [4]], shape = (4, 4), type = oper, isherm = False\n",
       "Qobj data =\n",
       "[[-0.00448607-0.00449542j -0.0030052 -0.01106256j  0.01345558+0.00481428j\n",
       "   0.0174818 -0.01246186j]\n",
       " [-0.00325641+0.00020788j -0.00126744-0.0021602j  -0.01250293+0.00401427j\n",
       "   0.00360084+0.00577106j]\n",
       " [-0.01474973+0.02225972j  0.00108539+0.00251606j -0.00674364-0.00221097j\n",
       "  -0.00289359-0.01691106j]\n",
       " [-0.03067385+0.00911621j -0.00744936+0.00727101j -0.0138401 -0.01180446j\n",
       "   0.00206981+0.00275804j]]"
      ]
     },
     "execution_count": 17,
     "metadata": {},
     "output_type": "execute_result"
    }
   ],
   "source": [
    "U_target - Ug"
   ]
  }
 ],
 "metadata": {
  "kernelspec": {
   "display_name": "Python 3",
   "language": "python",
   "name": "python3"
  },
  "language_info": {
   "codemirror_mode": {
    "name": "ipython",
    "version": 3
   },
   "file_extension": ".py",
   "mimetype": "text/x-python",
   "name": "python",
   "nbconvert_exporter": "python",
   "pygments_lexer": "ipython3",
   "version": "3.7.6"
  }
 },
 "nbformat": 4,
 "nbformat_minor": 1
}
