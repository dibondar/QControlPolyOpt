{
 "cells": [
  {
   "cell_type": "markdown",
   "metadata": {},
   "source": [
    "# Quantum Control via Commutative Pop Opt with Unitary Preserving Pade Approximation for Magnus expansion"
   ]
  },
  {
   "cell_type": "code",
   "execution_count": 1,
   "metadata": {},
   "outputs": [],
   "source": [
    "import matplotlib.pyplot as plt\n",
    "import numpy as np\n",
    "from scipy.linalg import expm\n",
    "from sympy.physics.quantum.dagger import Dagger\n",
    "from qutip import propagator, Qobj\n",
    "from qcontrol_polyopt import *"
   ]
  },
  {
   "cell_type": "markdown",
   "metadata": {},
   "source": [
    "# Constructing a quantum system\n",
    "\n",
    "Generate a quantum system with the hamiltonian\n",
    "$\\hat{H}(t) = \\hat{H}_0 + u(t) \\hat{V}$,\n",
    "where $u(t)$ is a control field."
   ]
  },
  {
   "cell_type": "code",
   "execution_count": 2,
   "metadata": {},
   "outputs": [],
   "source": [
    "# Quantum system is taken from https://github.com/q-optimize/c3/blob/master/examples/two_qubits.ipynb\n",
    "\n",
    "# Drift Hamiltonian \n",
    "H0 = np.array([[0.00000000e+00+0.j, 0.00000000e+00+0.j, 0.00000000e+00+0.j],\n",
    "       [0.00000000e+00+0.j, 3.21505101e+10+0.j, 0.00000000e+00+0.j],\n",
    "       [0.00000000e+00+0.j, 0.00000000e+00+0.j, 6.23173079e+10+0.j]])\n",
    "\n",
    "# Normalize the drift Hamiltonian by its maximum.\n",
    "# This normalization factor can be accounted for by rescaling the time.\n",
    "H0 /= H0.max()\n",
    "\n",
    "\n",
    "# Control Hamiltonian\n",
    "V = np.array([[0.        +0.j, 1.        +0.j, 0.        +0.j],\n",
    "       [1.        +0.j, 0.        +0.j, 1.41421356+0.j],\n",
    "       [0.        +0.j, 1.41421356+0.j, 0.        +0.j]])\n",
    "\n",
    "# Normalize the control Hamiltonian by its maximum.\n",
    "# This normalization factor can be accounted for by rescaling the control field.\n",
    "V /= V.max()\n"
   ]
  },
  {
   "cell_type": "markdown",
   "metadata": {},
   "source": [
    "## Initialize class for polynomial control optimization"
   ]
  },
  {
   "cell_type": "code",
   "execution_count": 3,
   "metadata": {},
   "outputs": [],
   "source": [
    "control = QControlPolyOpt(H0=H0, V=V)"
   ]
  },
  {
   "cell_type": "markdown",
   "metadata": {},
   "source": [
    "# Define test control $u(t)$ and unitary target"
   ]
  },
  {
   "cell_type": "code",
   "execution_count": 4,
   "metadata": {},
   "outputs": [],
   "source": [
    "t = control.t\n",
    "\n",
    "np.random.seed(8262021)\n",
    "\n",
    "x_test = dict(zip(control.x, np.random.uniform(-1, 1, len(control.x))))\n",
    "u_test = lambdify(t, control.u(t).subs(x_test))"
   ]
  },
  {
   "cell_type": "markdown",
   "metadata": {},
   "source": [
    "Get the exact propagator using QuTip"
   ]
  },
  {
   "cell_type": "code",
   "execution_count": 5,
   "metadata": {},
   "outputs": [],
   "source": [
    "U_target = propagator(\n",
    "    [Qobj(H0), [Qobj(V), str(u_test(t))]], control.T,\n",
    ")"
   ]
  },
  {
   "cell_type": "markdown",
   "metadata": {},
   "source": [
    "# Magnus expansion"
   ]
  },
  {
   "cell_type": "markdown",
   "metadata": {},
   "source": [
    "Check whether the Magnus series converges by verifying that $\\int _{0}^{T}\\| \\hat{A}(s) \\|_{2}\\,ds<\\pi $"
   ]
  },
  {
   "cell_type": "code",
   "execution_count": 6,
   "metadata": {},
   "outputs": [],
   "source": [
    "assert integrate( control.A(u_test, t).norm(), (t, 0, control.T)).evalf() < np.pi, \\\n",
    "    \"Magnus series does not converge\""
   ]
  },
  {
   "cell_type": "code",
   "execution_count": 7,
   "metadata": {},
   "outputs": [
    {
     "data": {
      "text/latex": [
       "$\\displaystyle 1.2546045266512$"
      ],
      "text/plain": [
       "1.25460452665120"
      ]
     },
     "execution_count": 7,
     "metadata": {},
     "output_type": "execute_result"
    }
   ],
   "source": [
    "Omega = control.get_truncated_Magnus_expansion(u_test)\n",
    "Omega.norm()"
   ]
  },
  {
   "cell_type": "markdown",
   "metadata": {},
   "source": [
    "Get the Magnus propagator"
   ]
  },
  {
   "cell_type": "code",
   "execution_count": 8,
   "metadata": {},
   "outputs": [],
   "source": [
    "U_magnus = expm(np.array(Omega, dtype=np.complex))"
   ]
  },
  {
   "cell_type": "markdown",
   "metadata": {},
   "source": [
    "Compare the exact propagator with Magnus"
   ]
  },
  {
   "cell_type": "code",
   "execution_count": 9,
   "metadata": {},
   "outputs": [
    {
     "data": {
      "text/plain": [
       "0.001318226889863429"
      ]
     },
     "execution_count": 9,
     "metadata": {},
     "output_type": "execute_result"
    }
   ],
   "source": [
    "(U_target - U_magnus).norm()"
   ]
  },
  {
   "cell_type": "markdown",
   "metadata": {},
   "source": [
    "Evaluating Matrix exponent by unitarily preserving the Pade approximation (i.e., the Claye transform)\n",
    "$$\n",
    "    \\exp \\Omega = \\frac{1 + \\tanh(\\Omega/2)}{1 - \\tanh(\\Omega/2)}, \\\\\n",
    "    \\tanh(\\Omega/2) \\approx \\Omega/2 - \\frac{1}{3}(\\Omega/2)^3 \n",
    "    + \\frac{2}{15} (\\Omega/2)^5 \n",
    "     = \\Omega/2 \\left(1 + (\\Omega/2)^2 \\left[-\\frac{1}{3} +\\frac{2}{15} (\\Omega/2)^2 \\right] \\right)\n",
    "$$"
   ]
  },
  {
   "cell_type": "code",
   "execution_count": 10,
   "metadata": {},
   "outputs": [],
   "source": [
    "ident = control.ident\n",
    "approx_tanh = control.approx_tanh.subs(x_test)\n",
    "\n",
    "U_magnus_pade = (ident + approx_tanh) @ (ident - approx_tanh).inv()\n",
    "U_magnus_pade = U_magnus_pade.simplify()"
   ]
  },
  {
   "cell_type": "code",
   "execution_count": 11,
   "metadata": {},
   "outputs": [
    {
     "data": {
      "text/latex": [
       "$\\displaystyle 0.0021771877814125$"
      ],
      "text/plain": [
       "0.00217718778141250"
      ]
     },
     "execution_count": 11,
     "metadata": {},
     "output_type": "execute_result"
    }
   ],
   "source": [
    "(U_target - U_magnus_pade).norm()"
   ]
  },
  {
   "cell_type": "code",
   "execution_count": 12,
   "metadata": {},
   "outputs": [
    {
     "data": {
      "text/latex": [
       "$\\displaystyle 0.00202747089080841$"
      ],
      "text/plain": [
       "0.00202747089080841"
      ]
     },
     "execution_count": 12,
     "metadata": {},
     "output_type": "execute_result"
    }
   ],
   "source": [
    "(U_magnus - U_magnus_pade).norm()"
   ]
  },
  {
   "cell_type": "markdown",
   "metadata": {},
   "source": [
    "## Run Optimization\n",
    "\n",
    "print the value of target polynomial after running optimization"
   ]
  },
  {
   "cell_type": "code",
   "execution_count": 13,
   "metadata": {},
   "outputs": [
    {
     "data": {
      "text/latex": [
       "$\\displaystyle 2.57029154845512 \\cdot 10^{-6}$"
      ],
      "text/plain": [
       "2.57029154845512e-6"
      ]
     },
     "execution_count": 13,
     "metadata": {},
     "output_type": "execute_result"
    }
   ],
   "source": [
    "control.get_controls(U_target).obj_poly_val"
   ]
  },
  {
   "cell_type": "markdown",
   "metadata": {},
   "source": [
    "Control pulse found via the polynomial optimization"
   ]
  },
  {
   "cell_type": "code",
   "execution_count": 14,
   "metadata": {},
   "outputs": [
    {
     "data": {
      "text/latex": [
       "$\\displaystyle - 0.0341159244953954 t^{2} - 0.0681593515210482 t - 0.2759436141915$"
      ],
      "text/plain": [
       "-0.0341159244953954*t**2 - 0.0681593515210482*t - 0.2759436141915"
      ]
     },
     "execution_count": 14,
     "metadata": {},
     "output_type": "execute_result"
    }
   ],
   "source": [
    "control.u_opt(t)"
   ]
  },
  {
   "cell_type": "code",
   "execution_count": 15,
   "metadata": {},
   "outputs": [
    {
     "data": {
      "image/png": "[encoded data removed]",
      "text/plain": [
       "<Figure size 432x288 with 1 Axes>"
      ]
     },
     "metadata": {
      "needs_background": "light"
     },
     "output_type": "display_data"
    }
   ],
   "source": [
    "times = np.linspace(0, control.T, 500)\n",
    "\n",
    "plt.title('Controls')\n",
    "plt.plot(times, u_test(times), label='original')\n",
    "plt.plot(times, control.u_opt(times), label='reconstructed')\n",
    "plt.ylabel('$u(t)$')\n",
    "plt.xlabel('t')\n",
    "plt.legend()\n",
    "plt.show()"
   ]
  },
  {
   "cell_type": "markdown",
   "metadata": {},
   "source": [
    "Obtain the unitary that the found control synthesized  "
   ]
  },
  {
   "cell_type": "code",
   "execution_count": 16,
   "metadata": {},
   "outputs": [],
   "source": [
    "U_opt = propagator(\n",
    "    [Qobj(H0), [Qobj(V), str(control.u_opt(t))]], control.T,\n",
    ")"
   ]
  },
  {
   "cell_type": "markdown",
   "metadata": {},
   "source": [
    "Comparing the synthesized and target unitaries"
   ]
  },
  {
   "cell_type": "code",
   "execution_count": 17,
   "metadata": {},
   "outputs": [
    {
     "data": {
      "text/plain": [
       "0.0013445642675614905"
      ]
     },
     "execution_count": 17,
     "metadata": {},
     "output_type": "execute_result"
    }
   ],
   "source": [
    "(U_target - U_opt).norm(norm='fro')"
   ]
  },
  {
   "cell_type": "code",
   "execution_count": null,
   "metadata": {},
   "outputs": [],
   "source": []
  }
 ],
 "metadata": {
  "kernelspec": {
   "display_name": "Python 3",
   "language": "python",
   "name": "python3"
  },
  "language_info": {
   "codemirror_mode": {
    "name": "ipython",
    "version": 3
   },
   "file_extension": ".py",
   "mimetype": "text/x-python",
   "name": "python",
   "nbconvert_exporter": "python",
   "pygments_lexer": "ipython3",
   "version": "3.8.5"
  }
 },
 "nbformat": 4,
 "nbformat_minor": 4
}
