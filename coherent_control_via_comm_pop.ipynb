{
 "cells": [
  {
   "cell_type": "markdown",
   "metadata": {},
   "source": [
    "# Quantum Control via Commutative Pop Opt with Unitary Preserving Pade Approximation for Magnus expansion"
   ]
  },
  {
   "cell_type": "code",
   "execution_count": 1,
   "metadata": {},
   "outputs": [],
   "source": [
    "import matplotlib.pyplot as plt\n",
    "import numpy as np\n",
    "from functools import reduce\n",
    "from scipy.linalg import expm, logm\n",
    "from sympy.physics.quantum.dagger import Dagger\n",
    "from qutip import propagator, Qobj\n",
    "from sympy import I, eye, Rational, symbols, lambdify, sympify, Matrix, integrate, re\n",
    "from ncpol2sdpa import generate_variables, SdpRelaxation"
   ]
  },
  {
   "cell_type": "markdown",
   "metadata": {},
   "source": [
    "# Constructing a quantum system\n",
    "\n",
    "Generate a quantum system with the hamiltonian\n",
    "$\\hat{H}(t) = \\hat{H}_0 + u(t) \\hat{V}$,\n",
    "where $u(t)$ is a control field."
   ]
  },
  {
   "cell_type": "code",
   "execution_count": 2,
   "metadata": {},
   "outputs": [],
   "source": [
    "# Quantum system is taken from https://github.com/q-optimize/c3/blob/master/examples/two_qubits.ipynb\n",
    "\n",
    "# Drift Hamiltonian \n",
    "H0 = np.array([[0.00000000e+00+0.j, 0.00000000e+00+0.j, 0.00000000e+00+0.j],\n",
    "       [0.00000000e+00+0.j, 3.21505101e+10+0.j, 0.00000000e+00+0.j],\n",
    "       [0.00000000e+00+0.j, 0.00000000e+00+0.j, 6.23173079e+10+0.j]])\n",
    "\n",
    "# Normalize the drift Hamiltonian by its maximum.\n",
    "# This normalization factor can be accounted for by rescaling the time.\n",
    "H0 /= H0.max()\n",
    "\n",
    "\n",
    "# Control Hamiltonian\n",
    "V = np.array([[0.        +0.j, 1.        +0.j, 0.        +0.j],\n",
    "       [1.        +0.j, 0.        +0.j, 1.41421356+0.j],\n",
    "       [0.        +0.j, 1.41421356+0.j, 0.        +0.j]])\n",
    "\n",
    "# Normalize the control Hamiltonian by its maximum.\n",
    "# This normalization factor can be accounted for by rescaling the control field.\n",
    "V /= V.max()\n"
   ]
  },
  {
   "cell_type": "code",
   "execution_count": 3,
   "metadata": {},
   "outputs": [],
   "source": [
    "# convert to sympy matrix\n",
    "H0 = Matrix(H0)\n",
    "V = Matrix(V)"
   ]
  },
  {
   "cell_type": "code",
   "execution_count": 4,
   "metadata": {},
   "outputs": [],
   "source": [
    "# final time\n",
    "T = 1"
   ]
  },
  {
   "cell_type": "markdown",
   "metadata": {},
   "source": [
    "# Define control $u(t)$\n",
    "\n",
    "Declear unknowns"
   ]
  },
  {
   "cell_type": "code",
   "execution_count": 5,
   "metadata": {},
   "outputs": [],
   "source": [
    "x = generate_variables('x', 3)"
   ]
  },
  {
   "cell_type": "markdown",
   "metadata": {},
   "source": [
    "Declare time variables"
   ]
  },
  {
   "cell_type": "code",
   "execution_count": 6,
   "metadata": {},
   "outputs": [],
   "source": [
    "t, t1, t2, t3 = symbols('t, t1, t2, t3', real=True)"
   ]
  },
  {
   "cell_type": "markdown",
   "metadata": {},
   "source": [
    "Postulate the polynomial shape for controls"
   ]
  },
  {
   "cell_type": "code",
   "execution_count": 7,
   "metadata": {},
   "outputs": [
    {
     "data": {
      "text/latex": [
       "$\\displaystyle t^{2} x_{2} + t x_{1} + x_{0}$"
      ],
      "text/plain": [
       "t**2*x2 + t*x1 + x0"
      ]
     },
     "execution_count": 7,
     "metadata": {},
     "output_type": "execute_result"
    }
   ],
   "source": [
    "u = lambdify(t, sum(c * t ** n_ for n_, c in enumerate(x)))\n",
    "u(t)"
   ]
  },
  {
   "cell_type": "code",
   "execution_count": 8,
   "metadata": {},
   "outputs": [],
   "source": [
    "np.random.seed(8262021)\n",
    "\n",
    "x_test = dict(zip(x, np.random.uniform(-1, 1, len(x))))\n",
    "u_test = lambdify(t, u(t).subs(x_test))"
   ]
  },
  {
   "cell_type": "markdown",
   "metadata": {},
   "source": [
    "Get the exact propagator using QuTip"
   ]
  },
  {
   "cell_type": "code",
   "execution_count": 9,
   "metadata": {},
   "outputs": [],
   "source": [
    "U_target = propagator(\n",
    "    [Qobj(np.array(H0, dtype=np.complex)), \n",
    "     [Qobj(np.array(V, dtype=np.complex)), str(u_test(t))]], T,\n",
    ")"
   ]
  },
  {
   "cell_type": "markdown",
   "metadata": {},
   "source": [
    "# Magnus expansion\n",
    "\n",
    "Define generator of motion (i.e., Hamiltonian / I)"
   ]
  },
  {
   "cell_type": "code",
   "execution_count": 10,
   "metadata": {},
   "outputs": [],
   "source": [
    "def A(u, t):\n",
    "    return (H0 + V * u(t)) / I"
   ]
  },
  {
   "cell_type": "markdown",
   "metadata": {},
   "source": [
    "Check whether the Magnus series converges by verifying that $\\int _{0}^{T}\\| \\hat{A}(s) \\|_{2}\\,ds<\\pi $"
   ]
  },
  {
   "cell_type": "code",
   "execution_count": 11,
   "metadata": {},
   "outputs": [],
   "source": [
    "assert integrate( A(u_test, t1).norm(), (t1, 0, T)).evalf() < np.pi, \\\n",
    "    \"Magnus series does not converge\""
   ]
  },
  {
   "cell_type": "markdown",
   "metadata": {},
   "source": [
    "Define terms in the Magnus series"
   ]
  },
  {
   "cell_type": "code",
   "execution_count": 12,
   "metadata": {},
   "outputs": [],
   "source": [
    "def Commutator(a, b):\n",
    "    return a @ b - b @ a\n",
    "\n",
    "def get_Magnus_expansion(u):\n",
    "    A1 = A(u, t1)\n",
    "    A2 = A(u, t2)\n",
    "    A3 = A(u, t3)\n",
    "    \n",
    "    Omega1 = integrate(A1, (t1, 0, T))\n",
    "    \n",
    "    Omega2 = Rational(1, 2) * integrate(integrate(\n",
    "        Commutator(A1, A2),\n",
    "        (t2, 0, t1)), (t1, 0, T)\n",
    "    )\n",
    "\n",
    "    Omega3 = Rational(1, 6) * integrate(integrate(integrate(\n",
    "        Commutator(A1, Commutator(A2, A3))\n",
    "        + Commutator(Commutator(A1, A2), A3),\n",
    "        (t3, 0, t2)), (t2, 0, t1)), (t1, 0, T)\n",
    "    )\n",
    "\n",
    "    return Omega1, Omega2, Omega3\n",
    "\n",
    "def truncated_Magnus(u):\n",
    "    Omegas = get_Magnus_expansion(u)\n",
    "    \n",
    "    return Omegas[0] if len(Omegas) == 1 else reduce(lambda x, y: x + y, Omegas)"
   ]
  },
  {
   "cell_type": "code",
   "execution_count": 13,
   "metadata": {},
   "outputs": [],
   "source": [
    "Omegas = get_Magnus_expansion(u_test)"
   ]
  },
  {
   "cell_type": "markdown",
   "metadata": {},
   "source": [
    "Calculate the norms of each term in the Magnus expansion – it really converges"
   ]
  },
  {
   "cell_type": "code",
   "execution_count": 14,
   "metadata": {},
   "outputs": [
    {
     "data": {
      "text/plain": [
       "[1.25458362517900, 0.00724194216959389, 0.000897440104548722]"
      ]
     },
     "execution_count": 14,
     "metadata": {},
     "output_type": "execute_result"
    }
   ],
   "source": [
    "[_.norm() for _ in Omegas]"
   ]
  },
  {
   "cell_type": "markdown",
   "metadata": {},
   "source": [
    "Sum the truncated Magnus expansion and get its norm "
   ]
  },
  {
   "cell_type": "code",
   "execution_count": 15,
   "metadata": {},
   "outputs": [
    {
     "data": {
      "text/latex": [
       "$\\displaystyle 1.2545686937685$"
      ],
      "text/plain": [
       "1.25456869376850"
      ]
     },
     "execution_count": 15,
     "metadata": {},
     "output_type": "execute_result"
    }
   ],
   "source": [
    "Omega = reduce(lambda x, y: x + y, Omegas)\n",
    "Omega.norm()"
   ]
  },
  {
   "cell_type": "markdown",
   "metadata": {},
   "source": [
    "Get the Magnus propagator"
   ]
  },
  {
   "cell_type": "code",
   "execution_count": 16,
   "metadata": {},
   "outputs": [],
   "source": [
    "U_magnus = expm(np.array(Omega, dtype=np.complex))"
   ]
  },
  {
   "cell_type": "markdown",
   "metadata": {},
   "source": [
    "Compare the exact propagator with Magnus"
   ]
  },
  {
   "cell_type": "code",
   "execution_count": 17,
   "metadata": {},
   "outputs": [
    {
     "data": {
      "text/plain": [
       "6.944976104525545e-05"
      ]
     },
     "execution_count": 17,
     "metadata": {},
     "output_type": "execute_result"
    }
   ],
   "source": [
    "(U_target - U_magnus).norm()"
   ]
  },
  {
   "cell_type": "markdown",
   "metadata": {},
   "source": [
    "Evaluating Matrix exponent by unitarily preserving Made approximation (i.e., the Claye transform)\n",
    "$$\n",
    "    \\exp \\Omega = \\frac{1 + \\tanh(\\Omega/2)}{1 - \\tanh(\\Omega/2)}, \\\\\n",
    "    \\tanh(\\Omega/2) = (\\Omega_1 + \\Omega_2 )/2 + O\\left(\\| \\Omega_3 \\|_F\\right), \\\\\n",
    "    \\tanh(\\Omega/2) = (\\Omega_1 + \\Omega_2 + \\Omega_3 )/2 - \\Omega_1^3 / 24 + O\\left(\\| \\Omega_4 \\|_F\\right).\n",
    "$$"
   ]
  },
  {
   "cell_type": "code",
   "execution_count": 18,
   "metadata": {},
   "outputs": [],
   "source": [
    "ident = eye(Omega.shape[0])\n",
    "\n",
    "U_magnus_pade = (ident + Omega / 2 - Omegas[0] ** 3 / 24) \\\n",
    "                @ (ident - Omega / 2 + Omegas[0] ** 3 / 24).inv()\n",
    "U_magnus_pade = U_magnus_pade.simplify()"
   ]
  },
  {
   "cell_type": "code",
   "execution_count": 19,
   "metadata": {},
   "outputs": [
    {
     "data": {
      "text/latex": [
       "$\\displaystyle 0.014753976772778$"
      ],
      "text/plain": [
       "0.0147539767727780"
      ]
     },
     "execution_count": 19,
     "metadata": {},
     "output_type": "execute_result"
    }
   ],
   "source": [
    "(U_target - U_magnus_pade).norm()"
   ]
  },
  {
   "cell_type": "code",
   "execution_count": 20,
   "metadata": {},
   "outputs": [
    {
     "data": {
      "text/latex": [
       "$\\displaystyle 0.0147519323471524$"
      ],
      "text/plain": [
       "0.0147519323471524"
      ]
     },
     "execution_count": 20,
     "metadata": {},
     "output_type": "execute_result"
    }
   ],
   "source": [
    "(U_magnus - U_magnus_pade).norm()"
   ]
  },
  {
   "cell_type": "markdown",
   "metadata": {},
   "source": [
    "# Construct commutative polynomial optimization problem for solving quantum control\n",
    "\n",
    "$$\n",
    "P_3 [u(t)] = \\left\\| 1 - \\hat{U}_{T} + \\left(1 + \\hat{U}_{T}\\right) \\frac{\\Omega_1 + \\Omega_2}{2}\n",
    "    \\right\\|_F, \\notag\\\\\n",
    "P_4 [u(t)] = \\left\\| 1 - \\hat{U}_{T} + \\left(1 + \\hat{U}_{T}\\right) \\left(\\frac{\\Omega_1 + \\Omega_2 + \\Omega_3}{2} - \\frac{\\Omega_1^3}{24}\\right)\n",
    "    \\right\\|_F.\n",
    "$$"
   ]
  },
  {
   "cell_type": "code",
   "execution_count": 21,
   "metadata": {},
   "outputs": [],
   "source": [
    "Omegas = get_Magnus_expansion(u)\n",
    "\n",
    "#P3 = (\n",
    "#    ident - U_target + (ident + U_target) @ (Omegas[0] + Omegas[1]) / 2\n",
    "#).norm() ** 2\n",
    "\n",
    "P4 = (\n",
    "    ident - U_target + (ident + U_target) @ (\n",
    "        (Omegas[0] + Omegas[1] + Omegas[2]) / 2 - Omegas[0] ** 3 / 24\n",
    "    )\n",
    ").norm() ** 2\n"
   ]
  },
  {
   "cell_type": "markdown",
   "metadata": {},
   "source": [
    "Run Optimization"
   ]
  },
  {
   "cell_type": "code",
   "execution_count": 22,
   "metadata": {},
   "outputs": [],
   "source": [
    "sdp = SdpRelaxation(x)\n",
    "sdp.get_relaxation(5, objective=re(P4))\n",
    "sdp.solve(solver='mosek')\n",
    "\n",
    "# extract the values of control\n",
    "if sdp.status == 'optimal':\n",
    "    opt_x = {_:sdp[_] for _ in sdp.variables}\n",
    "    \n",
    "    u_opt = lambdify(t, u(t).subs(opt_x))\n",
    "else:\n",
    "    opt_x = {}\n",
    "    u_opt = None"
   ]
  },
  {
   "cell_type": "markdown",
   "metadata": {},
   "source": [
    "Control pulse found via the polynomial optimization"
   ]
  },
  {
   "cell_type": "code",
   "execution_count": 23,
   "metadata": {},
   "outputs": [
    {
     "data": {
      "text/latex": [
       "$\\displaystyle - 4.55284187860596 t^{2} + 4.43907033935201 t - 1.03054133006874$"
      ],
      "text/plain": [
       "-4.55284187860596*t**2 + 4.43907033935201*t - 1.03054133006874"
      ]
     },
     "execution_count": 23,
     "metadata": {},
     "output_type": "execute_result"
    }
   ],
   "source": [
    "u_opt(t)"
   ]
  },
  {
   "cell_type": "code",
   "execution_count": 24,
   "metadata": {},
   "outputs": [
    {
     "data": {
      "image/png": "[encoded data removed]",
      "text/plain": [
       "<Figure size 432x288 with 1 Axes>"
      ]
     },
     "metadata": {
      "needs_background": "light"
     },
     "output_type": "display_data"
    }
   ],
   "source": [
    "times = np.linspace(0, T, 500)\n",
    "\n",
    "plt.title('Controls')\n",
    "plt.plot(times, u_test(times), label='original')\n",
    "plt.plot(times, u_opt(times), label='reconstructed')\n",
    "plt.ylabel('$u(t)$')\n",
    "plt.xlabel('t')\n",
    "plt.legend()\n",
    "plt.show()"
   ]
  },
  {
   "cell_type": "markdown",
   "metadata": {},
   "source": [
    "Obtain the unitary that the found control synthesized  "
   ]
  },
  {
   "cell_type": "code",
   "execution_count": 25,
   "metadata": {},
   "outputs": [],
   "source": [
    "U_opt = propagator(\n",
    "    [Qobj(np.array(H0, dtype=np.complex)), \n",
    "     [Qobj(np.array(V, dtype=np.complex)), str(u_opt(t))]], T,\n",
    ")"
   ]
  },
  {
   "cell_type": "markdown",
   "metadata": {},
   "source": [
    "Comparing the synthesized and target unitaries"
   ]
  },
  {
   "cell_type": "code",
   "execution_count": 26,
   "metadata": {},
   "outputs": [
    {
     "data": {
      "text/plain": [
       "0.013367386645219907"
      ]
     },
     "execution_count": 26,
     "metadata": {},
     "output_type": "execute_result"
    }
   ],
   "source": [
    "(U_target - U_opt).norm()"
   ]
  }
 ],
 "metadata": {
  "kernelspec": {
   "display_name": "Python 3",
   "language": "python",
   "name": "python3"
  },
  "language_info": {
   "codemirror_mode": {
    "name": "ipython",
    "version": 3
   },
   "file_extension": ".py",
   "mimetype": "text/x-python",
   "name": "python",
   "nbconvert_exporter": "python",
   "pygments_lexer": "ipython3",
   "version": "3.8.5"
  }
 },
 "nbformat": 4,
 "nbformat_minor": 4
}
