{
 "cells": [
  {
   "cell_type": "code",
   "execution_count": null,
   "id": "706f200b",
   "metadata": {},
   "outputs": [],
   "source": []
  },
  {
   "cell_type": "code",
   "execution_count": 8,
   "id": "c875ef0d",
   "metadata": {},
   "outputs": [],
   "source": [
    "import h5py\n",
    "import matplotlib.pyplot as plt\n",
    "import matplotlib.gridspec as gridspec\n",
    "import numpy as np"
   ]
  },
  {
   "cell_type": "code",
   "execution_count": 9,
   "id": "204cf676",
   "metadata": {},
   "outputs": [
    {
     "name": "stdout",
     "output_type": "stream",
     "text": [
      "cy_grape_fid_error_timeslices_10.hdf5\n",
      "cy_grape_fid_error_timeslices_2.hdf5\n",
      "cy_grape_fid_error_timeslices_4.hdf5\n",
      "cy_grape_fid_error_timeslices_8.hdf5\n",
      "Fig_grape_crab_vs_pop.pdf\n",
      "Fig_grape_vs_pop.pdf\n",
      "LIN_qutip_opt_results_timeslices_10.hdf5\n",
      "LIN_qutip_opt_results_timeslices_2.hdf5\n",
      "LIN_qutip_opt_results_timeslices_4.hdf5\n",
      "LIN_qutip_opt_results_timeslices_8.hdf5\n",
      "plots-Copy1.ipynb\n",
      "plots.ipynb\n",
      "pulseoptim_fid_error_timeslices_10.hdf5\n",
      "pulseoptim_fid_error_timeslices_2.hdf5\n",
      "pulseoptim_fid_error_timeslices_4.hdf5\n",
      "pulseoptim_fid_error_timeslices_8.hdf5\n",
      "Quantum_optimal_control_GRAPE_methods.ipynb\n",
      "results_PiecewiseConst.hdf5\n",
      "RND_qutip_opt_results_timeslices_10.hdf5\n",
      "RND_qutip_opt_results_timeslices_2.hdf5\n",
      "RND_qutip_opt_results_timeslices_4.hdf5\n",
      "RND_qutip_opt_results_timeslices_8.hdf5\n",
      "SINE_qutip_opt_results_timeslices_10.hdf5\n",
      "SINE_qutip_opt_results_timeslices_2.hdf5\n",
      "SINE_qutip_opt_results_timeslices_4.hdf5\n",
      "SINE_qutip_opt_results_timeslices_8.hdf5\n",
      "ZERO_qutip_opt_results_timeslices_10.hdf5\n",
      "ZERO_qutip_opt_results_timeslices_2.hdf5\n",
      "ZERO_qutip_opt_results_timeslices_4.hdf5\n",
      "ZERO_qutip_opt_results_timeslices_8.hdf5\n"
     ]
    }
   ],
   "source": [
    "ls"
   ]
  },
  {
   "cell_type": "markdown",
   "id": "2f851645-9683-4ffd-8edb-e2d687ac6524",
   "metadata": {},
   "source": [
    "## Load data"
   ]
  },
  {
   "cell_type": "code",
   "execution_count": 12,
   "id": "27387432-662c-4ca0-b5f5-598bc6b38227",
   "metadata": {},
   "outputs": [],
   "source": [
    "# Load data from Qutip simulations\n",
    "        \n",
    "# Define time slice configurations to analyze\n",
    "timeslices = [2, 4, 8, 10,]\n",
    "\n",
    "# Initialize containers for fidelity errors\n",
    "cy_grape_fid_error = []\n",
    "pulseoptim_fid_error = []\n",
    "\n",
    "# Loop through each time slice configuration\n",
    "for n_ts in timeslices:\n",
    "    \n",
    "    # Generate filenames for different initial pulse conditions\n",
    "    filenames = [\n",
    "        f\"{cond}_qutip_opt_results_timeslices_{n_ts}.hdf5\" for cond in [\"ZERO\", \"SINE\", \"LIN\", \"RND\"]\n",
    "    ]\n",
    "    \n",
    "    # Temporary storage for current timeslice data\n",
    "    cy_grape_data = []\n",
    "    pulseoptim_data = []\n",
    "\n",
    "    # Load fidelity errors from each condition file\n",
    "    for fname in filenames:\n",
    "        with h5py.File(fname, 'r') as f:\n",
    "            pulseoptim_data.append(\n",
    "                f[\"pulseoptim_fid_error\"][...]  # CRAB method results\n",
    "            )\n",
    "            cy_grape_data.append(\n",
    "                f[\"cy_grape_fid_error\"][...]    # GRAPE method results\n",
    "            )\n",
    "\n",
    "    # Combine all conditions for current timeslice\n",
    "    cy_grape_fid_error.append(\n",
    "        np.hstack(cy_grape_data)\n",
    "    )\n",
    "    pulseoptim_fid_error.append(\n",
    "        np.hstack(pulseoptim_data)\n",
    "    )\n",
    "\n",
    "# Load QCPOP benchmark results\n",
    "with h5py.File('../results_PiecewiseConst.hdf5', 'r') as f:\n",
    "    pop_fid_error = 1 - f['f_PSU'][...]  # Convert fidelity to error"
   ]
  },
  {
   "cell_type": "markdown",
   "id": "d6ce4fd4-2ad0-4606-9d7c-8193fdb167c5",
   "metadata": {},
   "source": [
    "## Plot"
   ]
  },
  {
   "cell_type": "code",
   "execution_count": 14,
   "id": "d22cb5c6-1bba-4dd9-ae31-b0d1556e1c1b",
   "metadata": {},
   "outputs": [
    {
     "data": {
      "image/png": "[encoded data removed]",
      "text/plain": [
       "<Figure size 500x400 with 1 Axes>"
      ]
     },
     "metadata": {},
     "output_type": "display_data"
    }
   ],
   "source": [
    "import matplotlib.patches as mpatches\n",
    "\n",
    "# Create figure\n",
    "plt.figure(figsize=(5, 4))\n",
    "\n",
    "# Helper function to track legend labels\n",
    "labels = []\n",
    "def add_label(violin, label):\n",
    "    color = violin[\"bodies\"][0].get_facecolor().flatten()\n",
    "    labels.append((mpatches.Patch(color=color), label))\n",
    "\n",
    "# Create violin plots for each optimization method\n",
    "\n",
    "# CRAB results\n",
    "add_label(plt.violinplot([np.abs(_)  for _ in pulseoptim_fid_error]), \"CRAB\")\n",
    "\n",
    "\n",
    "# GRAPE results\n",
    "add_label(plt.violinplot([np.abs(_)  for _ in cy_grape_fid_error]), \"GRAPE\")    \n",
    "\n",
    "# QCPOP results\n",
    "add_label(plt.violinplot(pop_fid_error), \"QCPOP\")\n",
    "\n",
    "# Format plot\n",
    "plt.yscale('log')  # Log scale for better visibility of small errors\n",
    "\n",
    "plt.xticks(range(1, len(timeslices) + 1), timeslices )\n",
    "plt.xlabel(\"$m$, number of time slices\")\n",
    "\n",
    "plt.ylabel(\"$|1 - f_{PSU}|$\")  # Absolute fidelity error\n",
    "\n",
    "# Add legend in top-right corner\n",
    "plt.legend(*zip(*labels), loc=1)\n",
    "\n",
    "plt.tight_layout()\n",
    "\n",
    "# Save and display\n",
    "plt.savefig(\"Fig_grape_crab_vs_pop.pdf\")\n",
    "plt.show()"
   ]
  },
  {
   "cell_type": "code",
   "execution_count": null,
   "id": "60cbfe97-97a8-4532-ab7c-9042cc7706d7",
   "metadata": {},
   "outputs": [],
   "source": []
  }
 ],
 "metadata": {
  "kernelspec": {
   "display_name": "Python 3 (ipykernel)",
   "language": "python",
   "name": "python3"
  },
  "language_info": {
   "codemirror_mode": {
    "name": "ipython",
    "version": 3
   },
   "file_extension": ".py",
   "mimetype": "text/x-python",
   "name": "python",
   "nbconvert_exporter": "python",
   "pygments_lexer": "ipython3",
   "version": "3.12.2"
  }
 },
 "nbformat": 4,
 "nbformat_minor": 5
}
