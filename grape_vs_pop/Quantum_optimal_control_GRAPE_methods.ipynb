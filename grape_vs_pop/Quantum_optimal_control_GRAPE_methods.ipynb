{
 "cells": [
  {
   "cell_type": "markdown",
   "metadata": {},
   "source": [
    "# Code for Calculating the Frobenius Norm of target unitary from different GRAPE functions\n",
    "\n",
    "In this notebook, we use two different functions from the qutip control library (\"optimize_pulse_unitary\" from the pulseoptim object and \"cy_grape_unitary\" from the grape object), in order to implement the GRAPE algorithm. From this we obtain a final Unitary $\\hat U$ which should be close to some given target Unitary $\\hat U^*$. We then calculate the Frobenius norm squared of the difference between these two unitary as a measure of the error fidelity:\n",
    "\n",
    "$$ || A  ||_{F}^2  = Tr(A^{\\dagger}A) = \\sum_{ij}^{N} |A_{ij}|^{2}$$\n",
    "\n",
    "\n",
    "These values are then plotted against previously obtained results which obtained the unitary by reformulating the system in terms of a polynomial equation (https://arxiv.org/pdf/2209.05790.pdf) "
   ]
  },
  {
   "cell_type": "markdown",
   "metadata": {},
   "source": [
    "## Imports\n",
    "\n",
    "Below are the necessary imports for running this code:\n",
    "\n",
    "1) Qutip functions: \n",
    "\n",
    "\n",
    "The first line does import all qutip functions from the base object, which is used here to convery numpy arrays to Quantum objects using Qobj() and qeye() to create an identity operator of a specified size (here 3) as the initial starting point for the GRAPE algorithm.\n",
    "\n",
    "The next set of imports are functions used for the pulseoptim class and a logger class which formats the result when being printed to terminal/ saving the to a file (I don't think we need them)\n",
    "\n",
    "The final set of qutip imports are for implementing the cy_grape method. The TextProgressBar is justed used as a convenient way of tracking the progress of the function. (plot_grape_control_fields and _overlap are not necessary any more but are just used as tools for plotting the grape control fields and calculating the trace norm respectively)\n",
    "\n",
    "2) Other imports:\n",
    "\n",
    "\n",
    "The next set of imports are just the basic imports for simple tasks: \n",
    "matplotlib for plotting. \n",
    "\n",
    "numpy for storing and manipulating data.\n",
    "\n",
    "h5py for reading and writing hdf5 files. \n",
    "\n",
    "time for time-keeping.  \n"
   ]
  },
  {
   "cell_type": "code",
   "execution_count": 1,
   "metadata": {},
   "outputs": [],
   "source": [
    "from qutip import *\n",
    "\n",
    "#QuTiP control modules\n",
    "import qutip.control.pulseoptim as cpo\n",
    "import qutip.logging_utils as logging\n",
    "logger = logging.get_logger()\n",
    "#Set this to None or logging.WARN for 'quiet' execution\n",
    "log_level = logging.INFO\n",
    "\n",
    "from qutip.control import * \n",
    "from qutip.ui.progressbar import TextProgressBar\n",
    "from qutip.control.grape import plot_grape_control_fields, _overlap\n",
    "\n",
    "\n",
    "%matplotlib inline\n",
    "import numpy as np\n",
    "from numpy import linalg as LA\n",
    "import matplotlib.pyplot as plt\n",
    "#import datetime\n",
    "import h5py\n",
    "import time \n",
    "start_time = time.time()\n",
    "\n",
    "from tqdm.notebook import tqdm\n",
    "\n",
    "from multiprocessing import Pool"
   ]
  },
  {
   "cell_type": "markdown",
   "metadata": {},
   "source": [
    "## Preparing the input data\n",
    " \n",
    " \n",
    "\n",
    " \n",
    "In the cell below we read data from hdf5 files. The first is a list of 1000 3x3 target unitaries and the second is the frobenius norm calculated within the aforementioned paper. \n",
    "\n",
    "*Note: Bottom half of this cell may change as appending to an array can be computationally expensive* \n",
    "\n",
    "Sample here is used to denote the number of unitaries from the list that we would like to select and a for-loop is used to convert these unitaries into Qobj type which are stored in an array. Two empyt lists are also initialised which are used for storing data. \n"
   ]
  },
  {
   "cell_type": "code",
   "execution_count": 2,
   "metadata": {},
   "outputs": [],
   "source": [
    "#Read in the hdf5 files\n",
    "\n",
    "with h5py.File(\"../results.hdf5\", 'r') as resultsFile:\n",
    "    #extract the data and store in an array\n",
    "\n",
    "    U_targets = resultsFile[\"U_targets\"][...]\n",
    "    norm_U_target_minus_obtainedFile = resultsFile[\"norm_U_target_minus_obtained\"][...]\n",
    "    f_PSU = resultsFile[\"f_PSU\"][...]\n",
    "    \n",
    "sample = U_targets.shape[2] #choose number of target unitaries - this is choosing the full 1000\n",
    "\n",
    "#for storing the obtained unitaries (*)\n",
    "U_final_pulseoptim = []\n",
    "U_final_cyGRAPE = []"
   ]
  },
  {
   "cell_type": "markdown",
   "metadata": {},
   "source": [
    "## Choosing input parameters\n",
    "\n",
    "The dynamics of the system are generated by the time dependent Hamiltionian:\n",
    "\n",
    "$$H(t) = H_{0} + \\sum_{i} u_i(t)H_{i} $$\n",
    "\n",
    "Where $H_{0}$ is the drift Hamiltonian, $H_{i}$ are the control Hamiltonians and $u_{i}$ are the control fields. \n",
    "\n",
    "In the cell below we create Qobjs for $H_{0}$ and the single control $H_{c}$ according to the previously mentioned paper. We choose the Identity operator as the starting point for the GRAPE algorithm. We also can set the period over which the algorithm runs and the number of time slots at which act as the number of steps taken find a minimum in the landscape. \n",
    "\n",
    "(See https://qutip.org/docs/latest/guide/guide-control.html and the paper above for a more detail discussion)."
   ]
  },
  {
   "cell_type": "code",
   "execution_count": 3,
   "metadata": {
    "tags": []
   },
   "outputs": [],
   "source": [
    "H_drift_matrix = np.array(\n",
    "    [[0, 0, 0],\n",
    "     [0, 3.21505101e+10, 0],\n",
    "     [0, 0, 6.23173079e+10]]\n",
    ")\n",
    "H_drift_matrix /= H_drift_matrix.max()\n",
    "\n",
    "H_control_matrix = np.array(\n",
    "    [[0, 1, 0],\n",
    "     [1, 0, 1.41421356],\n",
    "     [0, 1.41421356, 0]]\n",
    ")\n",
    "H_control_matrix /= H_control_matrix.max()\n",
    "\n",
    "H_drift = Qobj(H_drift_matrix)\n",
    "H_control = [Qobj(H_control_matrix)] \n",
    " \n",
    "# Unitary starting point\n",
    "U_0 = qeye(3)\n",
    "\n",
    "\n",
    "# Number of time slots\n",
    "n_ts = 10\n",
    "\n",
    "# Time allowed for the evolution\n",
    "evo_time = 0.5"
   ]
  },
  {
   "cell_type": "markdown",
   "metadata": {},
   "source": [
    "## pulseoptim\n",
    "\n",
    "In the two cells below we run the function from the pulseoptim subclass. The first cell we select some more parameters for this function, these are:\n",
    " 1) fid_error_tar - when this fidelity error is achieved we can terminate the algorithm as we have sufficiently achieved our goal.\n",
    " 2) max_iterations - the max number of grape iterations \n",
    " 3) max_wall_time - maximum time the algorithm runs before terminating if the target unitary has not been reached\n",
    " 4) min_grad - minimum gradient to determine whether we are trapped in a local minima rather than a global minima \n",
    " 5) p_type - the type of pulse for the control fields (here set to random)\n",
    " \n",
    " \n",
    " The second cell then runs the algorithm with these parameters for each unitary in the sample size. The finial unitary is stored in the \"U_final_pulseoptim\" list and for each iteration the termination reason and the fidelity error is printed out. You can also extract other useful information from the result variable such as the final control fields, the number of iterations used etc. \n"
   ]
  },
  {
   "cell_type": "code",
   "execution_count": 4,
   "metadata": {
    "tags": []
   },
   "outputs": [],
   "source": [
    "#pulse optim extra params \n",
    "\n",
    "# Fidelity error target\n",
    "fid_err_targ = 1e-10\n",
    "# Maximum iterations for the optisation algorithm\n",
    "max_iter = 1000\n",
    "# Maximum (elapsed) time allowed in seconds\n",
    "max_wall_time = 1000\n",
    "# Minimum gradient (sum of gradients squared)\n",
    "# as this tends to 0 -> local minima has been found\n",
    "min_grad = 1e-10\n",
    "\n",
    "# pulse type alternatives: RND|ZERO|LIN|SINE|SQUARE|SAW|TRIANGLE|\n",
    "p_type = 'SINE' "
   ]
  },
  {
   "cell_type": "code",
   "execution_count": 5,
   "metadata": {},
   "outputs": [],
   "source": [
    "def optimize(U_tag, alg):\n",
    "    return cpo.optimize_pulse_unitary(\n",
    "                H_drift, H_control, U_0, Qobj(U_tag), n_ts, evo_time, \n",
    "                fid_err_targ=fid_err_targ, min_grad=min_grad, \n",
    "                max_iter=max_iter, max_wall_time=max_wall_time, \n",
    "                # log_level=log_level,\n",
    "                init_pulse_type=p_type, \n",
    "                alg=alg,\n",
    "                # gen_stats=True\n",
    "            ).evo_full_final"
   ]
  },
  {
   "cell_type": "code",
   "execution_count": 6,
   "metadata": {},
   "outputs": [
    {
     "data": {
      "application/vnd.jupyter.widget-view+json": {
       "model_id": "88bf8fb68e14403caa99511e0e2fb22c",
       "version_major": 2,
       "version_minor": 0
      },
      "text/plain": [
       "  0%|          | 0/1000 [00:00<?, ?it/s]"
      ]
     },
     "metadata": {},
     "output_type": "display_data"
    }
   ],
   "source": [
    "U_final_pulseoptim = [\n",
    "    optimize(U_targets[:,:,i], alg='CRAB') for i in tqdm(range(sample))\n",
    "]"
   ]
  },
  {
   "cell_type": "code",
   "execution_count": 7,
   "metadata": {},
   "outputs": [
    {
     "data": {
      "application/vnd.jupyter.widget-view+json": {
       "model_id": "f7cc686ae4e64e3c8d60e02e0f845e30",
       "version_major": 2,
       "version_minor": 0
      },
      "text/plain": [
       "  0%|          | 0/1000 [00:00<?, ?it/s]"
      ]
     },
     "metadata": {},
     "output_type": "display_data"
    }
   ],
   "source": [
    "U_final_cyGRAPE = [\n",
    "    optimize(U_targets[:,:,i], alg='GRAPE') for i in tqdm(range(sample))\n",
    "]"
   ]
  },
  {
   "cell_type": "markdown",
   "metadata": {
    "collapsed": true,
    "jupyter": {
     "outputs_hidden": true
    },
    "tags": []
   },
   "source": [
    "\n",
    "for i in tqdm(range(sample)):\n",
    "    i = 300\n",
    "    result = cpo.optimize_pulse_unitary(\n",
    "                H_drift, H_control, U_0, Qobj(U_targets[:,:,i]), n_ts, evo_time, \n",
    "                fid_err_targ=fid_err_targ, min_grad=min_grad, \n",
    "                max_iter=max_iter, max_wall_time=max_wall_time, \n",
    "                # log_level=log_level,\n",
    "                init_pulse_type=p_type, \n",
    "                #alg='GRAPE',\n",
    "                alg='CRAB',\n",
    "                gen_stats=False\n",
    "            )\n",
    "    print(\"Final fidelity error {}\".format(result.fid_err))\n",
    "    print(\"Terminated due to {}\".format(result.termination_reason))\n",
    "   \n",
    "    #Here all terminate due to convergence however if it terminates due to a different reason may cause a problem\n",
    "    #U_final_pulseoptim.append(result.evo_full_final)\n",
    "    \n",
    "    break"
   ]
  },
  {
   "cell_type": "markdown",
   "metadata": {},
   "source": [
    "## cy_grape \n",
    "\n",
    "In these two cells below we set the the parameters and run the cy_grape_unitary function. There are less inputs in this method:\n",
    "\n",
    "1) times - an array of where the number of elements = number of time slots and the final element is the period.\n",
    "2) n_iterations - number of grape iterations\n",
    "\n",
    "the second cell follows the same procedure as the cell above, however in this case we can track the progress of each iteration with TextProgressBar(). Here we only the store the final unitary, however one could extract other information from the result variable such as the final control fields (for each grape iteration). \n"
   ]
  },
  {
   "cell_type": "raw",
   "metadata": {
    "tags": []
   },
   "source": [
    "# cy_grape params\n",
    "times = np.linspace(0,evo_time,n_ts)\n",
    "n_iterations = max_iter"
   ]
  },
  {
   "cell_type": "raw",
   "metadata": {
    "collapsed": true,
    "jupyter": {
     "outputs_hidden": true
    },
    "tags": []
   },
   "source": [
    "start_time_cy_grape = time.time() - start_time\n",
    "for i in tqdm(range(sample)):\n",
    "    i = 100\n",
    "    result = cy_grape_unitary(\n",
    "        Qobj(U_targets[:,:,i]), H_drift, H_control, n_iterations, times, eps=2*np.pi/times[-1], \n",
    "        phase_sensitive=False, \n",
    "        # progress_bar=TextProgressBar()\n",
    "    )\n",
    "    U_final_cyGRAPE.append(result.U_f)\n",
    "    \n",
    "    print(\"Final fidelity error {}\".format(result.fid_err))\n",
    "    print(\"Terminated due to {}\".format(result.termination_reason))\n",
    "    \n",
    "    break"
   ]
  },
  {
   "cell_type": "code",
   "execution_count": null,
   "metadata": {},
   "outputs": [],
   "source": []
  },
  {
   "cell_type": "markdown",
   "metadata": {},
   "source": [
    "## Plotting Fidelity error (trace norm)\n",
    "This code is for calculating the trace norm (overlap) of the obtained and target unitaries:\n",
    "\n",
    "$\\frac{1}{d} |Tr[\\hat U^{\\dagger}\\hat U^{*}]| $,\n",
    "\n",
    "$d$ is the dimension of $\\hat U$.\n",
    "\n",
    "(currently not plotting this just calculating it. The cells for plotting have been commented out and folded as they still use TSSOS but will modify if needed)\n",
    "\n",
    "\n"
   ]
  },
  {
   "cell_type": "code",
   "execution_count": 10,
   "metadata": {
    "tags": []
   },
   "outputs": [],
   "source": [
    "#calculating fidelity\n",
    "\n",
    "pulseoptim_fidelity = np.zeros(sample)\n",
    "cy_grape_fidelity = np.zeros(sample)\n",
    "\n",
    "\n",
    "for i in range(sample):\n",
    "    pulseoptim_fidelity[i] = abs(_overlap(Qobj(U_targets[:,:,i]), U_final_pulseoptim[i]))\n",
    "    cy_grape_fidelity[i] = abs(_overlap(Qobj(U_targets[:,:,i]), U_final_cyGRAPE[i]))\n",
    "    \n",
    "\n",
    "\n",
    "pulseoptim_fid_error = 1 - pulseoptim_fidelity \n",
    "cy_grape_fid_error = 1 - cy_grape_fidelity\n"
   ]
  },
  {
   "cell_type": "markdown",
   "metadata": {},
   "source": [
    "# Writing data to hdf5"
   ]
  },
  {
   "cell_type": "code",
   "execution_count": 9,
   "metadata": {},
   "outputs": [],
   "source": [
    "with h5py.File('pulseoptim_fid_error_timeslices_' +str(n_ts) + '.hdf5', 'w') as hf:\n",
    "    hf.create_dataset(\"pulseoptim_fid_error_timeslices_\" +str(n_ts),  data=pulseoptim_fid_error)\n",
    "    \n",
    "with h5py.File('cy_grape_fid_error_timeslices_' + str(n_ts) + '.hdf5', 'w') as hf:\n",
    "     hf.create_dataset(\"cy_grape_fid_error_timeslices_\" + str(n_ts),  data=cy_grape_fid_error)"
   ]
  },
  {
   "cell_type": "code",
   "execution_count": null,
   "metadata": {},
   "outputs": [],
   "source": []
  }
 ],
 "metadata": {
  "kernelspec": {
   "display_name": "Python 3 (ipykernel)",
   "language": "python",
   "name": "python3"
  },
  "language_info": {
   "codemirror_mode": {
    "name": "ipython",
    "version": 3
   },
   "file_extension": ".py",
   "mimetype": "text/x-python",
   "name": "python",
   "nbconvert_exporter": "python",
   "pygments_lexer": "ipython3",
   "version": "3.7.11"
  }
 },
 "nbformat": 4,
 "nbformat_minor": 4
}
