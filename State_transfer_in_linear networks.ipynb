{
 "cells": [
  {
   "cell_type": "code",
   "execution_count": 1,
   "id": "d9003c3b",
   "metadata": {},
   "outputs": [],
   "source": [
    "using LinearAlgebra\n",
    "using DynamicPolynomials\n",
    "using SpecialFunctions\n",
    "using HomotopyContinuation\n",
    "using PyPlot"
   ]
  },
  {
   "cell_type": "markdown",
   "id": "999722f4",
   "metadata": {},
   "source": [
    "\n",
    "According to Section *State-transfer in linear networks* of [Kurt Jacobs *et al* 2016 EPL **114** 40007](https://iopscience.iop.org/article/10.1209/0295-5075/114/40007#epl17883s5), the equation of the motion for joint second moments\n",
    "$$\n",
    "    C = \\langle {\\bf v}^t {\\bf v} \\rangle \n",
    "    = \\begin{pmatrix}\n",
    "        \\langle a^2 \\rangle & \\langle  a a^{\\dagger} \\rangle & \\langle ab \\rangle & \\langle ab^{\\dagger} \\rangle \\\\\n",
    "        \\langle  a^\\dagger a \\rangle & \\langle a^{\\dagger} a^{\\dagger} \\rangle & \\langle a^{\\dagger} b \\rangle & \\langle a^{\\dagger} b^{\\dagger} \\rangle \\\\\n",
    "        \\langle ab \\rangle & \\langle a^{\\dagger} b \\rangle & \\langle b^2 \\rangle & \\langle b b^{\\dagger} \\rangle \\\\\n",
    "        \\langle a b^{\\dagger} \\rangle & \\langle a^{\\dagger} b^{\\dagger} \\rangle & \\langle b^{\\dagger} b \\rangle & \\langle b^{\\dagger} b^{\\dagger} \\rangle \n",
    "     \\end{pmatrix}\n",
    "$$\n",
    "is given by\n",
    "$$\n",
    "    \\partial_t C = AC + CA^T.\n",
    "$$\n",
    "\n",
    "$$\n",
    "    \\partial_t vec(C) = (A ⊗ 1 + 1 ⊗ A) vec(C) \n",
    "$$"
   ]
  },
  {
   "cell_type": "code",
   "execution_count": 2,
   "id": "397cb8df",
   "metadata": {},
   "outputs": [],
   "source": [
    "# the initial condition\n",
    "vecC₀ = [0; 1; 0; 0;   2; 0; 0; 0;   0; 0; 0; 0;   0; 0; 1; 0];"
   ]
  },
  {
   "cell_type": "code",
   "execution_count": 3,
   "id": "927ad3b4",
   "metadata": {},
   "outputs": [
    {
     "data": {
      "text/plain": [
       "A (generic function with 1 method)"
      ]
     },
     "execution_count": 3,
     "metadata": {},
     "output_type": "execute_result"
    }
   ],
   "source": [
    "# systems parameters\n",
    "ω = 1 #1 // 1\n",
    "g = 1 #1 // 1\n",
    "\n",
    "\n",
    "\n",
    "function A(λ₁)\n",
    "    # The matrix in the equation of motion for C\n",
    "    \n",
    "    im * [ω    0      -λ₁*g  -λ₁*g\n",
    "          0    -ω     λ₁*g  λ₁*g\n",
    "         -λ₁*g -λ₁*g  ω      0\n",
    "          λ₁*g λ₁*g   0     -ω]\n",
    "end"
   ]
  },
  {
   "cell_type": "markdown",
   "id": "6f4f7c78",
   "metadata": {},
   "source": [
    "## Utilities"
   ]
  },
  {
   "cell_type": "code",
   "execution_count": 4,
   "id": "ea5f9630",
   "metadata": {},
   "outputs": [
    {
     "data": {
      "text/plain": [
       "get_exact_obj (generic function with 1 method)"
      ]
     },
     "execution_count": 4,
     "metadata": {},
     "output_type": "execute_result"
    }
   ],
   "source": [
    "function real_poly(p::Polynomial)\n",
    "    #=\n",
    "    Real part of the polynomial\n",
    "    =#\n",
    "    sum(\n",
    "        real(c) * m for (c, m) in zip(coefficients(p), monomials(p))# if ~isapproxzero(abs(c))\n",
    "    )\n",
    "end\n",
    "\n",
    "function scaling_poly(p::Polynomial)\n",
    "    #=\n",
    "    Estimate the scaling factor for the variables of a polynomial to make TSSOS computations numerically stable \n",
    "    =#\n",
    "    \n",
    "    # Simple linear gergression \n",
    "    linreg(x, y) = hcat(fill!(similar(x), 1), x) \\ y\n",
    "    \n",
    "    # Get the scaling \n",
    "    scaling = linreg(\n",
    "        [degree(t) for t in terms(p)], \n",
    "        log.(abs.(coefficients(p)))\n",
    "    )[2]\n",
    "            \n",
    "    exp(abs(scaling))\n",
    "end\n",
    "\n",
    "\"\"\"\n",
    "The generator of motion\n",
    "\"\"\"\n",
    "function 𝓐(x)\n",
    "    a = A(x)\n",
    "    \n",
    "    𝓘 = Matrix(I, size(a))\n",
    "    \n",
    "    kron(a, 𝓘) + kron(𝓘, a)\n",
    "end\n",
    "\n",
    "function propagate(Δt::Real, λ::AbstractArray)   \n",
    "    #=\n",
    "    Solve the equation of motion\n",
    "    =#\n",
    "    prod(exp(Δt * 𝓐(λ₁)) for λ₁ in λ) * vecC₀\n",
    "end\n",
    "\n",
    "function get_exact_obj(Δt::Real, λ::AbstractArray) \n",
    "    real(propagate(Δt, λ)[2])\n",
    "end"
   ]
  },
  {
   "cell_type": "markdown",
   "id": "1b9aa8d1",
   "metadata": {},
   "source": [
    "## Chebyshve polynomial approximation for $\\exp_p(\\Delta t \\Omega)$"
   ]
  },
  {
   "cell_type": "code",
   "execution_count": 5,
   "id": "1c8844fb",
   "metadata": {},
   "outputs": [
    {
     "data": {
      "text/plain": [
       "exp_chebyshev"
      ]
     },
     "execution_count": 5,
     "metadata": {},
     "output_type": "execute_result"
    }
   ],
   "source": [
    "\"\"\"\n",
    "Chebyshev approximation for exp(Δt Ω)\n",
    "\"\"\"\n",
    "function exp_chebyshev(Δt::Real, Ω::AbstractMatrix, order::Integer)\n",
    "    \n",
    "    Tₙ₋₁ = I\n",
    "    Tₙ  = Ω\n",
    "    \n",
    "    # The first two terms of Chebyshev series for exp\n",
    "    series = besselj(0, Δt) * Tₙ₋₁ + 2 * besselj(1, Δt) * Tₙ\n",
    "    \n",
    "    # To guarantee the convergence of the series \n",
    "    @assert order > Δt + 2\n",
    "    \n",
    "    for n=2:order\n",
    "        Tₙ₊₁  = 2 * Ω * Tₙ + Tₙ₋₁\n",
    "        \n",
    "        series += 2 * besselj(n, Δt) * Tₙ₊₁\n",
    "        \n",
    "        (Tₙ, Tₙ₋₁) = (Tₙ₊₁, Tₙ) \n",
    "    end\n",
    "    \n",
    "    series\n",
    "end"
   ]
  },
  {
   "cell_type": "markdown",
   "id": "4e9c5cf0",
   "metadata": {},
   "source": [
    "### Fid the critical points of the polynomial approximation for the objective function $\\langle  a^\\dagger a \\rangle$  for a given number of time slices $m$ and scaling $\\kappa$ "
   ]
  },
  {
   "cell_type": "code",
   "execution_count": 6,
   "id": "6f718731",
   "metadata": {},
   "outputs": [
    {
     "data": {
      "text/plain": [
       "min_obj"
      ]
     },
     "execution_count": 6,
     "metadata": {},
     "output_type": "execute_result"
    }
   ],
   "source": [
    "\"\"\"\n",
    "Get the minimum of the exact objective function\n",
    "\n",
    "m - number of time slices\n",
    "κ - scaling \n",
    "\"\"\"\n",
    "function min_obj(m::Integer, κ::Real)\n",
    "    \n",
    "    @polyvar λ[1:m]\n",
    "    \n",
    "    T = 0.15\n",
    "    \n",
    "    Δt = T / m\n",
    "    \n",
    "    # Construct the polynomial approximation for the objective function \n",
    "    obj_propagator = prod(exp_chebyshev(Δt * κ, 𝓐(λ₁) / κ, 10) for λ₁ in λ);\n",
    "    obj = (obj_propagator * vecC₀)[2]\n",
    "    obj = real_poly(obj);\n",
    "    \n",
    "    # Find the critical points  \n",
    "    result = solve(differentiate.(obj, λ))\n",
    "    critical_points = real_solutions(result)\n",
    "    \n",
    "    # Get the exact values for the exact objective function for the found critical points  \n",
    "    val_obj = get_exact_obj.(Δt, critical_points)\n",
    "    \n",
    "    val_obj[argmin(val_obj)]\n",
    "end"
   ]
  },
  {
   "cell_type": "markdown",
   "id": "f0e336a4",
   "metadata": {},
   "source": [
    "### Scaling values to scan"
   ]
  },
  {
   "cell_type": "code",
   "execution_count": 7,
   "id": "1ccf54e0",
   "metadata": {},
   "outputs": [
    {
     "data": {
      "text/plain": [
       "25.0:3.75:40.0"
      ]
     },
     "execution_count": 7,
     "metadata": {},
     "output_type": "execute_result"
    }
   ],
   "source": [
    "Κ = range(25, 40, 5)"
   ]
  },
  {
   "cell_type": "markdown",
   "id": "52d33276",
   "metadata": {},
   "source": [
    "## Try 2 time slices "
   ]
  },
  {
   "cell_type": "code",
   "execution_count": 8,
   "id": "b2f275b0",
   "metadata": {},
   "outputs": [
    {
     "name": "stdout",
     "output_type": "stream",
     "text": [
      "\r",
      "\u001b[32mTracking 85 paths... 100%|██████████████████████████████| Time: 0:00:43\u001b[39m\r\n",
      "\u001b[34m  # paths tracked:                  85\u001b[39m\r\n",
      "\u001b[34m  # non-singular solutions (real):  57 (15)\u001b[39m\r\n",
      "\u001b[34m  # singular endpoints (real):      0 (0)\u001b[39m\r\n",
      "\u001b[34m  # total solutions (real):         57 (15)\u001b[39m\n"
     ]
    },
    {
     "data": {
      "text/plain": [
       "5-element Vector{Float64}:\n",
       " 1.0\n",
       " 1.0\n",
       " 1.0\n",
       " 1.0\n",
       " 1.0"
      ]
     },
     "execution_count": 8,
     "metadata": {},
     "output_type": "execute_result"
    }
   ],
   "source": [
    "min_obj_2time_slices = min_obj.(2, Κ)"
   ]
  },
  {
   "cell_type": "code",
   "execution_count": 9,
   "id": "404a8dd6",
   "metadata": {},
   "outputs": [
    {
     "data": {
      "image/png": "[encoded data removed]",
      "text/plain": [
       "Figure(PyObject <Figure size 640x480 with 1 Axes>)"
      ]
     },
     "metadata": {},
     "output_type": "display_data"
    }
   ],
   "source": [
    "title(\"2 time slices\")\n",
    "plot(Κ, min_obj_2time_slices, \"*-\")\n",
    "xlabel(L\"\\kappa\")\n",
    "ylabel(\"Minimum of \" * L\"\\langle  a^\\dagger a \\rangle\")\n",
    "show()"
   ]
  },
  {
   "cell_type": "markdown",
   "id": "13184aff",
   "metadata": {},
   "source": [
    "## Try 3 time slices "
   ]
  },
  {
   "cell_type": "code",
   "execution_count": 10,
   "id": "227cea22",
   "metadata": {},
   "outputs": [
    {
     "name": "stdout",
     "output_type": "stream",
     "text": [
      "\r",
      "\u001b[32mTracking 1783 paths... 100%|████████████████████████████| Time: 0:00:02\u001b[39m\r\n",
      "\u001b[34m  # paths tracked:                  1783\u001b[39m\r\n",
      "\u001b[34m  # non-singular solutions (real):  91 (35)\u001b[39m\r\n",
      "\u001b[34m  # singular endpoints (real):      0 (0)\u001b[39m\r\n",
      "\u001b[34m  # total solutions (real):         91 (35)\u001b[39m\n"
     ]
    },
    {
     "data": {
      "text/plain": [
       "5-element Vector{Float64}:\n",
       " 0.009593317681918734\n",
       " 0.008880146692916924\n",
       " 0.009722263028265843\n",
       " 0.012263192240794751\n",
       " 0.016704353334660027"
      ]
     },
     "execution_count": 10,
     "metadata": {},
     "output_type": "execute_result"
    }
   ],
   "source": [
    "min_obj_3time_slices = min_obj.(3, Κ)"
   ]
  },
  {
   "cell_type": "code",
   "execution_count": 11,
   "id": "a5b9b4bf",
   "metadata": {},
   "outputs": [
    {
     "data": {
      "image/png": "[encoded data removed]",
      "text/plain": [
       "Figure(PyObject <Figure size 640x480 with 1 Axes>)"
      ]
     },
     "metadata": {},
     "output_type": "display_data"
    }
   ],
   "source": [
    "title(\"3 time slices\")\n",
    "plot(Κ, min_obj_3time_slices, \"*-\")\n",
    "xlabel(L\"\\kappa\")\n",
    "ylabel(\"Minimum of \" * L\"\\langle  a^\\dagger a \\rangle\")\n",
    "show()"
   ]
  },
  {
   "cell_type": "code",
   "execution_count": 12,
   "id": "2c9306ff",
   "metadata": {},
   "outputs": [
    {
     "data": {
      "text/plain": [
       "0.0238732414637843"
      ]
     },
     "execution_count": 12,
     "metadata": {},
     "output_type": "execute_result"
    }
   ],
   "source": [
    "0.15 / (2. * π)"
   ]
  },
  {
   "cell_type": "markdown",
   "id": "87015db8",
   "metadata": {},
   "source": [
    "## Repeat of 3 time slices "
   ]
  },
  {
   "cell_type": "code",
   "execution_count": 13,
   "id": "1f1bd6ba",
   "metadata": {},
   "outputs": [
    {
     "name": "stdout",
     "output_type": "stream",
     "text": [
      "\r",
      "\u001b[32mTracking 1783 paths... 100%|████████████████████████████| Time: 0:00:02\u001b[39m\r\n",
      "\u001b[34m  # paths tracked:                  1783\u001b[39m\r\n",
      "\u001b[34m  # non-singular solutions (real):  96 (35)\u001b[39m\r\n",
      "\u001b[34m  # singular endpoints (real):      0 (0)\u001b[39m\r\n",
      "\u001b[34m  # total solutions (real):         96 (35)\u001b[39m\n"
     ]
    },
    {
     "data": {
      "text/plain": [
       "5-element Vector{Float64}:\n",
       " 0.009593317681918734\n",
       " 0.008880146692916924\n",
       " 0.009722263028265843\n",
       " 0.012263192240794751\n",
       " 0.016704353334660027"
      ]
     },
     "execution_count": 13,
     "metadata": {},
     "output_type": "execute_result"
    }
   ],
   "source": [
    "min_obj_3time_slices = min_obj.(3, Κ)"
   ]
  },
  {
   "cell_type": "code",
   "execution_count": 14,
   "id": "543316b8",
   "metadata": {},
   "outputs": [
    {
     "data": {
      "image/png": "[encoded data removed]",
      "text/plain": [
       "Figure(PyObject <Figure size 640x480 with 1 Axes>)"
      ]
     },
     "metadata": {},
     "output_type": "display_data"
    }
   ],
   "source": [
    "title(\"Re-run of 3 time slices\")\n",
    "plot(Κ, min_obj_3time_slices, \"*-\")\n",
    "xlabel(L\"\\kappa\")\n",
    "ylabel(\"Minimum of \" * L\"\\langle  a^\\dagger a \\rangle\")\n",
    "show()"
   ]
  },
  {
   "cell_type": "code",
   "execution_count": null,
   "id": "712e330e",
   "metadata": {},
   "outputs": [],
   "source": []
  }
 ],
 "metadata": {
  "kernelspec": {
   "display_name": "Julia 1.8.5",
   "language": "julia",
   "name": "julia-1.8"
  },
  "language_info": {
   "file_extension": ".jl",
   "mimetype": "application/julia",
   "name": "julia",
   "version": "1.8.5"
  }
 },
 "nbformat": 4,
 "nbformat_minor": 5
}
