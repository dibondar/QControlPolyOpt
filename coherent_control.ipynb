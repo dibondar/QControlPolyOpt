{
 "cells": [
  {
   "cell_type": "code",
   "execution_count": null,
   "metadata": {},
   "outputs": [],
   "source": []
  },
  {
   "cell_type": "code",
   "execution_count": 1008,
   "metadata": {},
   "outputs": [],
   "source": [
    "import matplotlib.pyplot as plt\n",
    "\n",
    "import numpy as np\n",
    "from scipy.linalg import logm, expm\n",
    "\n",
    "from ncpol2sdpa import generate_variables, SdpRelaxation\n",
    "\n",
    "from qutip import sigmax, sigmay, sigmaz, propagator, tensor, Qobj\n",
    "\n",
    "from sympy import Matrix, eye, diag, Float, Rational, symbols, I, re, sin, lambdify, integrate, sympify\n",
    "\n",
    "from sympy.matrices import randMatrix, matrix2numpy\n",
    "\n",
    "from sympy.physics.quantum import TensorProduct, Commutator"
   ]
  },
  {
   "cell_type": "code",
   "execution_count": 14,
   "metadata": {},
   "outputs": [],
   "source": [
    "sx = Matrix(sigmax())"
   ]
  },
  {
   "cell_type": "code",
   "execution_count": 463,
   "metadata": {},
   "outputs": [
    {
     "data": {
      "text/plain": [
       "array([[0.54030231+0.j        , 0.        +0.84147098j],\n",
       "       [0.        +0.84147098j, 0.54030231+0.j        ]])"
      ]
     },
     "execution_count": 463,
     "metadata": {},
     "output_type": "execute_result"
    }
   ],
   "source": [
    "expm(1j * np.array(sigmax()))"
   ]
  },
  {
   "cell_type": "code",
   "execution_count": null,
   "metadata": {},
   "outputs": [],
   "source": []
  },
  {
   "cell_type": "code",
   "execution_count": 17,
   "metadata": {},
   "outputs": [],
   "source": [
    "a = tensorproduct(sx, eye(2))"
   ]
  },
  {
   "cell_type": "code",
   "execution_count": 19,
   "metadata": {},
   "outputs": [
    {
     "data": {
      "text/plain": [
       "False"
      ]
     },
     "execution_count": 19,
     "metadata": {},
     "output_type": "execute_result"
    }
   ],
   "source": [
    "a.is_Matrix"
   ]
  },
  {
   "cell_type": "markdown",
   "metadata": {},
   "source": [
    "The function generating \n",
    "$N\\Delta t \\left[\\hat{1} \\otimes \\hat{H}_0 + u((\\hat{T} + \\hat{1}/2) \\Delta t ) \\otimes \\hat{V}\\right]$"
   ]
  },
  {
   "cell_type": "code",
   "execution_count": 434,
   "metadata": {},
   "outputs": [],
   "source": [
    "def control_gen(*, H0, V, N, dt, u, **kwargs):\n",
    "    \n",
    "    # Evaluate u((\\hat{T} + \\hat{1}/2) \\Delta t )\n",
    "    u_term = diag(*(\n",
    "        u(dt * (k +  Rational(1, 2))) for k in range(N)\n",
    "    ))\n",
    "        \n",
    "    return N * dt * (TensorProduct(eye(N), H0) + TensorProduct(u_term, V))"
   ]
  },
  {
   "cell_type": "markdown",
   "metadata": {},
   "source": [
    "The cost function to be minimized \n",
    "$\\left\\| N\\Delta t \\left[\\hat{1} \\otimes \\hat{H}_0 + u((\\hat{T} + \\hat{1}/2) \\Delta t ) \\otimes \\hat{V}\\right] + \\hat{1} \\otimes \\hat{G}\\right\\|_F^2 \\to \\min.$"
   ]
  },
  {
   "cell_type": "code",
   "execution_count": 484,
   "metadata": {},
   "outputs": [],
   "source": [
    "def J(*, N, G, **kwargs):\n",
    "    return (\n",
    "        control_gen(N=N, **kwargs) + TensorProduct(eye(N), G)\n",
    "    ).norm() ** 2"
   ]
  },
  {
   "cell_type": "code",
   "execution_count": 485,
   "metadata": {},
   "outputs": [],
   "source": [
    "def MatrixJ(*, N, G, **kwargs):\n",
    "    return        control_gen(N=N, **kwargs) + TensorProduct(eye(N), G)\n",
    "    "
   ]
  },
  {
   "cell_type": "code",
   "execution_count": 486,
   "metadata": {},
   "outputs": [],
   "source": [
    "def expm_control_gen(*, N, G, **kwargs):\n",
    "    return (-1j * control_gen(N=N, **kwargs)).exp().evalf()"
   ]
  },
  {
   "cell_type": "code",
   "execution_count": 490,
   "metadata": {},
   "outputs": [],
   "source": [
    "def expG(*, N, G, **kwargs):\n",
    "    return TensorProduct(eye(N), (1j * G).exp()).evalf()"
   ]
  },
  {
   "cell_type": "markdown",
   "metadata": {},
   "source": [
    "# Example"
   ]
  },
  {
   "cell_type": "code",
   "execution_count": 838,
   "metadata": {},
   "outputs": [],
   "source": [
    "H0 = randMatrix(4, percent=100) + I * randMatrix(4, percent=80)\n",
    "H0 = H0.H + H0\n",
    "\n",
    "V = randMatrix(4, percent=100) + I * randMatrix(4, percent=80)\n",
    "V = V.H + V\n",
    "\n",
    "sys_params = dict(\n",
    "    H0 = H0,\n",
    "    V = V,\n",
    "        \n",
    "    dt = Rational(1, 10),\n",
    "    N = 10,\n",
    ")\n",
    "\n",
    "H0 = Qobj(matrix2numpy(sys_params['H0']))\n",
    "V = Qobj(matrix2numpy(sys_params['V']))"
   ]
  },
  {
   "cell_type": "code",
   "execution_count": null,
   "metadata": {},
   "outputs": [],
   "source": []
  },
  {
   "cell_type": "code",
   "execution_count": null,
   "metadata": {},
   "outputs": [],
   "source": []
  },
  {
   "cell_type": "code",
   "execution_count": 840,
   "metadata": {},
   "outputs": [],
   "source": [
    "U = propagator([H0, [V, 't ** 2']], 4)"
   ]
  },
  {
   "cell_type": "code",
   "execution_count": 843,
   "metadata": {},
   "outputs": [],
   "source": [
    "sys_params['G'] = Matrix(np.around(logm(U), 4) / 1j)"
   ]
  },
  {
   "cell_type": "code",
   "execution_count": 844,
   "metadata": {},
   "outputs": [
    {
     "data": {
      "text/latex": [
       "$\\displaystyle \\left[\\begin{matrix}0.7528 & -0.3401 - 0.4321 i & -0.428 - 1.0452 i & 0.0113 + 0.3432 i\\\\-0.3401 + 0.432 i & -0.6011 & -0.7467 + 0.2925 i & -1.2395 + 0.5125 i\\\\-0.428 + 1.0451 i & -0.7467 - 0.2924 i & -0.0009 & -0.8962 + 1.272 i\\\\0.0113 - 0.3432 i & -1.2395 - 0.5125 i & -0.8963 - 1.2721 i & -0.0326\\end{matrix}\\right]$"
      ],
      "text/plain": [
       "Matrix([\n",
       "[           0.7528, -0.3401 - 0.4321*I,  -0.428 - 1.0452*I,  0.0113 + 0.3432*I],\n",
       "[-0.3401 + 0.432*I,            -0.6011, -0.7467 + 0.2925*I, -1.2395 + 0.5125*I],\n",
       "[-0.428 + 1.0451*I, -0.7467 - 0.2924*I,            -0.0009,  -0.8962 + 1.272*I],\n",
       "[0.0113 - 0.3432*I, -1.2395 - 0.5125*I, -0.8963 - 1.2721*I,            -0.0326]])"
      ]
     },
     "execution_count": 844,
     "metadata": {},
     "output_type": "execute_result"
    }
   ],
   "source": [
    "sys_params['G']"
   ]
  },
  {
   "cell_type": "code",
   "execution_count": 845,
   "metadata": {},
   "outputs": [
    {
     "data": {
      "text/latex": [
       "$\\displaystyle 266.682 x_{0}^{2} + 266.682 x_{0} x_{1} + 177.34353 x_{0} x_{2} + 395.507844 x_{0} + 88.671765 x_{1}^{2} + 132.674295 x_{1} x_{2} + 197.753922 x_{1} - 4.99600361081321 \\cdot 10^{-16} i x_{1} + 52.8927078225 x_{2}^{2} + 131.50635813 x_{2} - 4.99600361081321 \\cdot 10^{-16} i x_{2} + 240.323434188$"
      ],
      "text/plain": [
       "266.682*x0**2 + 266.682*x0*x1 + 177.34353*x0*x2 + 395.507844*x0 + 88.671765*x1**2 + 132.674295*x1*x2 + 197.753922*x1 - 4.99600361081321e-16*I*x1 + 52.8927078225*x2**2 + 131.50635813*x2 - 4.99600361081321e-16*I*x2 + 240.323434188"
      ]
     },
     "execution_count": 845,
     "metadata": {},
     "output_type": "execute_result"
    }
   ],
   "source": [
    "(obj)"
   ]
  },
  {
   "cell_type": "code",
   "execution_count": 846,
   "metadata": {},
   "outputs": [
    {
     "name": "stdout",
     "output_type": "stream",
     "text": [
      "[-0.6482934195176792, 3.693863442391718e-08, 2.6555582661506082e-08]\n"
     ]
    }
   ],
   "source": [
    "x = generate_variables('x', 3)\n",
    "\n",
    "obj = J(u=lambda t: x[0] + x[1] * t + x[2] * t ** 2, **sys_params).simplify()\n",
    "\n",
    "sdp = SdpRelaxation(x)\n",
    "sdp.get_relaxation(8, objective=re(obj))\n",
    "sdp.solve(solver='mosek')\n",
    "\n",
    "# extract the values of control\n",
    "if sdp.status == 'optimal':\n",
    "    print([sdp[_] for _ in sdp.variables])"
   ]
  },
  {
   "cell_type": "code",
   "execution_count": 847,
   "metadata": {},
   "outputs": [],
   "source": [
    "Un = propagator(\n",
    "    [H0, \n",
    "    #[V, '1.2106486632912106 * t -1.0164572106234302 * t * t']],\n",
    "     [V, '-0.6482934195176792']],\n",
    "    4\n",
    ")\n"
   ]
  },
  {
   "cell_type": "code",
   "execution_count": 848,
   "metadata": {},
   "outputs": [
    {
     "data": {
      "text/plain": [
       "5.395916941146283"
      ]
     },
     "execution_count": 848,
     "metadata": {},
     "output_type": "execute_result"
    }
   ],
   "source": [
    "(Un - U).norm()"
   ]
  },
  {
   "cell_type": "code",
   "execution_count": 822,
   "metadata": {},
   "outputs": [
    {
     "data": {
      "text/plain": [
       "3.9999999999998366"
      ]
     },
     "execution_count": 822,
     "metadata": {},
     "output_type": "execute_result"
    }
   ],
   "source": [
    "U.norm()"
   ]
  },
  {
   "cell_type": "code",
   "execution_count": 742,
   "metadata": {},
   "outputs": [
    {
     "data": {
      "text/plain": [
       "3.9999999999999956"
      ]
     },
     "execution_count": 742,
     "metadata": {},
     "output_type": "execute_result"
    }
   ],
   "source": [
    "Un.norm()"
   ]
  },
  {
   "cell_type": "code",
   "execution_count": 765,
   "metadata": {},
   "outputs": [
    {
     "data": {
      "text/latex": [
       "$\\displaystyle \\left[\\begin{matrix}-0.2114 & -0.2135 - 0.08872 i & -0.58334 - 0.20692 i & -0.28785 - 0.14271 i\\\\-0.2135 + 0.08872 i & -0.38259 & 0.0483 + 0.1738 i & -0.81116 - 0.00155 i\\\\-0.58334 + 0.20692 i & 0.0483 - 0.17379 i & -0.81325 & -0.65112 + 0.02163 i\\\\-0.28785 + 0.14272 i & -0.81116 + 0.00155 i & -0.65112 - 0.02163 i & -1.02695\\end{matrix}\\right]$"
      ],
      "text/plain": [
       "Matrix([\n",
       "[             -0.2114,  -0.2135 - 0.08872*I, -0.58334 - 0.20692*I, -0.28785 - 0.14271*I],\n",
       "[ -0.2135 + 0.08872*I,             -0.38259,    0.0483 + 0.1738*I, -0.81116 - 0.00155*I],\n",
       "[-0.58334 + 0.20692*I,   0.0483 - 0.17379*I,             -0.81325, -0.65112 + 0.02163*I],\n",
       "[-0.28785 + 0.14272*I, -0.81116 + 0.00155*I, -0.65112 - 0.02163*I,             -1.02695]])"
      ]
     },
     "execution_count": 765,
     "metadata": {},
     "output_type": "execute_result"
    }
   ],
   "source": [
    "sys_params['G']"
   ]
  },
  {
   "cell_type": "code",
   "execution_count": 767,
   "metadata": {},
   "outputs": [
    {
     "data": {
      "text/latex": [
       "$\\displaystyle \\left[\\begin{matrix}-0.04192 & -0.22 & -0.52251 & -0.1767\\\\-0.22 & -0.39275 & 0 & -0.87575\\\\-0.52251 & 0 & -0.96071 & -0.70856\\\\-0.1767 & -0.87575 & -0.70856 & -1.05964\\end{matrix}\\right]$"
      ],
      "text/plain": [
       "Matrix([\n",
       "[-0.04192,    -0.22, -0.52251,  -0.1767],\n",
       "[   -0.22, -0.39275,        0, -0.87575],\n",
       "[-0.52251,        0, -0.96071, -0.70856],\n",
       "[ -0.1767, -0.87575, -0.70856, -1.05964]])"
      ]
     },
     "execution_count": 767,
     "metadata": {},
     "output_type": "execute_result"
    }
   ],
   "source": [
    "Matrix(np.around(logm(Un), 5) / 1j)"
   ]
  },
  {
   "cell_type": "code",
   "execution_count": 723,
   "metadata": {},
   "outputs": [
    {
     "data": {
      "text/latex": [
       "Quantum object: dims = [[4], [4]], shape = (4, 4), type = oper, isherm = False\\begin{equation*}\\left(\\begin{array}{*{11}c}(0.823-0.134j) & (-0.096-0.062j) & (-0.294-0.400j) & (-0.201+0.061j)\\\\(-0.096-0.062j) & (0.544-0.741j) & (-0.199+0.051j) & (-0.251-0.190j)\\\\(-0.294-0.400j) & (-0.199+0.051j) & (0.326-0.511j) & (-0.438-0.390j)\\\\(-0.201+0.061j) & (-0.251-0.190j) & (-0.438-0.390j) & (0.620-0.359j)\\\\\\end{array}\\right)\\end{equation*}"
      ],
      "text/plain": [
       "Quantum object: dims = [[4], [4]], shape = (4, 4), type = oper, isherm = False\n",
       "Qobj data =\n",
       "[[ 0.82344125-0.13371235j -0.09627055-0.06197975j -0.29435129-0.40008505j\n",
       "  -0.20137559+0.06077131j]\n",
       " [-0.09627055-0.06197975j  0.54415338-0.74110819j -0.19945144+0.05067774j\n",
       "  -0.25107518-0.19015358j]\n",
       " [-0.29435128-0.40008504j -0.19945144+0.05067774j  0.32640483-0.51100513j\n",
       "  -0.43763869-0.38954611j]\n",
       " [-0.20137559+0.06077131j -0.25107518-0.19015358j -0.43763869-0.38954611j\n",
       "   0.62011482-0.35880552j]]"
      ]
     },
     "execution_count": 723,
     "metadata": {},
     "output_type": "execute_result"
    }
   ],
   "source": [
    "Un"
   ]
  },
  {
   "cell_type": "markdown",
   "metadata": {},
   "source": [
    "# Example 2"
   ]
  },
  {
   "cell_type": "code",
   "execution_count": 980,
   "metadata": {},
   "outputs": [],
   "source": [
    "def get_random_matrix(n):\n",
    "    H = randMatrix(4, percent=100) + I * randMatrix(4, percent=80)\n",
    "    H = H.H + H\n",
    "    \n",
    "    return H / 200"
   ]
  },
  {
   "cell_type": "code",
   "execution_count": 887,
   "metadata": {},
   "outputs": [],
   "source": [
    "sys_params_1 = dict(\n",
    "    H0 = get_random_matrix(4),\n",
    "    V = get_random_matrix(4),\n",
    "        \n",
    "    dt = 1,\n",
    "    N = 10,\n",
    ")\n",
    "\n",
    "sys_params_2 = dict(\n",
    "    H0 = get_random_matrix(4),\n",
    "    V = get_random_matrix(4),\n",
    "        \n",
    "    dt = 1,\n",
    "    N = 10,\n",
    ")"
   ]
  },
  {
   "cell_type": "code",
   "execution_count": 959,
   "metadata": {},
   "outputs": [],
   "source": [
    "x = generate_variables('x', 4)\n",
    "t = symbols('t')\n",
    "\n",
    "obj = (\n",
    "        (\n",
    "        control_gen(u = lambda t : 3 * sin(t/2), **sys_params_1) -\n",
    "        control_gen(u = lambdify(t, sum(c * t ** n for n, c in enumerate(x))), **sys_params_1)\n",
    "    ).norm() ** 2\n",
    ").simplify().evalf()"
   ]
  },
  {
   "cell_type": "code",
   "execution_count": 1080,
   "metadata": {},
   "outputs": [
    {
     "name": "stdout",
     "output_type": "stream",
     "text": [
      "0.108038547389246*t**3 + 0.0542712973219234*t**2 - 0.151506440572317*t - 0.758672613098914\n"
     ]
    }
   ],
   "source": [
    "sdp = SdpRelaxation(x)\n",
    "sdp.get_relaxation(6, objective=re(obj))\n",
    "sdp.solve(solver='mosek')\n",
    "\n",
    "# extract the values of control\n",
    "if sdp.status == 'optimal':\n",
    "    opt_vals = [sdp[_] for _ in sdp.variables]\n",
    "    \n",
    "    # cover to the function\n",
    "    t = symbols('t')\n",
    "    u_reconstructed = lambdify(t, sum(c * t ** n for n, c in enumerate(opt_vals)))\n",
    "    \n",
    "    print(u_reconstructed(t))"
   ]
  },
  {
   "cell_type": "code",
   "execution_count": 961,
   "metadata": {},
   "outputs": [
    {
     "data": {
      "text/latex": [
       "$\\displaystyle 82.027161648497$"
      ],
      "text/plain": [
       "82.0271616484970"
      ]
     },
     "execution_count": 961,
     "metadata": {},
     "output_type": "execute_result"
    }
   ],
   "source": [
    "obj.subs(\n",
    "    zip(sdp.variables, (sdp[_] for _ in sdp.variables))\n",
    ").evalf()"
   ]
  },
  {
   "cell_type": "code",
   "execution_count": null,
   "metadata": {},
   "outputs": [],
   "source": []
  },
  {
   "cell_type": "code",
   "execution_count": 962,
   "metadata": {},
   "outputs": [
    {
     "data": {
      "text/plain": [
       "[<matplotlib.lines.Line2D at 0x7fb247235350>]"
      ]
     },
     "execution_count": 962,
     "metadata": {},
     "output_type": "execute_result"
    },
    {
     "data": {
      "image/png": "[encoded data removed]",
      "text/plain": [
       "<Figure size 432x288 with 1 Axes>"
      ]
     },
     "metadata": {
      "needs_background": "light"
     },
     "output_type": "display_data"
    }
   ],
   "source": [
    "t = np.linspace(0, 10, 100)\n",
    "plt.plot(t, 3 * np.sin(t/2))\n",
    "plt.plot(t, np.vectorize(u_reconstructed)(t))"
   ]
  },
  {
   "cell_type": "markdown",
   "metadata": {},
   "source": [
    "# Magnus expansion"
   ]
  },
  {
   "cell_type": "code",
   "execution_count": 967,
   "metadata": {},
   "outputs": [],
   "source": []
  },
  {
   "cell_type": "code",
   "execution_count": 1195,
   "metadata": {},
   "outputs": [],
   "source": [
    "def magnus_expansion(*, H0, V, u, T, **kwargs):\n",
    "    \n",
    "    # symbols\n",
    "    t1, t2 = symbols('t1, t2', real=True)\n",
    "    \n",
    "    \n",
    "    # introduce alias \n",
    "    def h(t):\n",
    "        return H0 + V * u(t)\n",
    "    \n",
    "    def Commutator(a, b):\n",
    "        return a * b - b * a\n",
    "    \n",
    "    \n",
    "    first_order = -integrate(h(t1), (t1, 0, T))\n",
    "    \n",
    "    second_order = -I * Rational(1, 2) * integrate(\n",
    "        Commutator(integrate(h(t2), (t2, 0, t1)), h(t1)),\n",
    "        (t1, 0, T)\n",
    "    )\n",
    "    \n",
    "    return first_order + second_order"
   ]
  },
  {
   "cell_type": "code",
   "execution_count": null,
   "metadata": {},
   "outputs": [],
   "source": []
  },
  {
   "cell_type": "code",
   "execution_count": 1142,
   "metadata": {},
   "outputs": [],
   "source": [
    "sys_params = dict(\n",
    "    H0 = get_random_matrix(4),\n",
    "    V = get_random_matrix(4),\n",
    "    T = 1,\n",
    ")\n",
    "\n",
    "H0 = Qobj(matrix2numpy(sys_params['H0']))\n",
    "V = Qobj(matrix2numpy(sys_params['V']))"
   ]
  },
  {
   "cell_type": "markdown",
   "metadata": {},
   "source": [
    "Get the target unitary"
   ]
  },
  {
   "cell_type": "code",
   "execution_count": 1219,
   "metadata": {},
   "outputs": [],
   "source": [
    "u_original_str = '-sin(5 * t)'\n",
    "\n",
    "U = propagator([H0, [V, u_original_str]], sys_params['T'])\n",
    "\n",
    "# covert to the numpy function for plotting\n",
    "t = symbols('t')\n",
    "u_original = lambdify(t, sympify(u_original_str), 'numpy')"
   ]
  },
  {
   "cell_type": "code",
   "execution_count": 1234,
   "metadata": {},
   "outputs": [],
   "source": [
    "def smart_extract_generator(U):\n",
    "    G_exact = logm(U) / 1j\n",
    "    \n",
    "    for digit in range(12, 0, -1):\n",
    "        G_exact_aroud = np.around(G_exact, digit)\n",
    "        \n",
    "        if np.alltrue(G_exact_aroud == G_exact_aroud.T.conj()):\n",
    "            # sucess we got the hermitian matrix\n",
    "            return G_exact_aroud\n",
    "    # Take care of SU constrains "
   ]
  },
  {
   "cell_type": "code",
   "execution_count": 1235,
   "metadata": {},
   "outputs": [
    {
     "data": {
      "text/latex": [
       "$\\displaystyle \\left[\\begin{matrix}-0.8628 & -0.26779 + 0.0238 i & -0.24266 - 0.00464 i & -0.33647 + 0.18568 i\\\\-0.26779 - 0.0238 i & -0.46738 & -0.01218 + 0.28191 i & -0.45416 - 0.03449 i\\\\-0.24266 + 0.00464 i & -0.01218 - 0.28191 i & -0.60253 & 0.07665 - 0.11555 i\\\\-0.33647 - 0.18568 i & -0.45416 + 0.03449 i & 0.07665 + 0.11555 i & -0.69661\\end{matrix}\\right]$"
      ],
      "text/plain": [
       "Matrix([\n",
       "[             -0.8628,  -0.26779 + 0.0238*I, -0.24266 - 0.00464*I, -0.33647 + 0.18568*I],\n",
       "[ -0.26779 - 0.0238*I,             -0.46738, -0.01218 + 0.28191*I, -0.45416 - 0.03449*I],\n",
       "[-0.24266 + 0.00464*I, -0.01218 - 0.28191*I,             -0.60253,  0.07665 - 0.11555*I],\n",
       "[-0.33647 - 0.18568*I, -0.45416 + 0.03449*I,  0.07665 + 0.11555*I,             -0.69661]])"
      ]
     },
     "execution_count": 1235,
     "metadata": {},
     "output_type": "execute_result"
    }
   ],
   "source": [
    "sys_params['G'] = Matrix(smart_extract_generator(U))\n",
    "sys_params['G'] "
   ]
  },
  {
   "cell_type": "code",
   "execution_count": 1237,
   "metadata": {},
   "outputs": [
    {
     "name": "stdout",
     "output_type": "stream",
     "text": [
      "0.691128838639214*t**3 + 0.697933586539568*t**2 + 0.597211429743375*t - 0.855690617008001\n"
     ]
    }
   ],
   "source": [
    "x = generate_variables('x', 4)\n",
    "t = symbols('t', real=True)\n",
    "\n",
    "u = lambdify(t, sum(c * t ** n for n, c in enumerate(x)))\n",
    "\n",
    "obj = ((magnus_expansion(u = u, **sys_params) - sys_params['G']).norm() ** 2).simplify()\n",
    "\n",
    "sdp = SdpRelaxation(x)\n",
    "sdp.get_relaxation(7, objective=re(obj))\n",
    "sdp.solve(solver='mosek')\n",
    "\n",
    "# extract the values of control\n",
    "if sdp.status == 'optimal':\n",
    "    opt_vals = [sdp[_] for _ in sdp.variables]\n",
    "    \n",
    "    # cover to the function\n",
    "    t = symbols('t')\n",
    "    u_reconstructed = sum(c * t ** n for n, c in enumerate(opt_vals))\n",
    "    \n",
    "    # Covert u_reconstructed to string for qutip below\n",
    "    u_reconstructed_str = str(u_reconstructed)\n",
    "    \n",
    "    print(u_reconstructed_str)\n",
    "    \n",
    "    # u_reconstructed for plotting\n",
    "    u_reconstructed = lambdify(t, u_reconstructed, 'numpy')"
   ]
  },
  {
   "cell_type": "code",
   "execution_count": 1238,
   "metadata": {},
   "outputs": [
    {
     "data": {
      "text/latex": [
       "$\\displaystyle 0.01200205342719 + 1.00173324677832 \\cdot 10^{-19} i$"
      ],
      "text/plain": [
       "0.01200205342719 + 1.00173324677832e-19*I"
      ]
     },
     "execution_count": 1238,
     "metadata": {},
     "output_type": "execute_result"
    }
   ],
   "source": [
    "obj.subs(\n",
    "    zip(sdp.variables, (sdp[_] for _ in sdp.variables))\n",
    ").evalf()"
   ]
  },
  {
   "cell_type": "code",
   "execution_count": 1239,
   "metadata": {},
   "outputs": [
    {
     "data": {
      "image/png": "[encoded data removed]",
      "text/plain": [
       "<Figure size 432x288 with 1 Axes>"
      ]
     },
     "metadata": {
      "needs_background": "light"
     },
     "output_type": "display_data"
    }
   ],
   "source": [
    "t = np.linspace(0, sys_params['T'], 100)\n",
    "\n",
    "plt.plot(t, u_original(t), label='original')\n",
    "plt.plot(t, u_reconstructed(t), label='reconstructed')\n",
    "plt.legend()\n",
    "plt.show()"
   ]
  },
  {
   "cell_type": "code",
   "execution_count": 1240,
   "metadata": {},
   "outputs": [],
   "source": [
    "Ug = propagator([H0, [V, u_reconstructed_str]], sys_params['T'])"
   ]
  },
  {
   "cell_type": "code",
   "execution_count": 1241,
   "metadata": {},
   "outputs": [
    {
     "data": {
      "text/plain": [
       "0.02862075596447093"
      ]
     },
     "execution_count": 1241,
     "metadata": {},
     "output_type": "execute_result"
    }
   ],
   "source": [
    "(Ug - U).norm()"
   ]
  },
  {
   "cell_type": "code",
   "execution_count": 1242,
   "metadata": {},
   "outputs": [
    {
     "data": {
      "text/latex": [
       "Quantum object: dims = [[4], [4]], shape = (4, 4), type = oper, isherm = False\\begin{equation*}\\left(\\begin{array}{*{11}c}(-0.002-4.861\\times10^{-04}j) & (0.002-0.005j) & (0.002-1.105\\times10^{-04}j) & (-0.001-0.004j)\\\\(-0.008+0.005j) & (-5.002\\times10^{-04}-0.002j) & (0.002-0.005j) & (-0.006+0.003j)\\\\(-0.004+0.006j) & (-0.004-0.002j) & (-9.187\\times10^{-04}-0.004j) & (-0.003+0.004j)\\\\(-0.007+1.145\\times10^{-04}j) & (0.003-0.004j) & (0.002-4.184\\times10^{-04}j) & (-0.003-0.003j)\\\\\\end{array}\\right)\\end{equation*}"
      ],
      "text/plain": [
       "Quantum object: dims = [[4], [4]], shape = (4, 4), type = oper, isherm = False\n",
       "Qobj data =\n",
       "[[-0.00194197-0.00048605j  0.00219085-0.00527299j  0.00171849-0.00011051j\n",
       "  -0.00111895-0.00436265j]\n",
       " [-0.00820385+0.00516787j -0.00050025-0.00198767j  0.00207988-0.00459082j\n",
       "  -0.00556593+0.00335048j]\n",
       " [-0.00358143+0.00575813j -0.0043606 -0.00192459j -0.0009187 -0.00429642j\n",
       "  -0.00293716+0.00379659j]\n",
       " [-0.00658394+0.00011454j  0.00324537-0.00374507j  0.00215285-0.00041844j\n",
       "  -0.00320995-0.00263944j]]"
      ]
     },
     "execution_count": 1242,
     "metadata": {},
     "output_type": "execute_result"
    }
   ],
   "source": [
    "U - Ug"
   ]
  },
  {
   "cell_type": "code",
   "execution_count": null,
   "metadata": {},
   "outputs": [],
   "source": []
  }
 ],
 "metadata": {
  "kernelspec": {
   "display_name": "Python 3",
   "language": "python",
   "name": "python3"
  },
  "language_info": {
   "codemirror_mode": {
    "name": "ipython",
    "version": 3
   },
   "file_extension": ".py",
   "mimetype": "text/x-python",
   "name": "python",
   "nbconvert_exporter": "python",
   "pygments_lexer": "ipython3",
   "version": "3.7.6"
  }
 },
 "nbformat": 4,
 "nbformat_minor": 1
}
