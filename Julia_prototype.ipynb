{
 "cells": [
  {
   "cell_type": "code",
   "execution_count": 1,
   "id": "53737abc",
   "metadata": {},
   "outputs": [],
   "source": [
    "using LinearAlgebra\n",
    "using QuantumOptics\n",
    "using DynamicPolynomials, MomentTools\n",
    "using QuadGK\n",
    "using MosekTools\n",
    "using JuMP\n",
    "using Random"
   ]
  },
  {
   "cell_type": "markdown",
   "id": "aa5da640",
   "metadata": {},
   "source": [
    "# Quantum system"
   ]
  },
  {
   "cell_type": "code",
   "execution_count": 2,
   "id": "fbdc3d65",
   "metadata": {},
   "outputs": [],
   "source": [
    "#= \n",
    "Quantum system is taken from \n",
    " https://github.com/q-optimize/c3/blob/master/examples/two_qubits.ipynb\n",
    "\n",
    "Drift Hamiltonian\n",
    "=#\n",
    "\n",
    "H0 = [\n",
    "    0 0 0;\n",
    "    0 3.21505101e+10 0;\n",
    "    0 0 6.23173079e+10\n",
    "];\n",
    "\n",
    "H0 ./= norm(H0, Inf)\n",
    "\n",
    "# Control Hamiltonian\n",
    "V = [\n",
    "    0 1 0;\n",
    "    1 0 1.41421356;\n",
    "    0 1.41421356 0\n",
    "]\n",
    "\n",
    "V ./= norm(V, Inf);"
   ]
  },
  {
   "cell_type": "code",
   "execution_count": 3,
   "id": "3d24c3a9",
   "metadata": {},
   "outputs": [
    {
     "data": {
      "text/plain": [
       "3×3 Matrix{Float64}:\n",
       " 0.0  0.0       0.0\n",
       " 0.0  0.515916  0.0\n",
       " 0.0  0.0       1.0"
      ]
     },
     "execution_count": 3,
     "metadata": {},
     "output_type": "execute_result"
    }
   ],
   "source": [
    "H0"
   ]
  },
  {
   "cell_type": "markdown",
   "id": "c99bd4e0",
   "metadata": {},
   "source": [
    "# Symbolic integration utilities (had to implement them by myself)"
   ]
  },
  {
   "cell_type": "raw",
   "id": "f54406e1",
   "metadata": {},
   "source": [
    "function integration(p::AbstractPolynomial, x::AbstractVariable, x_lower, x_upper)\n",
    "    \n",
    "    vars = variables(p)    \n",
    "\n",
    "    if x ∉ vars\n",
    "       return p * (x_upper - x_lower)\n",
    "    end\n",
    "    \n",
    "    # get the indefinite integral\n",
    "    int_p = 0 * x\n",
    "    \n",
    "    for (coeff, term) in zip(coefficients(p), terms(p))\n",
    "                \n",
    "        int_term = prod(\n",
    "            y == x ? x^(n + 1) * Rational(1, n + 1) : y^n \n",
    "            for (y, n) in zip(vars, exponents(term)) \n",
    "        )\n",
    "        \n",
    "       int_p += coeff * int_term\n",
    "    end\n",
    "    \n",
    "    # get the definite integral\n",
    "    subs(int_p, x=>x_upper) - subs(int_p, x=>x_lower)\n",
    "end\n",
    "\n",
    "function integration(M::AbstractMatrix, x::AbstractVariable, x_lower, x_upper)\n",
    "   map(z -> integration(z, x, x_lower, x_upper), M) \n",
    "end"
   ]
  },
  {
   "cell_type": "code",
   "execution_count": 4,
   "id": "49d68472",
   "metadata": {},
   "outputs": [
    {
     "data": {
      "text/plain": [
       "square_fro_norm (generic function with 1 method)"
      ]
     },
     "execution_count": 4,
     "metadata": {},
     "output_type": "execute_result"
    }
   ],
   "source": [
    "function ∫(p::AbstractPolynomial, x::PolyVar, x_lower, x_upper)\n",
    "    \n",
    "    # get the index of the variable of integration\n",
    "    ind_x = indexin([x], variables(p))[1]\n",
    "        \n",
    "    if isnothing(ind_x)\n",
    "        # integration valuable is not found among vars\n",
    "        return p * (x_upper - x_lower)\n",
    "    end\n",
    "    \n",
    "    # get the indefinite integral\n",
    "    int_p = sum(\n",
    "        coeff * term * x * 1 // (exponents(term)[ind_x] + 1)\n",
    "        for (coeff, term) in zip(coefficients(p), terms(p));\n",
    "        init = 0 * x\n",
    "    )\n",
    "        \n",
    "    # get the definite integral\n",
    "    subs(int_p, x=>x_upper) - subs(int_p, x=>x_lower)\n",
    "end\n",
    "\n",
    "function ∫(M::AbstractMatrix, x::PolyVar, x_lower, x_upper)\n",
    "   map(z -> ∫(z, x, x_lower, x_upper), M) \n",
    "end\n",
    "\n",
    "function real_poly(p::Polynomial)\n",
    "    #=\n",
    "    Real part of the polynomial\n",
    "    =#\n",
    "    sum(\n",
    "        real(c) * m for (c, m) in zip(coefficients(p), monomials(p))\n",
    "    )\n",
    "end\n",
    "\n",
    "function square_fro_norm(M::AbstractArray)\n",
    "    #=\n",
    "    Square of the Frobenius norm of a matrix\n",
    "    =#\n",
    "    real_poly(sum(z' * z for z in M))\n",
    "end"
   ]
  },
  {
   "cell_type": "code",
   "execution_count": 217,
   "id": "948c45ae",
   "metadata": {},
   "outputs": [
    {
     "ename": "LoadError",
     "evalue": "BoundsError: attempt to access 0-element Vector{Operator{NLevelBasis{Int64}, NLevelBasis{Int64}, SparseArrays.SparseMatrixCSC{ComplexF64, Int64}}} at index [2]",
     "output_type": "error",
     "traceback": [
      "BoundsError: attempt to access 0-element Vector{Operator{NLevelBasis{Int64}, NLevelBasis{Int64}, SparseArrays.SparseMatrixCSC{ComplexF64, Int64}}} at index [2]",
      "",
      "Stacktrace:",
      " [1] getindex(A::Vector{Operator{NLevelBasis{Int64}, NLevelBasis{Int64}, SparseArrays.SparseMatrixCSC{ComplexF64, Int64}}}, i1::Int64)",
      "   @ Base ./array.jl:924",
      " [2] get_unitray(x::Vector{Float64})",
      "   @ Main ./In[217]:33",
      " [3] top-level scope",
      "   @ In[217]:57",
      " [4] eval",
      "   @ ./boot.jl:368 [inlined]",
      " [5] include_string(mapexpr::typeof(REPL.softscope), mod::Module, code::String, filename::String)",
      "   @ Base ./loading.jl:1277"
     ]
    }
   ],
   "source": [
    "@polyvar x[1:3]\n",
    "@polyvar t[1:3]\n",
    "\n",
    "#Random.seed!(62220221)\n",
    "\n",
    "# final time\n",
    "#T = 1.\n",
    "\n",
    "@polyvar T\n",
    "\n",
    "function u(t, x)\n",
    "    # the polynomial shape for control\n",
    "    sum(x[n] * t^(n - 1) for n = 1:length(x))\n",
    "end\n",
    "\n",
    "function get_unitray(x::AbstractArray)\n",
    "    T = 0.1\n",
    "    \n",
    "    b = NLevelBasis(size(H0)[1])\n",
    "\n",
    "    𝓗₀ = DenseOperator(b, b, H0)\n",
    "    𝓥 = DenseOperator(b, b, V)\n",
    "\n",
    "    H = LazySum([1., u(0, x)], [𝓗₀, 𝓥])\n",
    "    \n",
    "    function 𝓗(t, psi)\n",
    "        H.factors[2] = u(t, x)\n",
    "        return H\n",
    "    end\n",
    "\n",
    "    _, 𝓤 = timeevolution.schroedinger_dynamic([0:T;], identityoperator(b,b), 𝓗)\n",
    "\n",
    "    return Matrix(𝓤[2].data)\n",
    "    #=\n",
    "    T = 0.1\n",
    "    \n",
    "    dt = 0.001\n",
    "    \n",
    "    U = I + 0im * H0 \n",
    "    \n",
    "    for t in dt/2:dt:T\n",
    "       U = exp(-im * dt * (H0 + u(t, x) * V)) * U\n",
    "    end\n",
    "    \n",
    "    return U\n",
    "    =#\n",
    "end\n",
    "###############################################################################\n",
    "# Get the target unitary\n",
    "\n",
    "\n",
    "# randomly generate the coefficients of the polynomial control\n",
    "#exact_x = randn(length(x)) # normal random variable\n",
    "\n",
    "\n",
    "# target unitray\n",
    "U_target = get_unitray(exact_x)\n",
    "\n",
    "\n",
    "###############################################################################\n",
    "# Get the polynomial objective function\n",
    "\n",
    "function A(t, x)\n",
    "    #=\n",
    "    The generator of motion entering the Magnus expansion\n",
    "    =#\n",
    "    (H0 + V * u(t, x)) / im\n",
    "end\n",
    "\n",
    "function commutator(a, b)\n",
    "    a * b - b * a\n",
    "end \n",
    "\n",
    "# Convergence test for the Magnus expansion (convergence_test < 1)\n",
    "#convergence_test = quadgk(t -> opnorm(A(t, exact_x)), 0, T)[1] / π\n",
    "\n",
    "###############################################################################\n",
    "# get the partial sum of the Magnus expansion\n",
    "A₁ = A(t[1], x)\n",
    "A₂ = A(t[2], x)\n",
    "\n",
    "Ω = ∫(A₁, t[1], 0, T)\n",
    "\n",
    "# 2nd term in the Magnus expansion\n",
    "Ω .+= 1//2 * ∫(∫(\n",
    "    commutator(A₁, A₂), \n",
    "    t[2], 0, t[1]), \n",
    "    t[1], 0, T\n",
    ")\n",
    "\n",
    "# 3nd term in the Magnus expansion\n",
    "\n",
    "A₃ = A(t[3], x)\n",
    "\n",
    "Ω .+= 1//6 * ∫(∫(∫(\n",
    "    commutator(A₁, commutator(A₂, A₃)) + commutator(commutator(A₁, A₂), A₃),\n",
    "    t[3], 0, t[2]),\n",
    "    t[2], 0, t[1]),\n",
    "    t[1], 0, T\n",
    ")\n",
    "\n",
    "###############################################################################\n",
    "\n",
    "\n",
    "# In the next section we evaluate the above approximation for \\tanh(\\Omega/2) and save it as approx_tanh.\n",
    "# Note that we empirically found that it is good to keep first 3 terms in the Taylor expansion for tanh\n",
    "\n",
    "Ω = convert(typeof(A₁), Ω)\n",
    "\n",
    "Ω²¼ = Ω^2 / 4\n",
    "\n",
    "approx_tanh = (Ω/2) * (I + Ω²¼ * (-1//3 * I + 2//15 * Ω²¼))\n",
    "\n",
    "\n",
    "obj = square_fro_norm(\n",
    "    I - U_target + (I + U_target) * approx_tanh\n",
    "    #log(U_target) - Ω\n",
    ")\n",
    "\n",
    "# save the value of objective function for exact x\n",
    "#obj_exact_x = obj(exact_x)\n",
    "\n",
    "###############################################################################\n",
    "# Perform polynomial optimization\n",
    "\n",
    "#@assert variables(obj) == x\n",
    "\n",
    "optimizer = optimizer_with_attributes(Mosek.Optimizer, \"QUIET\" => true)\n",
    "obj_min, M = minimize(obj, [], [0.5 - T, T], variables(obj), maxdegree(obj) ÷ 2, optimizer)"
   ]
  },
  {
   "cell_type": "code",
   "execution_count": 180,
   "id": "2afa0b90",
   "metadata": {},
   "outputs": [
    {
     "data": {
      "text/plain": [
       "4-element Vector{PolyVar{true}}:\n",
       " x₁\n",
       " x₂\n",
       " x₃\n",
       " T"
      ]
     },
     "execution_count": 180,
     "metadata": {},
     "output_type": "execute_result"
    }
   ],
   "source": [
    "variables(obj)"
   ]
  },
  {
   "cell_type": "code",
   "execution_count": 179,
   "id": "d8c67c0d",
   "metadata": {},
   "outputs": [
    {
     "data": {
      "text/plain": [
       "2.541167602152938"
      ]
     },
     "execution_count": 179,
     "metadata": {},
     "output_type": "execute_result"
    }
   ],
   "source": [
    "obj_exact_x"
   ]
  },
  {
   "cell_type": "code",
   "execution_count": 146,
   "id": "e8d8e792",
   "metadata": {},
   "outputs": [
    {
     "data": {
      "text/plain": [
       "0.4507924035474972"
      ]
     },
     "execution_count": 146,
     "metadata": {},
     "output_type": "execute_result"
    }
   ],
   "source": [
    "convergence_test"
   ]
  },
  {
   "cell_type": "code",
   "execution_count": 132,
   "id": "35c6f69b",
   "metadata": {},
   "outputs": [
    {
     "data": {
      "text/plain": [
       "3×241 Matrix{Float64}:\n",
       " -3.10061  -2.98947   -2.90161   -2.9979   …   2.90162   2.98955   3.10063\n",
       " -1.11644  -0.495674   0.142567  -0.68291     -0.142763  0.495452  1.11603\n",
       " -2.52253  -2.49078   -2.38833   -1.86963      2.38847   2.49071   2.52265"
      ]
     },
     "execution_count": 132,
     "metadata": {},
     "output_type": "execute_result"
    }
   ],
   "source": [
    "get_minimizers(M)"
   ]
  },
  {
   "cell_type": "code",
   "execution_count": 185,
   "id": "eb1cf547",
   "metadata": {},
   "outputs": [
    {
     "data": {
      "text/plain": [
       "([2.7214559180044705e-19, 8.581778971021911e-16, 9.632676602618055e-17, 7.035921769226612e-16, 1.7107957167209297e-15, 1.7219494291563613e-16, 4.113575057597948e-16, 1.5358705673174346e-16, 3.550607047833607e-16, 4.4006751712742396e-15  …  1.0178472977057233e-10, 8.790001100999401e-10, 4.2049391663170685e-12, 2.7158625810006386e-11, 1.7995046607633784e-12, 4.451150946023366e-14, 1.6658213997672362e-15, 1.677305808634037e-14, 3.911540735772152e-15, 6.856665701570541e-16], [-9.993786845698502 -7.913425934259114 … 7.871190088879646 10.149164031263325; -12.501859124045604 -9.084950844838366 … 8.306326714363362 10.815967595542352; -5.7438466222492846 -2.645870980890246 … 2.5167052632264224 6.778305393876472; -13.29534401975623 -12.627361992620475 … -8.685380828786144 -10.114056518504531])"
      ]
     },
     "execution_count": 185,
     "metadata": {},
     "output_type": "execute_result"
    }
   ],
   "source": [
    "w, Xi = get_measure(M)"
   ]
  },
  {
   "cell_type": "code",
   "execution_count": 140,
   "id": "03b8036a",
   "metadata": {},
   "outputs": [
    {
     "data": {
      "text/plain": [
       "(3, 241)"
      ]
     },
     "execution_count": 140,
     "metadata": {},
     "output_type": "execute_result"
    }
   ],
   "source": [
    "size(Xi)"
   ]
  },
  {
   "cell_type": "code",
   "execution_count": 199,
   "id": "2d727e22",
   "metadata": {},
   "outputs": [
    {
     "data": {
      "text/plain": [
       "4-element Vector{Float64}:\n",
       " -0.2034801851699316\n",
       " -0.07035917899766514\n",
       "  0.27199699062495286\n",
       "  0.01958551115629629"
      ]
     },
     "execution_count": 199,
     "metadata": {},
     "output_type": "execute_result"
    }
   ],
   "source": [
    "r = real.(get_minimizers(M))\n",
    "obj_min_vals = [obj(r[:,i]) for i=1:size(r)[2]]\n",
    "min_x = r[:, argmin(obj_min_vals)]"
   ]
  },
  {
   "cell_type": "code",
   "execution_count": 200,
   "id": "1685ac85",
   "metadata": {},
   "outputs": [
    {
     "data": {
      "text/plain": [
       "0.01334516485838468"
      ]
     },
     "execution_count": 200,
     "metadata": {},
     "output_type": "execute_result"
    }
   ],
   "source": [
    "min(obj_min_vals...)"
   ]
  },
  {
   "cell_type": "code",
   "execution_count": 186,
   "id": "8306bbb0",
   "metadata": {},
   "outputs": [
    {
     "data": {
      "text/plain": [
       "4-element Vector{Float64}:\n",
       "  0.46246644047819585\n",
       " -0.07388569531009245\n",
       " -0.15287708389055032\n",
       " -0.5167645013357564"
      ]
     },
     "execution_count": 186,
     "metadata": {},
     "output_type": "execute_result"
    }
   ],
   "source": [
    "obj_min_vals = [obj(Xi[:,i]) for i=1:size(Xi)[2]]\n",
    "min_x_ = Xi[:, argmin(obj_min_vals)]"
   ]
  },
  {
   "cell_type": "code",
   "execution_count": 143,
   "id": "a863221a",
   "metadata": {},
   "outputs": [
    {
     "data": {
      "text/plain": [
       "0.023551129684984694"
      ]
     },
     "execution_count": 143,
     "metadata": {},
     "output_type": "execute_result"
    }
   ],
   "source": [
    "min(obj_min_vals...)"
   ]
  },
  {
   "cell_type": "code",
   "execution_count": 133,
   "id": "a5a577e5",
   "metadata": {},
   "outputs": [
    {
     "data": {
      "text/plain": [
       "3-element Vector{Float64}:\n",
       " -0.00021112063660367003\n",
       " -2.192017298207576e-5\n",
       " -0.00010829015951859395"
      ]
     },
     "execution_count": 133,
     "metadata": {},
     "output_type": "execute_result"
    }
   ],
   "source": [
    "r = real.(get_minimizers(M))\n",
    "obj_min_vals = [obj(r[:,i]) for i=1:size(r)[2]]\n",
    "min_x = r[:, argmin(obj_min_vals)]"
   ]
  },
  {
   "cell_type": "raw",
   "id": "5a02aecf",
   "metadata": {},
   "source": [
    "function get_unitray2(x::AbstractArray)\n",
    "    b = NLevelBasis(size(H0)[1])\n",
    "\n",
    "    𝓗₀ = DenseOperator(b, b, H0)\n",
    "    𝓥 = DenseOperator(b, b, V)\n",
    "\n",
    "    H = LazySum([1., u(0, x)], [𝓗₀, 𝓥])\n",
    "    \n",
    "    function 𝓗(t, psi)\n",
    "        H.factors[2] = u(t, x)\n",
    "        return H\n",
    "    end\n",
    "\n",
    "    _, 𝓤 = timeevolution.schroedinger_dynamic([0:T;], identityoperator(b,b), 𝓗)\n",
    "\n",
    "    return Matrix(𝓤[2].data)\n",
    "end"
   ]
  },
  {
   "cell_type": "raw",
   "id": "74b1bd44",
   "metadata": {},
   "source": [
    "norm(get_unitray2(exact_x) - get_unitray(exact_x))"
   ]
  },
  {
   "cell_type": "code",
   "execution_count": 109,
   "id": "1d3e91cb",
   "metadata": {},
   "outputs": [
    {
     "data": {
      "text/plain": [
       "3-element Vector{Float64}:\n",
       " -0.0717071233852124\n",
       " -0.2605954047030883\n",
       " -1.0028083436087574"
      ]
     },
     "execution_count": 109,
     "metadata": {},
     "output_type": "execute_result"
    }
   ],
   "source": [
    "exact_x"
   ]
  },
  {
   "cell_type": "code",
   "execution_count": 110,
   "id": "0a64c237",
   "metadata": {},
   "outputs": [
    {
     "data": {
      "text/plain": [
       "0.023551129641367963"
      ]
     },
     "execution_count": 110,
     "metadata": {},
     "output_type": "execute_result"
    }
   ],
   "source": [
    "min(obj_min_vals...)"
   ]
  },
  {
   "cell_type": "code",
   "execution_count": 191,
   "id": "a2c035bc",
   "metadata": {},
   "outputs": [
    {
     "data": {
      "text/plain": [
       "0.012894435328329712"
      ]
     },
     "execution_count": 191,
     "metadata": {},
     "output_type": "execute_result"
    }
   ],
   "source": [
    "using NLopt\n",
    "\n",
    "vars = variables(obj)\n",
    "\n",
    "function g(a...)\n",
    "    # Converting polynomial expression to function to be minimize\n",
    "    obj(vars => a)\n",
    "end\n",
    "    \n",
    "model = Model(NLopt.Optimizer)\n",
    "\n",
    "set_optimizer_attribute(model, \"algorithm\", :LD_MMA)\n",
    "\n",
    "#set_silent(model)\n",
    "@variable(model, y[1:length(vars)])\n",
    "\n",
    "# random guess\n",
    "for (var, init_val) in zip(y, min_x)\n",
    "    set_start_value(var, init_val)\n",
    "end\n",
    "\n",
    "register(model, :g, length(y), g; autodiff = true)\n",
    "@NLobjective(model, Min, g(y...))\n",
    "JuMP.optimize!(model)\n",
    "\n",
    "solution = vars => map(value, y)\n",
    "\n",
    "objective_value(model)"
   ]
  },
  {
   "cell_type": "code",
   "execution_count": 192,
   "id": "60f0fd57",
   "metadata": {},
   "outputs": [
    {
     "data": {
      "text/plain": [
       "PolyVar{true}[x₁, x₂, x₃, T] => [0.03981957803342788, -0.008760494558734249, -0.00433830953674443, -2.4332881628463334e-7]"
      ]
     },
     "execution_count": 192,
     "metadata": {},
     "output_type": "execute_result"
    }
   ],
   "source": [
    "solution"
   ]
  },
  {
   "cell_type": "code",
   "execution_count": 193,
   "id": "140bfb7e",
   "metadata": {},
   "outputs": [
    {
     "data": {
      "text/plain": [
       "3-element Vector{Float64}:\n",
       " -0.0717071233852124\n",
       " -0.2605954047030883\n",
       " -1.0028083436087574"
      ]
     },
     "execution_count": 193,
     "metadata": {},
     "output_type": "execute_result"
    }
   ],
   "source": [
    "exact_x"
   ]
  },
  {
   "cell_type": "code",
   "execution_count": 218,
   "id": "e3d21c64",
   "metadata": {},
   "outputs": [
    {
     "ename": "LoadError",
     "evalue": "BoundsError: attempt to access 0-element Vector{Operator{NLevelBasis{Int64}, NLevelBasis{Int64}, SparseArrays.SparseMatrixCSC{ComplexF64, Int64}}} at index [2]",
     "output_type": "error",
     "traceback": [
      "BoundsError: attempt to access 0-element Vector{Operator{NLevelBasis{Int64}, NLevelBasis{Int64}, SparseArrays.SparseMatrixCSC{ComplexF64, Int64}}} at index [2]",
      "",
      "Stacktrace:",
      " [1] getindex(A::Vector{Operator{NLevelBasis{Int64}, NLevelBasis{Int64}, SparseArrays.SparseMatrixCSC{ComplexF64, Int64}}}, i1::Int64)",
      "   @ Base ./array.jl:924",
      " [2] get_unitray(x::Vector{Float64})",
      "   @ Main ./In[217]:33",
      " [3] top-level scope",
      "   @ In[218]:1",
      " [4] eval",
      "   @ ./boot.jl:368 [inlined]",
      " [5] include_string(mapexpr::typeof(REPL.softscope), mod::Module, code::String, filename::String)",
      "   @ Base ./loading.jl:1277"
     ]
    }
   ],
   "source": [
    "norm(get_unitray(map(value, y)[1:end - 1]) - U_target)"
   ]
  },
  {
   "cell_type": "code",
   "execution_count": 213,
   "id": "2eac712b",
   "metadata": {},
   "outputs": [
    {
     "data": {
      "text/plain": [
       "0.29477468047857935"
      ]
     },
     "execution_count": 213,
     "metadata": {},
     "output_type": "execute_result"
    }
   ],
   "source": [
    "norm(get_unitray(randn(3)) - U_target)"
   ]
  },
  {
   "cell_type": "code",
   "execution_count": 202,
   "id": "5cbda956",
   "metadata": {},
   "outputs": [
    {
     "data": {
      "text/plain": [
       "1200"
      ]
     },
     "execution_count": 202,
     "metadata": {},
     "output_type": "execute_result"
    }
   ],
   "source": [
    "4 * 300"
   ]
  },
  {
   "cell_type": "code",
   "execution_count": 1,
   "id": "29ce0aac",
   "metadata": {},
   "outputs": [
    {
     "data": {
      "text/plain": [
       "1"
      ]
     },
     "execution_count": 1,
     "metadata": {},
     "output_type": "execute_result"
    }
   ],
   "source": [
    "Threads.nthreads()"
   ]
  },
  {
   "cell_type": "code",
   "execution_count": null,
   "id": "ff935120",
   "metadata": {},
   "outputs": [],
   "source": []
  }
 ],
 "metadata": {
  "kernelspec": {
   "display_name": "Julia 1.8.0-beta3",
   "language": "julia",
   "name": "julia-1.8"
  },
  "language_info": {
   "file_extension": ".jl",
   "mimetype": "application/julia",
   "name": "julia",
   "version": "1.8.0"
  }
 },
 "nbformat": 4,
 "nbformat_minor": 5
}
