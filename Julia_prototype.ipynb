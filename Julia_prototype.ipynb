{
 "cells": [
  {
   "cell_type": "code",
   "execution_count": 1,
   "id": "f3fa156d",
   "metadata": {},
   "outputs": [],
   "source": [
    "using LinearAlgebra\n",
    "using QuantumOptics\n",
    "using DynamicPolynomials, MomentTools"
   ]
  },
  {
   "cell_type": "markdown",
   "id": "3f2027fe",
   "metadata": {},
   "source": [
    "# Quantum system"
   ]
  },
  {
   "cell_type": "code",
   "execution_count": 2,
   "id": "2997863a",
   "metadata": {},
   "outputs": [],
   "source": [
    "#= \n",
    "Quantum system is taken from \n",
    " https://github.com/q-optimize/c3/blob/master/examples/two_qubits.ipynb\n",
    "\n",
    "Drift Hamiltonian\n",
    "=#\n",
    "\n",
    "H0 = [\n",
    "    0 0 0;\n",
    "    0 3.21505101e+10 0;\n",
    "    0 0 6.23173079e+10\n",
    "];\n",
    "\n",
    "H0 /= norm(H0, Inf)\n",
    "\n",
    "# Control Hamiltonian\n",
    "V = [\n",
    "    0 1 0;\n",
    "    1 0 1.41421356;\n",
    "    0 1.41421356 0\n",
    "]\n",
    "\n",
    "V /= norm(V, Inf);"
   ]
  },
  {
   "cell_type": "markdown",
   "id": "17fda9be",
   "metadata": {},
   "source": [
    "# Symbolic integration utilities (had to implement them by myself)"
   ]
  },
  {
   "cell_type": "raw",
   "id": "85538227",
   "metadata": {},
   "source": [
    "function integration(p::AbstractPolynomial, x::AbstractVariable, x_lower, x_upper)\n",
    "    \n",
    "    vars = variables(p)    \n",
    "\n",
    "    if x ∉ vars\n",
    "       return p * (x_upper - x_lower)\n",
    "    end\n",
    "    \n",
    "    # get the indefinite integral\n",
    "    int_p = 0 * x\n",
    "    \n",
    "    for (coeff, term) in zip(coefficients(p), terms(p))\n",
    "                \n",
    "        int_term = prod(\n",
    "            y == x ? x^(n + 1) * Rational(1, n + 1) : y^n \n",
    "            for (y, n) in zip(vars, exponents(term)) \n",
    "        )\n",
    "        \n",
    "       int_p += coeff * int_term\n",
    "    end\n",
    "    \n",
    "    # get the definite integral\n",
    "    subs(int_p, x=>x_upper) - subs(int_p, x=>x_lower)\n",
    "end\n",
    "\n",
    "function integration(M::AbstractMatrix, x::AbstractVariable, x_lower, x_upper)\n",
    "   map(z -> integration(z, x, x_lower, x_upper), M) \n",
    "end"
   ]
  },
  {
   "cell_type": "code",
   "execution_count": 3,
   "id": "3cb01602",
   "metadata": {},
   "outputs": [
    {
     "data": {
      "text/plain": [
       "∫ (generic function with 2 methods)"
      ]
     },
     "execution_count": 3,
     "metadata": {},
     "output_type": "execute_result"
    }
   ],
   "source": [
    "function ∫(p::AbstractPolynomial, x::AbstractVariable, x_lower, x_upper)\n",
    "    \n",
    "    # get the index of the variable of integration\n",
    "    ind_x = indexin([x], variables(p))[1]\n",
    "        \n",
    "    if isnothing(ind_x)\n",
    "        # integration valuable is not found among vars\n",
    "        return p * (x_upper - x_lower)\n",
    "    end\n",
    "    \n",
    "    # get the indefinite integral\n",
    "    int_p = sum(\n",
    "        coeff * term * x * 1 // (exponents(term)[ind_x] + 1)\n",
    "        for (coeff, term) in zip(coefficients(p), terms(p));\n",
    "        init = 0 * x\n",
    "    )\n",
    "        \n",
    "    # get the definite integral\n",
    "    subs(int_p, x=>x_upper) - subs(int_p, x=>x_lower)\n",
    "end\n",
    "\n",
    "function ∫(M::AbstractMatrix, x::AbstractVariable, x_lower, x_upper)\n",
    "   map(z -> ∫(z, x, x_lower, x_upper), M) \n",
    "end"
   ]
  },
  {
   "cell_type": "code",
   "execution_count": 18,
   "id": "06c692cc",
   "metadata": {},
   "outputs": [
    {
     "data": {
      "text/plain": [
       "2.001076738848816"
      ]
     },
     "execution_count": 18,
     "metadata": {},
     "output_type": "execute_result"
    }
   ],
   "source": [
    "@polyvar x[1:3]\n",
    "@polyvar t[1:3]\n",
    "\n",
    "# final time\n",
    "const T = 1\n",
    "\n",
    "function u(t, x)\n",
    "    # the polynomial shape for control\n",
    "    sum(x[n] * t^n for n = 1:length(x))\n",
    "end\n",
    "\n",
    "\n",
    "###############################################################################\n",
    "# Get the target unitary\n",
    "\n",
    "# randomly generate the coefficients of the polynomial control\n",
    "exact_x = 0.1 * randn(length(x)) # normal random variable\n",
    "\n",
    "\n",
    "\n",
    "b = NLevelBasis(size(H0)[1])\n",
    "\n",
    "𝓗₀ = DenseOperator(b, b, H0)\n",
    "𝓥 = DenseOperator(b, b, V)\n",
    "\n",
    "function 𝓗(t, psi)\n",
    "  return 𝓗₀ + 𝓥 * u(t, exact_x)\n",
    "end\n",
    "\n",
    "tout, 𝓤 = timeevolution.schroedinger_dynamic([0:T;], identityoperator(b,b), 𝓗)\n",
    "\n",
    "# target unitray\n",
    "U_target = Matrix(𝓤[2].data)\n",
    "\n",
    "###############################################################################\n",
    "\n",
    "\n",
    "function A(t)\n",
    "    #=\n",
    "    The generator of motion entering the Magnus expansion\n",
    "    :param u: control\n",
    "    :param t:  time variable\n",
    "    :return: matrix\n",
    "    =#\n",
    "    (H0 + V * u(t, x)) / im\n",
    "end\n",
    "\n",
    "function commutator(a, b)\n",
    "    a * b - b * a\n",
    "end \n",
    "\n",
    "###############################################################################\n",
    "# get the partial sum of the Magnus expansion\n",
    "A₁ = A(t[1])\n",
    "A₂ = A(t[2])\n",
    "A₃ = A(t[3])\n",
    "\n",
    "Ω = ∫(A₁, t[1], 0, T)\n",
    "\n",
    "Ω += 1//2 * ∫(∫(\n",
    "    commutator(A₁, A₂), \n",
    "    t[2], 0, t[1]), \n",
    "    t[1], 0, T\n",
    ")\n",
    "\n",
    "# Omega3 = Rational(1, 6) * integrate(integrate(integrate(\n",
    "#    commutator(A1, commutator(A2, A3))\n",
    "#    + commutator(commutator(A1, A2), A3),\n",
    "#    (t3, 0, t2)), (t2, 0, t1)), (t1, 0, T)\n",
    "# )\n",
    "\n",
    "###############################################################################\n",
    "\n",
    "# In the next section we evaluate the above approximation for \\tanh(\\Omega/2) and save it as approx_tanh.\n",
    "# Note that we empirically found that it is good to keep first 3 terms in the Taylor expansion for tanh\n",
    "\n",
    "Ω = convert(typeof(A₁), Ω)\n",
    "\n",
    "Ω²¼ = Ω^2 / 4\n",
    "\n",
    "approx_tanh = (Ω/2) * (I + Ω²¼ * (-1//3 * I + 2//15 * Ω²¼))\n",
    "\n",
    "\n",
    "obj = I - U_target + (I + U_target) * approx_tanh\n",
    "\n",
    "\n",
    "function real_poly(p::Polynomial)\n",
    "    #=\n",
    "    Real part of the polynomial\n",
    "    =#\n",
    "    sum(\n",
    "        real(c) * m for (c, m) in zip(coefficients(p), monomials(p))\n",
    "    )\n",
    "end\n",
    "\n",
    "\n",
    "obj = real_poly(tr(obj * obj'));\n",
    "\n",
    "obj(exact_x)"
   ]
  },
  {
   "cell_type": "raw",
   "id": "5734ae3d",
   "metadata": {},
   "source": [
    "# X = @polyvar x\n",
    "p = x^4+x^3-x-1\n",
    "\n",
    "using JuMP, MosekTools\n",
    "\n",
    "optimizer = optimizer_with_attributes(Mosek.Optimizer, \"QUIET\" => true)\n",
    "v, M = minimize(x^2, [p], [], X, 4, optimizer)"
   ]
  },
  {
   "cell_type": "code",
   "execution_count": 77,
   "id": "e65aaf18",
   "metadata": {},
   "outputs": [
    {
     "data": {
      "text/plain": [
       "(1.9737825306463386, A JuMP Model\n",
       "Minimization problem with:\n",
       "Variables: 1771\n",
       "Objective function type: AffExpr\n",
       "`AffExpr`-in-`MathOptInterface.EqualTo{Float64}`: 1 constraint\n",
       "`Vector{AffExpr}`-in-`MathOptInterface.PositiveSemidefiniteConeTriangle`: 1 constraint\n",
       "Model mode: AUTOMATIC\n",
       "CachingOptimizer state: NO_OPTIMIZER\n",
       "Solver name: No optimizer attached.\n",
       "Names registered in the model: basis, degree, dual, index, moments, monomials, nu, type, variables, y)"
      ]
     },
     "execution_count": 77,
     "metadata": {},
     "output_type": "execute_result"
    }
   ],
   "source": [
    "using MosekTools\n",
    "using JuMP\n",
    "\n",
    "optimizer = optimizer_with_attributes(Mosek.Optimizer, \"QUIET\" => true)\n",
    "v, M = minimize(obj, [], [], variables(obj), 10, optimizer)"
   ]
  },
  {
   "cell_type": "code",
   "execution_count": 78,
   "id": "027d8748",
   "metadata": {},
   "outputs": [
    {
     "data": {
      "text/plain": [
       "3×149 Matrix{Float64}:\n",
       " -3.15998  -2.88097   -2.73645  …  2.67997  2.67698  2.8636    3.17415\n",
       " -1.80997  -0.372281  -1.72714     1.21251  1.82328  0.400108  1.821\n",
       " -3.32297  -2.91667   -2.36483     2.48676  2.40568  2.94243   3.31321"
      ]
     },
     "execution_count": 78,
     "metadata": {},
     "output_type": "execute_result"
    }
   ],
   "source": [
    "r = get_minimizers(M)"
   ]
  },
  {
   "cell_type": "code",
   "execution_count": 79,
   "id": "82114ce5",
   "metadata": {},
   "outputs": [
    {
     "data": {
      "text/plain": [
       "4.243410280246884e-5"
      ]
     },
     "execution_count": 79,
     "metadata": {},
     "output_type": "execute_result"
    }
   ],
   "source": [
    "min([obj(r[:,indx]) for indx=1:size(r)[2]]...) - v"
   ]
  },
  {
   "cell_type": "code",
   "execution_count": 82,
   "id": "11ca7c2f",
   "metadata": {},
   "outputs": [
    {
     "data": {
      "text/plain": [
       "149-element Vector{Float64}:\n",
       " 34.13692646484685\n",
       " 10.213253068498283\n",
       " 14.376293809971443\n",
       " 11.119771483046053\n",
       "  6.804446247298103\n",
       "  8.512726892714545\n",
       "  9.3948639172089\n",
       "  6.650925311929859\n",
       "  6.056264254107954\n",
       "  6.685887711118211\n",
       "  6.337091861811945\n",
       "  6.150758305215899\n",
       "  5.020992443224238\n",
       "  ⋮\n",
       "  6.622361553927516\n",
       "  6.659095752946971\n",
       "  7.123779616235665\n",
       "  6.391246694649717\n",
       "  7.0152452756092805\n",
       " 10.041991907598169\n",
       "  9.208540384284905\n",
       "  7.301889009832049\n",
       " 12.09450234313131\n",
       " 15.931855781923154\n",
       " 11.058506691557024\n",
       " 38.52823051838681"
      ]
     },
     "execution_count": 82,
     "metadata": {},
     "output_type": "execute_result"
    }
   ],
   "source": [
    "[obj(r[:,indx]) for indx=1:size(r)[2]]"
   ]
  },
  {
   "cell_type": "code",
   "execution_count": 55,
   "id": "a8d75d73",
   "metadata": {},
   "outputs": [
    {
     "data": {
      "text/plain": [
       "3×30 Matrix{Float64}:\n",
       " -7.75431  -2.34921  -4.15503  -1.3932   …   9.00788   7.53668   5.95044\n",
       "  7.23509   4.54047   3.5735    3.79738      6.51475  -3.38563  -7.56709\n",
       " -3.92033  -5.31136  -1.04521  -2.9399      -3.87693  -0.36658   6.62907"
      ]
     },
     "execution_count": 55,
     "metadata": {},
     "output_type": "execute_result"
    }
   ],
   "source": [
    "r"
   ]
  },
  {
   "cell_type": "code",
   "execution_count": null,
   "id": "9ccdab1d",
   "metadata": {},
   "outputs": [],
   "source": []
  }
 ],
 "metadata": {
  "kernelspec": {
   "display_name": "Julia 1.8.0-beta3",
   "language": "julia",
   "name": "julia-1.8"
  },
  "language_info": {
   "file_extension": ".jl",
   "mimetype": "application/julia",
   "name": "julia",
   "version": "1.8.0"
  }
 },
 "nbformat": 4,
 "nbformat_minor": 5
}
