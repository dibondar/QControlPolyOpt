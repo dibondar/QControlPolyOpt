{
 "cells": [
  {
   "cell_type": "code",
   "execution_count": null,
   "metadata": {},
   "outputs": [],
   "source": []
  },
  {
   "cell_type": "code",
   "execution_count": 1,
   "metadata": {},
   "outputs": [],
   "source": [
    "import matplotlib.pyplot as plt\n",
    "\n",
    "import numpy as np\n",
    "from scipy.linalg import logm, expm, eigh\n",
    "\n",
    "from ncpol2sdpa import generate_variables, SdpRelaxation\n",
    "\n",
    "from qutip import propagator, Qobj\n",
    "\n",
    "from sympy import I, symbols, sympify, lambdify, Matrix, Float, Rational, pi, zeros, integrate, \\\n",
    "    re, im, exp, diag\n",
    "# from sympy import , eye, diag, Float, , , I, re, sin, , , \n",
    "\n",
    "from sympy.matrices import randMatrix, matrix2numpy"
   ]
  },
  {
   "cell_type": "markdown",
   "metadata": {},
   "source": [
    "# Constructing quantum system"
   ]
  },
  {
   "cell_type": "code",
   "execution_count": 2,
   "metadata": {},
   "outputs": [],
   "source": [
    "def get_random_matrix(n):\n",
    "    \"\"\"\n",
    "    Generate random Hermitian matrix\n",
    "    \"\"\"\n",
    "    H = randMatrix(4, percent=100) + I * randMatrix(4, percent=80)\n",
    "    H = H.H + H\n",
    "    \n",
    "    return H / 200"
   ]
  },
  {
   "cell_type": "markdown",
   "metadata": {},
   "source": [
    "Generate random quantum system with the hamiltonian\n",
    "$\\hat{H}(t) = \\hat{H}_0 + u(t) \\hat{V}$,\n",
    "where $u(t)$ is a control field."
   ]
  },
  {
   "cell_type": "code",
   "execution_count": 3,
   "metadata": {},
   "outputs": [],
   "source": [
    "sys_params = dict(\n",
    "    \n",
    "    # keep the field free Hamiltonian diagonal (it is better for sympy evaluation)\n",
    "    H0 = diag(Rational(5, 1), Rational(3, 2), 0, -2),\n",
    "    \n",
    "    V = get_random_matrix(4),\n",
    "    T = 2, # final time\n",
    ")\n",
    "\n",
    "# convert sympy matrix to qutip objects for subsequent propagation \n",
    "H0 = Qobj(matrix2numpy(sys_params['H0']))\n",
    "V = Qobj(matrix2numpy(sys_params['V']))"
   ]
  },
  {
   "cell_type": "markdown",
   "metadata": {},
   "source": [
    "Propagate to get the target unitary with some chose control"
   ]
  },
  {
   "cell_type": "code",
   "execution_count": 4,
   "metadata": {},
   "outputs": [],
   "source": [
    "# the chosen control\n",
    "u_original_str = '1 * cos(2 * 3.1416 * 1 * t)'\n",
    "\n",
    "# get target unitary\n",
    "U_target = propagator([H0, [V, u_original_str]], sys_params['T'])\n",
    "\n",
    "# covert the chosen control to the numpy function for plotting\n",
    "t = symbols('t')\n",
    "u_original = lambdify(t, sympify(u_original_str), 'numpy')"
   ]
  },
  {
   "cell_type": "code",
   "execution_count": 5,
   "metadata": {},
   "outputs": [],
   "source": [
    "# time variable\n",
    "t = symbols('t', real=True)\n",
    "\n",
    "# the coefficients as varaibles to be minimize over\n",
    "x = generate_variables('x', 6)\n",
    "\n",
    "# define controls symbolically\n",
    "u = lambdify(t, sum(c * t ** n_ for n_, c in enumerate(x)))"
   ]
  },
  {
   "cell_type": "markdown",
   "metadata": {},
   "source": [
    "# Dyson series\n",
    "\n",
    "\\begin{align}\n",
    "\t\\hat{\\mathcal{U}}(t, t') =& \\hat{\\mathcal{U}}_0(t, t')  \n",
    "\t\t-i \\int_{t'}^{t} d\\tau_1 \\, \\hat{\\mathcal{U}}_0(t, \\tau_1)  \\hat{V}(\\tau_1) \\hat{\\mathcal{U}}_0(\\tau_1, t') \\notag\\\\\n",
    "\t& + (-i)^2 \\int_{t'}^{t} d\\tau_1 \\int_{\\tau_1}^{t} d\\tau_2 \\, \\hat{\\mathcal{U}}_0 (t, \\tau_2)  \\hat{V}(\\tau_2) \\hat{\\mathcal{U}}_0(\\tau_2, \\tau_1) \\hat{V}(\\tau_1) \\hat{\\mathcal{U}}_0(\\tau_1, t') \\notag\\\\\n",
    "\t& + (-i)^3 \\int_{t'}^{t} d\\tau_1 \\int_{\\tau_1}^{t} d\\tau_2 \\int_{\\tau_2}^{t} d\\tau_3  \\, \n",
    "\t\\hat{\\mathcal{U}}_0 (t, \\tau_3)  \\hat{V}(\\tau_3) \\hat{\\mathcal{U}}_0(\\tau_3, \\tau_2) \\hat{V}(\\tau_2) \\hat{\\mathcal{U}}_0(\\tau_2, \\tau_1) \\hat{V}(\\tau_1) \\hat{\\mathcal{U}}_0(\\tau_1, t') + \\cdots\n",
    "\\end{align}\n",
    "where\n",
    "\\begin{align}\n",
    "\t\\hat{\\mathcal{U}}(t, t') &= \\hat{\\mathcal{T}} \\exp\\left[ -i \\int_{t'}^{t} \\left[ \\hat{H}_0 + \\hat{V}(\\tau) \\right]  d\\tau \\right], \n",
    "\t\\quad \n",
    "\t\\hat{\\mathcal{U}}_0(t, t') = \\hat{\\mathcal{T}} \\exp\\left[ -i \\hat{H}_0 (t-t') \\right]. \n",
    "\\end{align}"
   ]
  },
  {
   "cell_type": "code",
   "execution_count": 6,
   "metadata": {},
   "outputs": [],
   "source": [
    "def Dyson_series(*, H0, V, u, T, **kwargs):\n",
    "    \n",
    "    # symbols\n",
    "    t1, t2, t3 = symbols('t1, t2, t3', real=True)\n",
    "    \n",
    "    # the field free propagator\n",
    "    U0 = lambda t: exp(-I * H0 * t)\n",
    "    \n",
    "    # we assume the initial time is zero\n",
    "    first_order = -I * integrate(U0(T - t1) * V * u(t1) * U0(t1), (t1, 0, T))\n",
    "    \n",
    "    # the second correction is too expensive for simpy to evaluate\n",
    "    \"\"\"\n",
    "    second_order = (-I) ** 2 * integrate(\n",
    "        integrate(\n",
    "            U0(T - t2) * V * u(t2) * U0(t2 - t1) * V * u(t1) * U0(t1),\n",
    "            (t2, t1, T)\n",
    "        ),\n",
    "        (t1, 0, T)\n",
    "    )\n",
    "    \"\"\"    \n",
    "    return U0(T) + first_order\n"
   ]
  },
  {
   "cell_type": "markdown",
   "metadata": {},
   "source": [
    "Objective function"
   ]
  },
  {
   "cell_type": "code",
   "execution_count": 7,
   "metadata": {
    "scrolled": false
   },
   "outputs": [],
   "source": [
    "obj = (\n",
    "    (Dyson_series(u=u, **sys_params) - Matrix(U_target)).norm() ** 2\n",
    ").simplify().evalf()"
   ]
  },
  {
   "cell_type": "markdown",
   "metadata": {},
   "source": [
    "Run optimization"
   ]
  },
  {
   "cell_type": "code",
   "execution_count": 8,
   "metadata": {},
   "outputs": [],
   "source": [
    "sdp = SdpRelaxation(x)\n",
    "sdp.get_relaxation(2, objective=re(obj))\n",
    "sdp.solve(solver='mosek')\n",
    "\n",
    "# extract the values of control\n",
    "if sdp.status == 'optimal':\n",
    "    opt_vals = [sdp[_] for _ in sdp.variables]\n",
    "    \n",
    "    # construct the control\n",
    "    t = symbols('t', real=True)\n",
    "    u_reconstructed = sum(c * t ** n_ for n_, c in enumerate(opt_vals))\n",
    "    \n",
    "    # Covert u_reconstructed to string for qutip below\n",
    "    u_reconstructed_str = str(u_reconstructed)\n",
    "    \n",
    "    # u_reconstructed for plotting\n",
    "    u_reconstructed = lambdify(t, u_reconstructed, 'numpy')"
   ]
  },
  {
   "cell_type": "markdown",
   "metadata": {},
   "source": [
    "Get the value of the objective function"
   ]
  },
  {
   "cell_type": "code",
   "execution_count": 9,
   "metadata": {},
   "outputs": [
    {
     "data": {
      "text/latex": [
       "$\\displaystyle 0.3501956705054 - 4.05221398835009 \\cdot 10^{-13} i$"
      ],
      "text/plain": [
       "0.3501956705054 - 4.05221398835009e-13*I"
      ]
     },
     "execution_count": 9,
     "metadata": {},
     "output_type": "execute_result"
    }
   ],
   "source": [
    "obj.subs(\n",
    "    zip(sdp.variables, (sdp[_] for _ in sdp.variables))\n",
    ").evalf()"
   ]
  },
  {
   "cell_type": "markdown",
   "metadata": {},
   "source": [
    "Plot the recovered control via commutative pop vs the original control"
   ]
  },
  {
   "cell_type": "code",
   "execution_count": 10,
   "metadata": {},
   "outputs": [
    {
     "data": {
      "image/png": "[encoded data removed]",
      "text/plain": [
       "<Figure size 432x288 with 1 Axes>"
      ]
     },
     "metadata": {
      "needs_background": "light"
     },
     "output_type": "display_data"
    }
   ],
   "source": [
    "t = np.linspace(0, sys_params['T'], 100)\n",
    "\n",
    "plt.title('Controls')\n",
    "plt.plot(t, u_original(t), label='original')\n",
    "plt.plot(t, u_reconstructed(t), label='reconstructed')\n",
    "plt.ylabel('$u(t)$')\n",
    "plt.xlabel('t')\n",
    "plt.legend()\n",
    "plt.show()"
   ]
  },
  {
   "cell_type": "markdown",
   "metadata": {},
   "source": [
    "Get the norm difference between the target unitary and recovered unitary "
   ]
  },
  {
   "cell_type": "code",
   "execution_count": 11,
   "metadata": {},
   "outputs": [
    {
     "data": {
      "text/plain": [
       "0.45802834315874424"
      ]
     },
     "execution_count": 11,
     "metadata": {},
     "output_type": "execute_result"
    }
   ],
   "source": [
    "Ug = propagator([H0, [V, u_reconstructed_str]], sys_params['T'])\n",
    "(Ug - U_target).norm()"
   ]
  },
  {
   "cell_type": "code",
   "execution_count": null,
   "metadata": {},
   "outputs": [],
   "source": []
  },
  {
   "cell_type": "code",
   "execution_count": 12,
   "metadata": {},
   "outputs": [],
   "source": [
    "f = re(obj)\n",
    "jac = [f.diff(_) for _ in x]\n",
    "hess = [[df.diff(_) for _ in x] for df in jac]"
   ]
  },
  {
   "cell_type": "code",
   "execution_count": 13,
   "metadata": {},
   "outputs": [],
   "source": [
    "f = lambdify(x, f, 'numpy')\n",
    "jac = lambdify(x, jac, 'numpy')\n",
    "hess = lambdify(x, hess, 'numpy')"
   ]
  },
  {
   "cell_type": "code",
   "execution_count": 14,
   "metadata": {},
   "outputs": [],
   "source": [
    "from scipy.optimize import minimize"
   ]
  },
  {
   "cell_type": "code",
   "execution_count": 15,
   "metadata": {},
   "outputs": [],
   "source": [
    "solution = minimize(lambda _: f(*_), np.zeros(len(x)), jac=lambda _: jac(*_), hess=lambda _: hess(*_), method='Newton-CG')"
   ]
  },
  {
   "cell_type": "code",
   "execution_count": 16,
   "metadata": {},
   "outputs": [
    {
     "data": {
      "text/plain": [
       "     fun: 0.350185285616057\n",
       "     jac: array([ 1.27767241e-12,  7.51246287e-13,  2.30038211e-13, -5.32240918e-13,\n",
       "       -2.19779750e-12, -3.61222163e-12])\n",
       " message: 'Optimization terminated successfully.'\n",
       "    nfev: 11\n",
       "    nhev: 11\n",
       "     nit: 11\n",
       "    njev: 11\n",
       "  status: 0\n",
       " success: True\n",
       "       x: array([  2.96703221, -25.35903871,  54.1268024 , -41.74407218,\n",
       "        10.70155937,  -0.09872658])"
      ]
     },
     "execution_count": 16,
     "metadata": {},
     "output_type": "execute_result"
    }
   ],
   "source": [
    "solution"
   ]
  },
  {
   "cell_type": "code",
   "execution_count": 17,
   "metadata": {},
   "outputs": [],
   "source": [
    "    ##########################\n",
    "    #if solution.success:\n",
    "    ###########################\n",
    "    # construct the control\n",
    "    t = symbols('t', real=True)\n",
    "    u_scipy_reconstructed = sum(c * t ** n_ for n_, c in enumerate(solution.x))\n",
    "    \n",
    "    # Covert u_reconstructed to string for qutip below\n",
    "    u_scipy_reconstructed_str = str(u_scipy_reconstructed)\n",
    "    \n",
    "    # u_reconstructed for plotting\n",
    "    u_scipy_reconstructed = lambdify(t, u_scipy_reconstructed, 'numpy')"
   ]
  },
  {
   "cell_type": "code",
   "execution_count": 18,
   "metadata": {},
   "outputs": [
    {
     "data": {
      "image/png": "[encoded data removed]",
      "text/plain": [
       "<Figure size 432x288 with 1 Axes>"
      ]
     },
     "metadata": {
      "needs_background": "light"
     },
     "output_type": "display_data"
    }
   ],
   "source": [
    "t = np.linspace(0, sys_params['T'], 100)\n",
    "\n",
    "plt.title('Controls')\n",
    "plt.plot(t, u_original(t), label='original')\n",
    "plt.plot(t, u_reconstructed(t), label='reconstructed')\n",
    "plt.plot(t, u_scipy_reconstructed(t), label='scipy reconstructed')\n",
    "plt.ylabel('$u(t)$')\n",
    "plt.xlabel('t')\n",
    "plt.legend()\n",
    "plt.show()"
   ]
  },
  {
   "cell_type": "code",
   "execution_count": 19,
   "metadata": {},
   "outputs": [
    {
     "data": {
      "text/plain": [
       "0.4588326727706299"
      ]
     },
     "execution_count": 19,
     "metadata": {},
     "output_type": "execute_result"
    }
   ],
   "source": [
    "Ug = propagator([H0, [V, u_scipy_reconstructed_str]], sys_params['T'])\n",
    "(Ug - U_target).norm()"
   ]
  },
  {
   "cell_type": "code",
   "execution_count": 20,
   "metadata": {},
   "outputs": [
    {
     "data": {
      "text/plain": [
       "'-0.034789950656167*t**5 + 10.3833016951389*t**4 - 41.1747307236453*t**3 + 53.6880129952095*t**2 - 25.2227267132314*t + 2.95451767617563'"
      ]
     },
     "execution_count": 20,
     "metadata": {},
     "output_type": "execute_result"
    }
   ],
   "source": [
    "u_reconstructed_str"
   ]
  },
  {
   "cell_type": "code",
   "execution_count": null,
   "metadata": {},
   "outputs": [],
   "source": []
  }
 ],
 "metadata": {
  "kernelspec": {
   "display_name": "Python 3",
   "language": "python",
   "name": "python3"
  },
  "language_info": {
   "codemirror_mode": {
    "name": "ipython",
    "version": 3
   },
   "file_extension": ".py",
   "mimetype": "text/x-python",
   "name": "python",
   "nbconvert_exporter": "python",
   "pygments_lexer": "ipython3",
   "version": "3.8.3"
  }
 },
 "nbformat": 4,
 "nbformat_minor": 4
}
