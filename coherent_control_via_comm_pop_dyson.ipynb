{
 "cells": [
  {
   "cell_type": "code",
   "execution_count": null,
   "metadata": {},
   "outputs": [],
   "source": []
  },
  {
   "cell_type": "code",
   "execution_count": 1,
   "metadata": {},
   "outputs": [],
   "source": [
    "import matplotlib.pyplot as plt\n",
    "\n",
    "import numpy as np\n",
    "from scipy.linalg import logm, expm, eigh\n",
    "\n",
    "from ncpol2sdpa import generate_variables, SdpRelaxation\n",
    "\n",
    "from qutip import propagator, Qobj\n",
    "\n",
    "from sympy import I, symbols, sympify, lambdify, Matrix, Float, Rational, pi, zeros, integrate, \\\n",
    "    re, exp, diag\n",
    "# from sympy import , eye, diag, Float, , , I, re, sin, , , \n",
    "\n",
    "from sympy.matrices import randMatrix, matrix2numpy"
   ]
  },
  {
   "cell_type": "markdown",
   "metadata": {},
   "source": [
    "# Constructing quantum system"
   ]
  },
  {
   "cell_type": "code",
   "execution_count": 2,
   "metadata": {},
   "outputs": [],
   "source": [
    "def get_random_matrix(n):\n",
    "    \"\"\"\n",
    "    Generate random Hermitian matrix\n",
    "    \"\"\"\n",
    "    H = randMatrix(4, percent=100) + I * randMatrix(4, percent=80)\n",
    "    H = H.H + H\n",
    "    \n",
    "    return H / 200"
   ]
  },
  {
   "cell_type": "markdown",
   "metadata": {},
   "source": [
    "Generate random quantum system with the hamiltonian\n",
    "$\\hat{H}(t) = \\hat{H}_0 + u(t) \\hat{V}$,\n",
    "where $u(t)$ is a control field."
   ]
  },
  {
   "cell_type": "code",
   "execution_count": 3,
   "metadata": {},
   "outputs": [],
   "source": [
    "sys_params = dict(\n",
    "    \n",
    "    # keep the field free Hamiltonian diagonal (it is better for sympy evaluation)\n",
    "    H0 = diag(Rational(5, 1), Rational(3, 2), 0, -2),\n",
    "    \n",
    "    V = get_random_matrix(4),\n",
    "    T = 2, # final time\n",
    ")\n",
    "\n",
    "# convert sympy matrix to qutip objects for subsequent propagation \n",
    "H0 = Qobj(matrix2numpy(sys_params['H0']))\n",
    "V = Qobj(matrix2numpy(sys_params['V']))"
   ]
  },
  {
   "cell_type": "markdown",
   "metadata": {},
   "source": [
    "Propagate to get the target unitary with some chose control"
   ]
  },
  {
   "cell_type": "code",
   "execution_count": 4,
   "metadata": {},
   "outputs": [],
   "source": [
    "# the chosen control\n",
    "u_original_str = '2 * cos(2 * 3.1416 * 1 * t)'\n",
    "\n",
    "# get target unitary\n",
    "U_target = propagator([H0, [V, u_original_str]], sys_params['T'])\n",
    "\n",
    "# covert the chosen control to the numpy function for plotting\n",
    "t = symbols('t')\n",
    "u_original = lambdify(t, sympify(u_original_str), 'numpy')"
   ]
  },
  {
   "cell_type": "code",
   "execution_count": 5,
   "metadata": {},
   "outputs": [],
   "source": [
    "# time variable\n",
    "t = symbols('t', real=True)\n",
    "\n",
    "# the coefficients as varaibles to be minimize over\n",
    "x = generate_variables('x', 6)\n",
    "\n",
    "# define controls symbolically\n",
    "u = lambdify(t, sum(c * t ** n_ for n_, c in enumerate(x)))"
   ]
  },
  {
   "cell_type": "markdown",
   "metadata": {},
   "source": [
    "# Dyson series\n",
    "\n",
    "\\begin{align}\n",
    "\t\\hat{\\mathcal{U}}(t, t') &= \\hat{\\mathcal{U}}_0(t, t')  \n",
    "\t\t-i \\int_{t'}^{t} d\\tau_1 \\, \\hat{\\mathcal{U}}_0(t, \\tau_1)  \\hat{V}(\\tau_1) \\hat{\\mathcal{U}}_0(\\tau_1, t') \\notag\\\\\n",
    "\t& + (-i)^2 \\int_{t'}^{t} d\\tau_1 \\int_{\\tau_1}^{t} d\\tau_2 \\, \\hat{\\mathcal{U}}_0 (t, \\tau_2)  \\hat{V}(\\tau_2) \\hat{\\mathcal{U}}_0(\\tau_2, \\tau_1) \\hat{V}(\\tau_1) \\hat{\\mathcal{U}}_0(\\tau_1, t') \\notag\\\\\n",
    "\t& + (-i)^3 \\int_{t'}^{t} d\\tau_1 \\int_{\\tau_1}^{t} d\\tau_2 \\int_{\\tau_2}^{t} d\\tau_3  \\, \n",
    "\t\\hat{\\mathcal{U}}_0 (t, \\tau_3)  \\hat{V}(\\tau_3) \\hat{\\mathcal{U}}_0(\\tau_3, \\tau_2) \\hat{V}(\\tau_2) \\hat{\\mathcal{U}}_0(\\tau_2, \\tau_1) \\hat{V}(\\tau_1) \\hat{\\mathcal{U}}_0(\\tau_1, t') + \\cdots\n",
    "\\end{align}\n",
    "where\n",
    "\\begin{align}\n",
    "\t\\hat{\\mathcal{U}}(t, t') &= \\hat{\\mathcal{T}} \\exp\\left[ -i \\int_{t'}^{t} \\left[ \\hat{H}_0 + \\hat{V}(\\tau) \\right]  d\\tau \\right], \n",
    "\t\\quad \n",
    "\t\\hat{\\mathcal{U}}_0(t, t') = \\hat{\\mathcal{T}} \\exp\\left[ -i \\hat{H}_0 (t-t') \\right]. \n",
    "\\end{align}"
   ]
  },
  {
   "cell_type": "code",
   "execution_count": 6,
   "metadata": {},
   "outputs": [],
   "source": [
    "def Dyson_series(*, H0, V, u, T, **kwargs):\n",
    "    \n",
    "    # symbols\n",
    "    t1, t2, t3 = symbols('t1, t2, t3', real=True)\n",
    "    \n",
    "    # the field free propagator\n",
    "    U0 = lambda t: exp(-I * H0 * t)\n",
    "    \n",
    "    # we assume the initial time is zero\n",
    "    first_order = -I * integrate(U0(T - t1) * V * u(t1) * U0(t1), (t1, 0, T))\n",
    "    \n",
    "    # the second correction is too expensive for simpy to evaluate\n",
    "    \"\"\"\n",
    "    second_order = (-I) ** 2 * integrate(\n",
    "        integrate(\n",
    "            U0(T - t2) * V * u(t2) * U0(t2 - t1) * V * u(t1) * U0(t1),\n",
    "            (t2, t1, T)\n",
    "        ),\n",
    "        (t1, 0, T)\n",
    "    )\n",
    "    \"\"\"    \n",
    "    return U0(T) + first_order\n"
   ]
  },
  {
   "cell_type": "markdown",
   "metadata": {},
   "source": [
    "Objective function"
   ]
  },
  {
   "cell_type": "code",
   "execution_count": 7,
   "metadata": {
    "scrolled": false
   },
   "outputs": [],
   "source": [
    "obj = (\n",
    "    (Dyson_series(u=u, **sys_params) - Matrix(U_target)).norm() ** 2\n",
    ").simplify().evalf()"
   ]
  },
  {
   "cell_type": "markdown",
   "metadata": {},
   "source": [
    "Run optimization"
   ]
  },
  {
   "cell_type": "code",
   "execution_count": 8,
   "metadata": {},
   "outputs": [],
   "source": [
    "sdp = SdpRelaxation(x)\n",
    "sdp.get_relaxation(2, objective=re(obj))\n",
    "sdp.solve(solver='mosek')\n",
    "\n",
    "# extract the values of control\n",
    "if sdp.status == 'optimal':\n",
    "    opt_vals = [sdp[_] for _ in sdp.variables]\n",
    "    \n",
    "    # construct the control\n",
    "    t = symbols('t', real=True)\n",
    "    u_reconstructed = sum(c * t ** n_ for n_, c in enumerate(opt_vals))\n",
    "    \n",
    "    # Covert u_reconstructed to string for qutip below\n",
    "    u_reconstructed_str = str(u_reconstructed)\n",
    "    \n",
    "    # u_reconstructed for plotting\n",
    "    u_reconstructed = lambdify(t, u_reconstructed, 'numpy')"
   ]
  },
  {
   "cell_type": "markdown",
   "metadata": {},
   "source": [
    "Get the value of the objective function"
   ]
  },
  {
   "cell_type": "code",
   "execution_count": 9,
   "metadata": {},
   "outputs": [
    {
     "data": {
      "text/latex": [
       "$\\displaystyle 0.732836446918758 - 1.32300700478533 \\cdot 10^{-12} i$"
      ],
      "text/plain": [
       "0.732836446918758 - 1.32300700478533e-12*I"
      ]
     },
     "execution_count": 9,
     "metadata": {},
     "output_type": "execute_result"
    }
   ],
   "source": [
    "obj.subs(\n",
    "    zip(sdp.variables, (sdp[_] for _ in sdp.variables))\n",
    ").evalf()"
   ]
  },
  {
   "cell_type": "markdown",
   "metadata": {},
   "source": [
    "Plot the recovered control via commutative pop vs the original control"
   ]
  },
  {
   "cell_type": "code",
   "execution_count": 10,
   "metadata": {},
   "outputs": [
    {
     "data": {
      "image/png": "[encoded data removed]",
      "text/plain": [
       "<Figure size 432x288 with 1 Axes>"
      ]
     },
     "metadata": {
      "needs_background": "light"
     },
     "output_type": "display_data"
    }
   ],
   "source": [
    "t = np.linspace(0, sys_params['T'], 100)\n",
    "\n",
    "plt.title('Controls')\n",
    "plt.plot(t, u_original(t), label='original')\n",
    "plt.plot(t, u_reconstructed(t), label='reconstructed')\n",
    "plt.ylabel('$u(t)$')\n",
    "plt.xlabel('t')\n",
    "plt.legend()\n",
    "plt.show()"
   ]
  },
  {
   "cell_type": "markdown",
   "metadata": {},
   "source": [
    "Get the norm difference between the target unitary and recovered unitary "
   ]
  },
  {
   "cell_type": "code",
   "execution_count": 11,
   "metadata": {},
   "outputs": [
    {
     "data": {
      "text/plain": [
       "0.7900645940139055"
      ]
     },
     "execution_count": 11,
     "metadata": {},
     "output_type": "execute_result"
    }
   ],
   "source": [
    "Ug = propagator([H0, [V, u_reconstructed_str]], sys_params['T'])\n",
    "(Ug - U_target).norm()"
   ]
  },
  {
   "cell_type": "code",
   "execution_count": null,
   "metadata": {},
   "outputs": [],
   "source": []
  }
 ],
 "metadata": {
  "kernelspec": {
   "display_name": "Python 3",
   "language": "python",
   "name": "python3"
  },
  "language_info": {
   "codemirror_mode": {
    "name": "ipython",
    "version": 3
   },
   "file_extension": ".py",
   "mimetype": "text/x-python",
   "name": "python",
   "nbconvert_exporter": "python",
   "pygments_lexer": "ipython3",
   "version": "3.8.3"
  }
 },
 "nbformat": 4,
 "nbformat_minor": 4
}
