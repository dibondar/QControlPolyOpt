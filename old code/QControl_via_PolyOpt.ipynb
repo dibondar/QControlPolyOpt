{
 "cells": [
  {
   "cell_type": "code",
   "execution_count": null,
   "metadata": {},
   "outputs": [],
   "source": []
  },
  {
   "cell_type": "code",
   "execution_count": 1,
   "metadata": {},
   "outputs": [],
   "source": [
    "from ncpol2sdpa import generate_variables, SdpRelaxation\n",
    "from sympy import *\n",
    "#import numpy as np"
   ]
  },
  {
   "cell_type": "code",
   "execution_count": 2,
   "metadata": {},
   "outputs": [],
   "source": [
    "class Variables:\n",
    "\n",
    "    variables = []\n",
    "    \n",
    "    _num_calls = 0\n",
    "    \n",
    "    @staticmethod\n",
    "    def get_new(num):\n",
    "        \"\"\"\n",
    "        num -- number of new variables requested\n",
    "        \"\"\"   \n",
    "        variables = Variables.variables\n",
    "        \n",
    "        # generate new variables\n",
    "        new_variables = generate_variables('u_{}'.format(Variables._num_calls), num)\n",
    "        \n",
    "        Variables._num_calls += 1\n",
    "        \n",
    "        # save them\n",
    "        variables.extend(new_variables)\n",
    "        \n",
    "        return new_variables\n",
    "    \n",
    "    def __init__(self):\n",
    "        raise Exception(\"This class is a singleton!\")"
   ]
  },
  {
   "cell_type": "code",
   "execution_count": 3,
   "metadata": {},
   "outputs": [],
   "source": [
    "def poly_approx_single_step_propagator(*, H0, V, dt, Variables, **kwargs):\n",
    "    \"\"\"\n",
    "    H0 -- the field free Hamiltonian\n",
    "    V -- the interaction operator\n",
    "    dt -- time step\n",
    "    Variables -- generator of new time variables\n",
    "    \"\"\"\n",
    "    u = Variables.get_new(1)[0]\n",
    "    \n",
    "    # use the linear approximation to the matrix exponent\n",
    "    X = -I * dt * (H0 + u * V)\n",
    "    return eye(H0.shape[0]) + X #+ X ** 2 / 2\n",
    "    \n",
    "def poly_approx_for_propagator(*, n_tsteps, **kwargs):\n",
    "    \"\"\"\n",
    "    n_tsteps -- number of time steps to reach final time\n",
    "    \"\"\"\n",
    "    assert n_tsteps > 1\n",
    "    U = poly_approx_single_step_propagator(**kwargs)\n",
    "    \n",
    "    for _ in range(n_tsteps - 1):\n",
    "        U = poly_approx_single_step_propagator(**kwargs) @ U\n",
    "        \n",
    "    return U\n",
    "\n",
    "def get_final_state(*, psi0, **kwargs):\n",
    "    \"\"\"\n",
    "    psi0 -- the initial state\n",
    "    \"\"\"\n",
    "    return poly_approx_for_propagator(**kwargs) @ psi0"
   ]
  },
  {
   "cell_type": "markdown",
   "metadata": {},
   "source": [
    "# Define quantum systems"
   ]
  },
  {
   "cell_type": "code",
   "execution_count": 4,
   "metadata": {},
   "outputs": [],
   "source": [
    "sys_params = dict(\n",
    "    # the field free Hamiltonian\n",
    "    H0 = Matrix([[0, 1], [1, 0]]), #zeros(2, 2), #Matrix([0, 0]),\n",
    "    \n",
    "    # the interaction operator\n",
    "    V = Matrix([[1, 0], [0, -1]]), #eye(2),\n",
    "    \n",
    "    # initial condition\n",
    "    psi0 = Matrix([[1], [0]]),\n",
    "    \n",
    "    # time step\n",
    "    dt = Rational(1, 1),\n",
    "    \n",
    "    # number of time steps\n",
    "    n_tsteps = 4,\n",
    "    \n",
    "    # singleton to yield new optimization variables\n",
    "    Variables = Variables,\n",
    ")"
   ]
  },
  {
   "cell_type": "markdown",
   "metadata": {},
   "source": [
    "# Generate polynomial approximation for the propagator"
   ]
  },
  {
   "cell_type": "markdown",
   "metadata": {},
   "source": [
    "# good case"
   ]
  },
  {
   "cell_type": "code",
   "execution_count": 5,
   "metadata": {},
   "outputs": [],
   "source": [
    "psi_fin = get_final_state(**sys_params)"
   ]
  },
  {
   "cell_type": "code",
   "execution_count": 18,
   "metadata": {},
   "outputs": [],
   "source": [
    "# , \n",
    "obj = (psi_fin - Matrix([[-2+50*I], [-6+32*I]])).norm() ** 2\n"
   ]
  },
  {
   "cell_type": "code",
   "execution_count": 19,
   "metadata": {},
   "outputs": [
    {
     "data": {
      "text/latex": [
       "$\\displaystyle u_{0}^{2} u_{1}^{2} u_{2}^{2} u_{3}^{2} + 2 u_{0}^{2} u_{1}^{2} u_{2}^{2} + 2 u_{0}^{2} u_{1}^{2} u_{3}^{2} + 4 u_{0}^{2} u_{1}^{2} + 2 u_{0}^{2} u_{2}^{2} u_{3}^{2} + 4 u_{0}^{2} u_{2}^{2} + 4 u_{0}^{2} u_{3}^{2} + 8 u_{0}^{2} + 4 u_{0} u_{1} u_{2} u_{3} - 88 u_{0} u_{1} u_{2} - 112 u_{0} u_{1} u_{3} - 128 u_{0} u_{1} - 88 u_{0} u_{2} u_{3} - 8 u_{0} u_{2} + 128 u_{0} u_{3} - 224 u_{0} + 2 u_{1}^{2} u_{2}^{2} u_{3}^{2} + 4 u_{1}^{2} u_{2}^{2} + 4 u_{1}^{2} u_{3}^{2} + 8 u_{1}^{2} - 112 u_{1} u_{2} u_{3} - 128 u_{1} u_{2} - 8 u_{1} u_{3} + 176 u_{1} + 4 u_{2}^{2} u_{3}^{2} + 8 u_{2}^{2} - 128 u_{2} u_{3} + 224 u_{2} + 8 u_{3}^{2} - 176 u_{3} + 3564$"
      ],
      "text/plain": [
       "u_0**2*u_1**2*u_2**2*u_3**2 + 2*u_0**2*u_1**2*u_2**2 + 2*u_0**2*u_1**2*u_3**2 + 4*u_0**2*u_1**2 + 2*u_0**2*u_2**2*u_3**2 + 4*u_0**2*u_2**2 + 4*u_0**2*u_3**2 + 8*u_0**2 + 4*u_0*u_1*u_2*u_3 - 88*u_0*u_1*u_2 - 112*u_0*u_1*u_3 - 128*u_0*u_1 - 88*u_0*u_2*u_3 - 8*u_0*u_2 + 128*u_0*u_3 - 224*u_0 + 2*u_1**2*u_2**2*u_3**2 + 4*u_1**2*u_2**2 + 4*u_1**2*u_3**2 + 8*u_1**2 - 112*u_1*u_2*u_3 - 128*u_1*u_2 - 8*u_1*u_3 + 176*u_1 + 4*u_2**2*u_3**2 + 8*u_2**2 - 128*u_2*u_3 + 224*u_2 + 8*u_3**2 - 176*u_3 + 3564"
      ]
     },
     "execution_count": 19,
     "metadata": {},
     "output_type": "execute_result"
    }
   ],
   "source": [
    "#simplify(psi_fin.subs(zip(Variables.variables, range(3))))\n",
    "obj"
   ]
  },
  {
   "cell_type": "code",
   "execution_count": 22,
   "metadata": {},
   "outputs": [],
   "source": [
    "sdp = SdpRelaxation(Variables.variables)\n",
    "sdp.get_relaxation(5, objective=obj)\n",
    "sdp.solve(solver='mosek')"
   ]
  },
  {
   "cell_type": "code",
   "execution_count": 23,
   "metadata": {},
   "outputs": [
    {
     "name": "stdout",
     "output_type": "stream",
     "text": [
      "[1.0299920247164267, 2.007231264171626, 2.981472508644547, 3.9759304648422775]\n"
     ]
    }
   ],
   "source": [
    "# extract the values of control\n",
    "if sdp.status == 'optimal':\n",
    "    print([sdp[_] for _ in sdp.variables])"
   ]
  },
  {
   "cell_type": "code",
   "execution_count": 73,
   "metadata": {},
   "outputs": [
    {
     "data": {
      "text/plain": [
       "(8.99776987353107e-05, 8.646784965549159e-05)"
      ]
     },
     "execution_count": 73,
     "metadata": {},
     "output_type": "execute_result"
    }
   ],
   "source": [
    "sdp.primal, sdp.dual"
   ]
  },
  {
   "cell_type": "code",
   "execution_count": 25,
   "metadata": {},
   "outputs": [
    {
     "data": {
      "text/latex": [
       "$\\displaystyle 0.52488513687058$"
      ],
      "text/plain": [
       "0.524885136870580"
      ]
     },
     "execution_count": 25,
     "metadata": {},
     "output_type": "execute_result"
    }
   ],
   "source": [
    "simplify(\n",
    "    obj.subs(\n",
    "        zip(sdp.variables, (sdp[_] for _ in sdp.variables))\n",
    "    )\n",
    ")"
   ]
  },
  {
   "cell_type": "code",
   "execution_count": 16,
   "metadata": {},
   "outputs": [
    {
     "data": {
      "text/latex": [
       "$\\displaystyle - 2.0 i$"
      ],
      "text/plain": [
       "-2.0*I"
      ]
     },
     "execution_count": 16,
     "metadata": {},
     "output_type": "execute_result"
    }
   ],
   "source": [
    "((1 - I) ** 2).evalf()"
   ]
  },
  {
   "cell_type": "code",
   "execution_count": 9,
   "metadata": {},
   "outputs": [
    {
     "data": {
      "text/latex": [
       "$\\displaystyle \\left[\\begin{matrix}- i \\left(- i \\left(1 - i\\right) - i \\left(1 + 2 i\\right)\\right) + \\left(-1 + \\left(1 - 2 i\\right) \\left(1 - i\\right)\\right) \\left(1 - 3 i\\right)\\\\\\left(i u_{2} + 1\\right) \\left(- i \\left(- i u_{0} + 1\\right) - i \\left(i u_{1} + 1\\right)\\right) - i \\left(\\left(- i u_{0} + 1\\right) \\left(- i u_{1} + 1\\right) - 1\\right)\\end{matrix}\\right]$"
      ],
      "text/plain": [
       "Matrix([\n",
       "[               -I*(-I*(1 - I) - I*(1 + 2*I)) + (-1 + (1 - 2*I)*(1 - I))*(1 - 3*I)],\n",
       "[(I*u_2 + 1)*(-I*(-I*u_0 + 1) - I*(I*u_1 + 1)) - I*((-I*u_0 + 1)*(-I*u_1 + 1) - 1)]])"
      ]
     },
     "execution_count": 9,
     "metadata": {},
     "output_type": "execute_result"
    }
   ],
   "source": [
    "psi_fin.subs(\n",
    "        zip(Variables.variables, [1,2,3])\n",
    "    )"
   ]
  },
  {
   "cell_type": "code",
   "execution_count": 10,
   "metadata": {},
   "outputs": [
    {
     "data": {
      "text/latex": [
       "$\\displaystyle \\left[\\begin{matrix}\\left(- i u_{2} + 1\\right) \\left(\\left(- i u_{0} + 1\\right) \\left(- i u_{1} + 1\\right) - 1\\right) - i \\left(- i \\left(- i u_{0} + 1\\right) - i \\left(i u_{1} + 1\\right)\\right)\\\\\\left(i u_{2} + 1\\right) \\left(- i \\left(- i u_{0} + 1\\right) - i \\left(i u_{1} + 1\\right)\\right) - i \\left(\\left(- i u_{0} + 1\\right) \\left(- i u_{1} + 1\\right) - 1\\right)\\end{matrix}\\right]$"
      ],
      "text/plain": [
       "Matrix([\n",
       "[(-I*u_2 + 1)*((-I*u_0 + 1)*(-I*u_1 + 1) - 1) - I*(-I*(-I*u_0 + 1) - I*(I*u_1 + 1))],\n",
       "[ (I*u_2 + 1)*(-I*(-I*u_0 + 1) - I*(I*u_1 + 1)) - I*((-I*u_0 + 1)*(-I*u_1 + 1) - 1)]])"
      ]
     },
     "execution_count": 10,
     "metadata": {},
     "output_type": "execute_result"
    }
   ],
   "source": [
    "psi_fin"
   ]
  },
  {
   "cell_type": "code",
   "execution_count": 26,
   "metadata": {},
   "outputs": [
    {
     "data": {
      "text/latex": [
       "$\\displaystyle -10 + 12 i$"
      ],
      "text/plain": [
       "-10 + 12*I"
      ]
     },
     "execution_count": 26,
     "metadata": {},
     "output_type": "execute_result"
    }
   ],
   "source": [
    "simplify(psi_fin[0].subs(\n",
    "        zip(Variables.variables, [1,2,1,2])\n",
    "    ))"
   ]
  },
  {
   "cell_type": "code",
   "execution_count": 16,
   "metadata": {},
   "outputs": [
    {
     "data": {
      "text/plain": [
       "[(u_0, 1), (u_1, 2), (u_2, 3)]"
      ]
     },
     "execution_count": 16,
     "metadata": {},
     "output_type": "execute_result"
    }
   ],
   "source": [
    "list(zip(Variables.variables, [1,2,3]))"
   ]
  },
  {
   "cell_type": "code",
   "execution_count": 64,
   "metadata": {},
   "outputs": [
    {
     "data": {
      "text/plain": [
       "[-8 + 11*I, 3 + 20*I]"
      ]
     },
     "execution_count": 64,
     "metadata": {},
     "output_type": "execute_result"
    }
   ],
   "source": [
    "[_.subs(zip(Variables.variables, [1,2,3,1])).simplify() for _ in psi_fin]"
   ]
  },
  {
   "cell_type": "code",
   "execution_count": 23,
   "metadata": {},
   "outputs": [
    {
     "data": {
      "text/latex": [
       "$\\displaystyle \\left[\\begin{matrix}-13 + 2 i\\\\4 + 3 i\\end{matrix}\\right]$"
      ],
      "text/plain": [
       "Matrix([\n",
       "[-13 + 2*I],\n",
       "[  4 + 3*I]])"
      ]
     },
     "execution_count": 23,
     "metadata": {},
     "output_type": "execute_result"
    }
   ],
   "source": [
    "Matrix([[-13 + 2*I], [4 + 3*I]])"
   ]
  },
  {
   "cell_type": "code",
   "execution_count": 7,
   "metadata": {},
   "outputs": [
    {
     "data": {
      "text/latex": [
       "$\\displaystyle \\left[\\begin{matrix}- \\left(i u_{0} - 1\\right) \\left(i u_{1} - 1\\right) - \\left(i u_{2} + 1\\right) \\left(- i u_{0} + i u_{1} + 2\\right) + \\left(i u_{3} - 1\\right) \\left(- i u_{0} + i u_{1} + \\left(i u_{2} - 1\\right) \\left(\\left(i u_{0} - 1\\right) \\left(i u_{1} - 1\\right) - 1\\right) + 2\\right) + 1\\\\i \\left(- i u_{0} + i u_{1} + \\left(i u_{2} - 1\\right) \\left(\\left(i u_{0} - 1\\right) \\left(i u_{1} - 1\\right) - 1\\right) - \\left(i u_{3} + 1\\right) \\left(\\left(i u_{0} - 1\\right) \\left(i u_{1} - 1\\right) + \\left(i u_{2} + 1\\right) \\left(- i u_{0} + i u_{1} + 2\\right) - 1\\right) + 2\\right)\\end{matrix}\\right]$"
      ],
      "text/plain": [
       "Matrix([\n",
       "[   -(I*u_0 - 1)*(I*u_1 - 1) - (I*u_2 + 1)*(-I*u_0 + I*u_1 + 2) + (I*u_3 - 1)*(-I*u_0 + I*u_1 + (I*u_2 - 1)*((I*u_0 - 1)*(I*u_1 - 1) - 1) + 2) + 1],\n",
       "[I*(-I*u_0 + I*u_1 + (I*u_2 - 1)*((I*u_0 - 1)*(I*u_1 - 1) - 1) - (I*u_3 + 1)*((I*u_0 - 1)*(I*u_1 - 1) + (I*u_2 + 1)*(-I*u_0 + I*u_1 + 2) - 1) + 2)]])"
      ]
     },
     "execution_count": 7,
     "metadata": {},
     "output_type": "execute_result"
    }
   ],
   "source": [
    "simplify(psi_fin)"
   ]
  },
  {
   "cell_type": "markdown",
   "metadata": {},
   "source": [
    "# not good"
   ]
  },
  {
   "cell_type": "code",
   "execution_count": 27,
   "metadata": {},
   "outputs": [],
   "source": [
    "# , \n",
    "obj = (psi_fin - Matrix([[-10+12*I], [-4+8*I]])).norm() ** 2"
   ]
  },
  {
   "cell_type": "code",
   "execution_count": 42,
   "metadata": {},
   "outputs": [],
   "source": [
    "sdp = SdpRelaxation(Variables.variables)\n",
    "sdp.get_relaxation(8, objective=obj)\n",
    "sdp.solve(solver='mosek')"
   ]
  },
  {
   "cell_type": "code",
   "execution_count": 43,
   "metadata": {},
   "outputs": [
    {
     "name": "stdout",
     "output_type": "stream",
     "text": [
      "[1.826129233606543, -1.2148344330854794, -0.8163887544402191, -1.8153311470626372]\n"
     ]
    }
   ],
   "source": [
    "# extract the values of control\n",
    "if sdp.status == 'optimal':\n",
    "    print([sdp[_] for _ in sdp.variables])"
   ]
  },
  {
   "cell_type": "code",
   "execution_count": 44,
   "metadata": {},
   "outputs": [
    {
     "data": {
      "text/plain": [
       "(0.00031512017568502415, 0.00031319318168243626)"
      ]
     },
     "execution_count": 44,
     "metadata": {},
     "output_type": "execute_result"
    }
   ],
   "source": [
    "sdp.primal, sdp.dual"
   ]
  },
  {
   "cell_type": "code",
   "execution_count": 62,
   "metadata": {},
   "outputs": [],
   "source": [
    "vals = list(zip(sdp.variables, (sdp[_] for _ in sdp.variables)))"
   ]
  },
  {
   "cell_type": "code",
   "execution_count": 64,
   "metadata": {},
   "outputs": [
    {
     "data": {
      "text/latex": [
       "$\\displaystyle 3.79601601561677$"
      ],
      "text/plain": [
       "3.79601601561677"
      ]
     },
     "execution_count": 64,
     "metadata": {},
     "output_type": "execute_result"
    }
   ],
   "source": [
    "# value of the objective function\n",
    "simplify(obj.subs(vals))"
   ]
  },
  {
   "cell_type": "code",
   "execution_count": 67,
   "metadata": {},
   "outputs": [
    {
     "data": {
      "text/latex": [
       "$\\displaystyle \\left[\\begin{matrix}-8.7167611819417 + 10.8283161772528 i\\\\-4.19537122394937 + 7.1407554156062 i\\end{matrix}\\right]$"
      ],
      "text/plain": [
       "Matrix([\n",
       "[-8.7167611819417 + 10.8283161772528*I],\n",
       "[-4.19537122394937 + 7.1407554156062*I]])"
      ]
     },
     "execution_count": 67,
     "metadata": {},
     "output_type": "execute_result"
    }
   ],
   "source": [
    "# the final state\n",
    "Matrix([\n",
    "    [simplify(c.subs(vals))] for c in psi_fin\n",
    "])"
   ]
  },
  {
   "cell_type": "code",
   "execution_count": null,
   "metadata": {},
   "outputs": [],
   "source": []
  }
 ],
 "metadata": {
  "kernelspec": {
   "display_name": "Python 3",
   "language": "python",
   "name": "python3"
  },
  "language_info": {
   "codemirror_mode": {
    "name": "ipython",
    "version": 3
   },
   "file_extension": ".py",
   "mimetype": "text/x-python",
   "name": "python",
   "nbconvert_exporter": "python",
   "pygments_lexer": "ipython3",
   "version": "3.7.6"
  }
 },
 "nbformat": 4,
 "nbformat_minor": 1
}
