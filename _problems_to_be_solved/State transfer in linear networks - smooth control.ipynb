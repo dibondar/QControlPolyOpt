{
 "cells": [
  {
   "cell_type": "code",
   "execution_count": 75,
   "id": "d9003c3b",
   "metadata": {},
   "outputs": [],
   "source": [
    "using LinearAlgebra\n",
    "using DifferentialEquations\n",
    "using DynamicPolynomials\n",
    "using TSSOS\n",
    "using JuMP\n",
    "using Random\n",
    "using QuadGK\n",
    "using NLopt"
   ]
  },
  {
   "cell_type": "markdown",
   "id": "999722f4",
   "metadata": {},
   "source": [
    "\n",
    "According to Section *State-transfer in linear networks* of [Kurt Jacobs *et al* 2016 EPL **114** 40007](https://iopscience.iop.org/article/10.1209/0295-5075/114/40007#epl17883s5), the equation of the motion for joint second moments\n",
    "$$\n",
    "    C = \\langle {\\bf v}^t {\\bf v} \\rangle \n",
    "    = \\begin{pmatrix}\n",
    "        \\langle a^2 \\rangle & \\langle  a a^{\\dagger} \\rangle & \\langle ab \\rangle & \\langle ab^{\\dagger} \\rangle \\\\\n",
    "        \\langle  a^\\dagger a \\rangle & \\langle a^{\\dagger} a^{\\dagger} \\rangle & \\langle a^{\\dagger} b \\rangle & \\langle a^{\\dagger} b^{\\dagger} \\rangle \\\\\n",
    "        \\langle ab \\rangle & \\langle a^{\\dagger} b \\rangle & \\langle b^2 \\rangle & \\langle b b^{\\dagger} \\rangle \\\\\n",
    "        \\langle a b^{\\dagger} \\rangle & \\langle a^{\\dagger} b^{\\dagger} \\rangle & \\langle b^{\\dagger} b \\rangle & \\langle b^{\\dagger} b^{\\dagger} \\rangle \n",
    "     \\end{pmatrix}\n",
    "$$\n",
    "is given by\n",
    "$$\n",
    "    \\partial_t C = AC + CA^T.\n",
    "$$\n",
    "\n",
    "$$\n",
    "    \\partial_t vec(C) = (A ⊗ 1 + 1 ⊗ A) vec(C) \n",
    "$$"
   ]
  },
  {
   "cell_type": "code",
   "execution_count": 76,
   "id": "397cb8df",
   "metadata": {},
   "outputs": [],
   "source": [
    "# the initial condition\n",
    "vecC₀ = [0; 1; 0; 0;   2; 0; 0; 0;   0; 0; 0; 0;   0; 0; 1; 0];"
   ]
  },
  {
   "cell_type": "code",
   "execution_count": 77,
   "id": "927ad3b4",
   "metadata": {},
   "outputs": [
    {
     "data": {
      "text/plain": [
       "A (generic function with 1 method)"
      ]
     },
     "execution_count": 77,
     "metadata": {},
     "output_type": "execute_result"
    }
   ],
   "source": [
    "# systems parameters\n",
    "ω = 1.\n",
    "g = 1.\n",
    "\n",
    "function λ(t, x)\n",
    "    # the polynomial shape for control\n",
    "    sum(x[n] * t^(n - 1) for n = 1:length(x))\n",
    "end\n",
    "\n",
    "\n",
    "function A(t, x)\n",
    "    # The matrix in the equation of motion for C\n",
    "    λ₁ = λ(t, x)\n",
    "    \n",
    "    im * [ω    0      -λ₁*g  -λ₁*g\n",
    "          0    -ω     λ₁*g  λ₁*g\n",
    "         -λ₁*g -λ₁*g  ω      0\n",
    "          λ₁*g λ₁*g   0     -ω]\n",
    "end"
   ]
  },
  {
   "cell_type": "markdown",
   "id": "6f4f7c78",
   "metadata": {},
   "source": [
    "## Utilities for working with Polynomials"
   ]
  },
  {
   "cell_type": "code",
   "execution_count": 78,
   "id": "ea5f9630",
   "metadata": {},
   "outputs": [
    {
     "data": {
      "text/plain": [
       "square_frobenius_norm (generic function with 1 method)"
      ]
     },
     "execution_count": 78,
     "metadata": {},
     "output_type": "execute_result"
    }
   ],
   "source": [
    "function ∫(p::AbstractPolynomial, x::PolyVar, x_lower, x_upper)\n",
    "    \n",
    "    # get the index of the variable of integration\n",
    "    ind_x = indexin([x], variables(p))[1]\n",
    "        \n",
    "    if isnothing(ind_x)\n",
    "        # integration valuable is not found among vars\n",
    "        return p * (x_upper - x_lower)\n",
    "    end\n",
    "    \n",
    "    # get the indefinite integral\n",
    "    int_p = sum(\n",
    "        term * x * 1 // (exponents(term)[ind_x] + 1) for term in terms(p)\n",
    "        init = 0 * x\n",
    "    )\n",
    "            \n",
    "    # get the definite integral\n",
    "    subs(int_p, x=>x_upper) - subs(int_p, x=>x_lower)\n",
    "end\n",
    "\n",
    "function ∫(M::AbstractMatrix, x::PolyVar, x_lower, x_upper)\n",
    "   map(z -> ∫(z, x, x_lower, x_upper), M) \n",
    "end\n",
    "\n",
    "function real_poly(p::Polynomial)\n",
    "    #=\n",
    "    Real part of the polynomial\n",
    "    =#\n",
    "    sum(\n",
    "        real(c) * m for (c, m) in zip(coefficients(p), monomials(p))# if ~isapproxzero(abs(c))\n",
    "    )\n",
    "end\n",
    "\n",
    "function square_frobenius_norm(M::AbstractArray)\n",
    "    #=\n",
    "    Square of the Frobenius norm of a matrix\n",
    "    =#\n",
    "    real_poly(sum(z' * z for z in M))\n",
    "end"
   ]
  },
  {
   "cell_type": "markdown",
   "id": "ca705882",
   "metadata": {},
   "source": [
    "## Get the truncated Magnus expansion ($n=3$)"
   ]
  },
  {
   "cell_type": "code",
   "execution_count": 79,
   "id": "fc534b5f",
   "metadata": {},
   "outputs": [],
   "source": [
    "# final time\n",
    "T = 1.\n",
    "\n",
    "@polyvar x[1:5]\n",
    "@polyvar t[1:3]\n",
    "\n",
    "function 𝓐(t, x)\n",
    "    #=\n",
    "    The generator of motion entering the Magnus expansion\n",
    "    =#\n",
    "    a = A(t, x)\n",
    "    \n",
    "    𝓘 = Matrix(I, size(a))\n",
    "    \n",
    "    kron(a, 𝓘) + kron(𝓘, a)\n",
    "end\n",
    "\n",
    "function commutator(a, b)\n",
    "    a * b - b * a\n",
    "end \n",
    "\n",
    "# get the partial sum of the Magnus expansion\n",
    "𝓐₁ = 𝓐(t[1], x)\n",
    "𝓐₂ = 𝓐(t[2], x)\n",
    "\n",
    "Ω = ∫(𝓐₁, t[1], 0, T);\n",
    "\n",
    "# 2nd term in the Magnus expansion\n",
    "Ω .+= 1//2 * ∫(∫(\n",
    "    commutator(𝓐₁, 𝓐₂), \n",
    "    t[2], 0, t[1]), \n",
    "    t[1], 0, T\n",
    ");\n",
    "\n",
    "# 3nd term in the Magnus expansion\n",
    "\n",
    "𝓐₃ = 𝓐(t[3], x)\n",
    "\n",
    "Ω .+= 1//6 * ∫(∫(∫(\n",
    "    commutator(𝓐₁, commutator(𝓐₂, 𝓐₃)) + commutator(commutator(𝓐₁, 𝓐₂), 𝓐₃),\n",
    "    t[3], 0, t[2]),\n",
    "    t[2], 0, t[1]),\n",
    "    t[1], 0, T\n",
    ");"
   ]
  },
  {
   "cell_type": "markdown",
   "id": "1b9aa8d1",
   "metadata": {},
   "source": [
    "## Chebyshve polynomial approximation for $\\exp_p(\\Omega^{(n)})$ with $n=3$ and $p=7$"
   ]
  },
  {
   "cell_type": "code",
   "execution_count": 80,
   "id": "1c8844fb",
   "metadata": {},
   "outputs": [],
   "source": [
    "using SpecialFunctions\n",
    "\n",
    "\"\"\"\n",
    "Chebyshev approximation for exp(Ω)\n",
    "\"\"\"\n",
    "function exp_chebyshev(Ω::AbstractMatrix, order::Integer)\n",
    "    \n",
    "    Tₙ₋₁ = I\n",
    "    Tₙ  = Ω\n",
    "    \n",
    "    # The first two terms of Chebyshev series for exp\n",
    "    series = besselj(0, 1) * Tₙ₋₁ + 2 * besselj(1, 1) * Tₙ\n",
    "    \n",
    "    for n=2:order\n",
    "        Tₙ₊₁  = 2 * Ω * Tₙ + Tₙ₋₁\n",
    "        \n",
    "        series .+= 2 * besselj(n, 1) * Tₙ₊₁\n",
    "        \n",
    "        (Tₙ, Tₙ₋₁) = (Tₙ₊₁, Tₙ) \n",
    "    end\n",
    "    \n",
    "    series\n",
    "end\n",
    "\n",
    "Ω = convert(typeof(𝓐₁), Ω)\n",
    "\n",
    "expΩ = exp_chebyshev(Ω, 7);"
   ]
  },
  {
   "cell_type": "code",
   "execution_count": 81,
   "id": "ed8218aa",
   "metadata": {},
   "outputs": [
    {
     "data": {
      "text/plain": [
       "magnus_convergence_test (generic function with 1 method)"
      ]
     },
     "execution_count": 81,
     "metadata": {},
     "output_type": "execute_result"
    }
   ],
   "source": [
    "function local_minimize(obj::AbstractPolynomial, init_x::AbstractArray)\n",
    "    #=\n",
    "    Perform local minimization of obj polynomial using init_x as initial guess\n",
    "    =#\n",
    "    vars = variables(obj)\n",
    "\n",
    "    @assert length(vars) == length(init_x)\n",
    "    \n",
    "    function g(a...)\n",
    "        # Converting polynomial expression to function to be minimize\n",
    "        obj(vars => a)\n",
    "    end\n",
    "    \n",
    "    model = Model(NLopt.Optimizer)\n",
    "\n",
    "    set_optimizer_attribute(model, \"algorithm\", :LD_MMA)\n",
    "\n",
    "    set_silent(model)\n",
    "    @variable(model, y[1:length(vars)])\n",
    "\n",
    "    # set initial guess\n",
    "    for (var, init_val) in zip(y, init_x)\n",
    "        set_start_value(var, init_val)\n",
    "    end\n",
    "\n",
    "    register(model, :g, length(y), g; autodiff = true)\n",
    "    @NLobjective(model, Min, g(y...))\n",
    "    JuMP.optimize!(model)\n",
    "\n",
    "    map(value, y)\n",
    "end\n",
    "\n",
    "\n",
    "function propagate(x::AbstractArray)   \n",
    "    #=\n",
    "    Solve the equation of motion\n",
    "    =#\n",
    "    \n",
    "    rhs(C, p, t) = 𝓐(t, x) * C\n",
    "    \n",
    "    tspan = (0, T)\n",
    "    \n",
    "    DifferentialEquations.solve(\n",
    "        ODEProblem(rhs, convert(Vector{ComplexF64}, vecC₀), tspan)\n",
    "    )\n",
    "end\n",
    "\n",
    "function magnus_propagation(x::AbstractArray)   \n",
    "    map(z -> z(x), expΩ) * vecC₀\n",
    "end\n",
    "\n",
    "function magnus_convergence_test(x::AbstractArray)\n",
    "    val = quadgk(t -> opnorm(𝓐(t, x)), 0, T)[1] / π\n",
    "    if val > 1\n",
    "        println(\"Magnus expansion failed convergence test\")\n",
    "    end\n",
    "    val\n",
    "end"
   ]
  },
  {
   "cell_type": "code",
   "execution_count": null,
   "id": "354fadea",
   "metadata": {},
   "outputs": [],
   "source": []
  },
  {
   "cell_type": "code",
   "execution_count": 82,
   "id": "8f645e04",
   "metadata": {},
   "outputs": [
    {
     "name": "stdout",
     "output_type": "stream",
     "text": [
      "Magnus expansion failed convergence test\n"
     ]
    },
    {
     "data": {
      "text/plain": [
       "1.8051797175167237"
      ]
     },
     "execution_count": 82,
     "metadata": {},
     "output_type": "execute_result"
    }
   ],
   "source": [
    "x_test = rand(size(x)[1])\n",
    "sol_test = propagate(x_test)\n",
    "magnus_convergence_test(x_test)"
   ]
  },
  {
   "cell_type": "code",
   "execution_count": 83,
   "id": "b193fbf9",
   "metadata": {},
   "outputs": [
    {
     "data": {
      "text/plain": [
       "3.2458501364949623 - 1.677218587838644e-16im"
      ]
     },
     "execution_count": 83,
     "metadata": {},
     "output_type": "execute_result"
    }
   ],
   "source": [
    "sol_test.u[end][2]"
   ]
  },
  {
   "cell_type": "markdown",
   "id": "239dbecc",
   "metadata": {},
   "source": [
    "### Construct the objective function $\\langle  a^\\dagger a \\rangle$ "
   ]
  },
  {
   "cell_type": "code",
   "execution_count": 84,
   "id": "83289a55",
   "metadata": {},
   "outputs": [],
   "source": [
    "obj = (expΩ * vecC₀)[2]\n",
    "obj = real_poly(obj);"
   ]
  },
  {
   "cell_type": "code",
   "execution_count": 88,
   "id": "0e1857b4",
   "metadata": {},
   "outputs": [
    {
     "name": "stdout",
     "output_type": "stream",
     "text": [
      "***************************TSSOS***************************\n",
      "TSSOS is launching...\n",
      "optimum = 0.9789678933327952\n",
      "Found a local optimal solution giving an upper bound: 0.9779393835617652 and a relative optimality gap: 0.0010285097710299729.\n"
     ]
    },
    {
     "data": {
      "text/plain": [
       "5-element Vector{Float64}:\n",
       "  1.0784917609437985\n",
       " -2.9999994964037024\n",
       " -2.0308367366588125\n",
       "  2.9999994883084127\n",
       "  2.9999995893460194"
      ]
     },
     "execution_count": 88,
     "metadata": {},
     "output_type": "execute_result"
    }
   ],
   "source": [
    "# Get the global minimum via TSSOS library\n",
    "#opt,sol,data = tssos_first(obj, variables(obj); QUIET = true, solution = true)\n",
    "opt,sol,data = tssos_first(\n",
    "    [obj; [ξ + 2 for ξ in x]; [-ξ + 2 for ξ in x]], \n",
    "    variables(obj), maxdegree(obj) ÷ 2, numeq=0; QUIET = true, solution = true\n",
    ")\n",
    "\n",
    "previous_sol = sol\n",
    "previous_opt = opt\n",
    "    \n",
    "while ~isnothing(sol)\n",
    "    previous_sol = sol\n",
    "    previous_opt = opt\n",
    "            \n",
    "    opt,sol,data = tssos_higher!(data; QUIET = true, solution = true)\n",
    "end\n",
    "    \n",
    "tssos_glob_obj_min = previous_opt\n",
    "glob_min_x = previous_sol"
   ]
  },
  {
   "cell_type": "code",
   "execution_count": 89,
   "id": "26e12d50",
   "metadata": {},
   "outputs": [
    {
     "data": {
      "text/plain": [
       "0.9735254662497987 - 1.1419682707605287e-17im"
      ]
     },
     "execution_count": 89,
     "metadata": {},
     "output_type": "execute_result"
    }
   ],
   "source": [
    "propagate(glob_min_x).u[end][2]"
   ]
  },
  {
   "cell_type": "code",
   "execution_count": 90,
   "id": "ed3eff90",
   "metadata": {},
   "outputs": [
    {
     "name": "stdout",
     "output_type": "stream",
     "text": [
      "Magnus expansion failed convergence test\n"
     ]
    },
    {
     "data": {
      "text/plain": [
       "1.0131852888380632"
      ]
     },
     "execution_count": 90,
     "metadata": {},
     "output_type": "execute_result"
    }
   ],
   "source": [
    "magnus_convergence_test(glob_min_x)"
   ]
  },
  {
   "cell_type": "code",
   "execution_count": 70,
   "id": "5db96f91",
   "metadata": {},
   "outputs": [
    {
     "data": {
      "text/plain": [
       "809.2693330142467"
      ]
     },
     "execution_count": 70,
     "metadata": {},
     "output_type": "execute_result"
    }
   ],
   "source": [
    "rand_loc_x = local_minimize(obj, rand(size(x)[1]))"
   ]
  },
  {
   "cell_type": "code",
   "execution_count": 71,
   "id": "608dc909",
   "metadata": {},
   "outputs": [
    {
     "data": {
      "text/plain": [
       "(0.640956545300714, 0.7844658165654872)"
      ]
     },
     "execution_count": 71,
     "metadata": {},
     "output_type": "execute_result"
    }
   ],
   "source": [
    "magnus_convergence_test(rand_loc_x), magnus_convergence_test(glob_min_x)"
   ]
  },
  {
   "cell_type": "markdown",
   "id": "142ff576",
   "metadata": {},
   "source": [
    "real(propagate(glob_min_x).u[end][2]), sqrt(obj(glob_min_x)), real(magnus_propagation(glob_min_x)[2])"
   ]
  },
  {
   "cell_type": "code",
   "execution_count": 72,
   "id": "c60b31ae",
   "metadata": {},
   "outputs": [
    {
     "data": {
      "text/plain": [
       "0.7844658165654872"
      ]
     },
     "execution_count": 72,
     "metadata": {},
     "output_type": "execute_result"
    }
   ],
   "source": [
    "magnus_convergence_test(glob_min_x)"
   ]
  },
  {
   "cell_type": "code",
   "execution_count": null,
   "id": "dc92a3ab",
   "metadata": {},
   "outputs": [],
   "source": [
    "loc_min_x = local_minimize(obj, glob_min_x)\n",
    "real(propagate(loc_min_x).u[end][2]), sqrt(obj(loc_min_x)), real(magnus_propagation(loc_min_x)[2])"
   ]
  },
  {
   "cell_type": "code",
   "execution_count": null,
   "id": "5e46a935",
   "metadata": {},
   "outputs": [],
   "source": [
    "magnus_convergence_test(loc_min_x)"
   ]
  },
  {
   "cell_type": "code",
   "execution_count": null,
   "id": "70edf2a0",
   "metadata": {},
   "outputs": [],
   "source": [
    "rand_loc_x = local_minimize(obj, rand(size(glob_min_x)[1]))\n",
    "\n",
    "real(propagate(rand_loc_x).u[end][2]), real(magnus_propagation(rand_loc_x)[2])"
   ]
  },
  {
   "cell_type": "code",
   "execution_count": null,
   "id": "ffb74b51",
   "metadata": {},
   "outputs": [],
   "source": [
    "magnus_convergence_test(rand_loc_x)"
   ]
  },
  {
   "cell_type": "code",
   "execution_count": null,
   "id": "a8a2bd5f",
   "metadata": {},
   "outputs": [],
   "source": [
    "rand_loc_x"
   ]
  },
  {
   "cell_type": "code",
   "execution_count": null,
   "id": "12baf330",
   "metadata": {},
   "outputs": [],
   "source": [
    "2*π/20"
   ]
  },
  {
   "cell_type": "raw",
   "id": "3084606d",
   "metadata": {},
   "source": []
  },
  {
   "cell_type": "code",
   "execution_count": null,
   "id": "297d40c2",
   "metadata": {},
   "outputs": [],
   "source": []
  }
 ],
 "metadata": {
  "kernelspec": {
   "display_name": "Julia 1.7.2",
   "language": "julia",
   "name": "julia-1.7"
  },
  "language_info": {
   "file_extension": ".jl",
   "mimetype": "application/julia",
   "name": "julia",
   "version": "1.7.2"
  }
 },
 "nbformat": 4,
 "nbformat_minor": 5
}
