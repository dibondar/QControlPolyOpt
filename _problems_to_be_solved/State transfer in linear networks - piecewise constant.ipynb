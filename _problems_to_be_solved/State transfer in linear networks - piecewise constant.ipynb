{
 "cells": [
  {
   "cell_type": "code",
   "execution_count": 1,
   "id": "d9003c3b",
   "metadata": {},
   "outputs": [],
   "source": [
    "using LinearAlgebra\n",
    "using DynamicPolynomials\n",
    "using TSSOS\n",
    "using JuMP\n",
    "using Random\n",
    "using QuadGK\n",
    "using NLopt"
   ]
  },
  {
   "cell_type": "markdown",
   "id": "999722f4",
   "metadata": {},
   "source": [
    "\n",
    "According to Section *State-transfer in linear networks* of [Kurt Jacobs *et al* 2016 EPL **114** 40007](https://iopscience.iop.org/article/10.1209/0295-5075/114/40007#epl17883s5), the equation of the motion for joint second moments\n",
    "$$\n",
    "    C = \\langle {\\bf v}^t {\\bf v} \\rangle \n",
    "    = \\begin{pmatrix}\n",
    "        \\langle a^2 \\rangle & \\langle  a a^{\\dagger} \\rangle & \\langle ab \\rangle & \\langle ab^{\\dagger} \\rangle \\\\\n",
    "        \\langle  a^\\dagger a \\rangle & \\langle a^{\\dagger} a^{\\dagger} \\rangle & \\langle a^{\\dagger} b \\rangle & \\langle a^{\\dagger} b^{\\dagger} \\rangle \\\\\n",
    "        \\langle ab \\rangle & \\langle a^{\\dagger} b \\rangle & \\langle b^2 \\rangle & \\langle b b^{\\dagger} \\rangle \\\\\n",
    "        \\langle a b^{\\dagger} \\rangle & \\langle a^{\\dagger} b^{\\dagger} \\rangle & \\langle b^{\\dagger} b \\rangle & \\langle b^{\\dagger} b^{\\dagger} \\rangle \n",
    "     \\end{pmatrix}\n",
    "$$\n",
    "is given by\n",
    "$$\n",
    "    \\partial_t C = AC + CA^T.\n",
    "$$\n",
    "\n",
    "$$\n",
    "    \\partial_t vec(C) = (A ⊗ 1 + 1 ⊗ A) vec(C) \n",
    "$$"
   ]
  },
  {
   "cell_type": "code",
   "execution_count": 2,
   "id": "397cb8df",
   "metadata": {},
   "outputs": [],
   "source": [
    "# the initial condition\n",
    "vecC₀ = [0; 1; 0; 0;   2; 0; 0; 0;   0; 0; 0; 0;   0; 0; 1; 0];"
   ]
  },
  {
   "cell_type": "code",
   "execution_count": 3,
   "id": "927ad3b4",
   "metadata": {},
   "outputs": [
    {
     "data": {
      "text/plain": [
       "A (generic function with 1 method)"
      ]
     },
     "execution_count": 3,
     "metadata": {},
     "output_type": "execute_result"
    }
   ],
   "source": [
    "# systems parameters\n",
    "ω = 1.\n",
    "g = 1.\n",
    "\n",
    "\n",
    "\n",
    "function A(λ₁)\n",
    "    # The matrix in the equation of motion for C\n",
    "    \n",
    "    im * [ω    0      -λ₁*g  -λ₁*g\n",
    "          0    -ω     λ₁*g  λ₁*g\n",
    "         -λ₁*g -λ₁*g  ω      0\n",
    "          λ₁*g λ₁*g   0     -ω]\n",
    "end"
   ]
  },
  {
   "cell_type": "markdown",
   "id": "6f4f7c78",
   "metadata": {},
   "source": [
    "## Utilities for working with Polynomials"
   ]
  },
  {
   "cell_type": "code",
   "execution_count": 4,
   "id": "ea5f9630",
   "metadata": {},
   "outputs": [
    {
     "data": {
      "text/plain": [
       "square_frobenius_norm (generic function with 1 method)"
      ]
     },
     "execution_count": 4,
     "metadata": {},
     "output_type": "execute_result"
    }
   ],
   "source": [
    "function ∫(p::AbstractPolynomial, x::PolyVar, x_lower, x_upper)\n",
    "    \n",
    "    # get the index of the variable of integration\n",
    "    ind_x = indexin([x], variables(p))[1]\n",
    "        \n",
    "    if isnothing(ind_x)\n",
    "        # integration valuable is not found among vars\n",
    "        return p * (x_upper - x_lower)\n",
    "    end\n",
    "    \n",
    "    # get the indefinite integral\n",
    "    int_p = sum(\n",
    "        term * x * 1 // (exponents(term)[ind_x] + 1) for term in terms(p)\n",
    "        init = 0 * x\n",
    "    )\n",
    "            \n",
    "    # get the definite integral\n",
    "    subs(int_p, x=>x_upper) - subs(int_p, x=>x_lower)\n",
    "end\n",
    "\n",
    "function ∫(M::AbstractMatrix, x::PolyVar, x_lower, x_upper)\n",
    "   map(z -> ∫(z, x, x_lower, x_upper), M) \n",
    "end\n",
    "\n",
    "function real_poly(p::Polynomial)\n",
    "    #=\n",
    "    Real part of the polynomial\n",
    "    =#\n",
    "    sum(\n",
    "        real(c) * m for (c, m) in zip(coefficients(p), monomials(p))# if ~isapproxzero(abs(c))\n",
    "    )\n",
    "end\n",
    "\n",
    "function square_frobenius_norm(M::AbstractArray)\n",
    "    #=\n",
    "    Square of the Frobenius norm of a matrix\n",
    "    =#\n",
    "    real_poly(sum(z' * z for z in M))\n",
    "end"
   ]
  },
  {
   "cell_type": "markdown",
   "id": "1b9aa8d1",
   "metadata": {},
   "source": [
    "## Chebyshve polynomial approximation for $\\exp_p(\\Delta t \\Omega)$"
   ]
  },
  {
   "cell_type": "code",
   "execution_count": 5,
   "id": "1c8844fb",
   "metadata": {},
   "outputs": [
    {
     "data": {
      "text/plain": [
       "exp_chebyshev"
      ]
     },
     "execution_count": 5,
     "metadata": {},
     "output_type": "execute_result"
    }
   ],
   "source": [
    "using SpecialFunctions\n",
    "\n",
    "\"\"\"\n",
    "Chebyshev approximation for exp(Δt Ω)\n",
    "\"\"\"\n",
    "function exp_chebyshev(Δt::Real, Ω::AbstractMatrix, order::Integer)\n",
    "    \n",
    "    Tₙ₋₁ = I\n",
    "    Tₙ  = Ω\n",
    "    \n",
    "    # The first two terms of Chebyshev series for exp\n",
    "    series = besselj(0, Δt) * Tₙ₋₁ + 2 * besselj(1, Δt) * Tₙ\n",
    "    \n",
    "    for n=2:order\n",
    "        Tₙ₊₁  = 2 * Ω * Tₙ + Tₙ₋₁\n",
    "        \n",
    "        series .+= 2 * besselj(n, Δt) * Tₙ₊₁\n",
    "        \n",
    "        (Tₙ, Tₙ₋₁) = (Tₙ₊₁, Tₙ) \n",
    "    end\n",
    "    \n",
    "    series\n",
    "end"
   ]
  },
  {
   "cell_type": "code",
   "execution_count": 6,
   "id": "a5b9b4bf",
   "metadata": {},
   "outputs": [],
   "source": [
    "@polyvar λ[1:10]\n",
    "\n",
    "T = 0.2\n",
    "\n",
    "Δt = T / size(λ)[1]\n",
    "\n",
    "function 𝓐(x)\n",
    "    #=\n",
    "    The generator of motion\n",
    "    =#\n",
    "    a = A(x)\n",
    "    \n",
    "    𝓘 = Matrix(I, size(a))\n",
    "    \n",
    "    kron(a, 𝓘) + kron(𝓘, a)\n",
    "end\n",
    "\n",
    "obj_propagator = prod(exp_chebyshev(Δt, 𝓐(λ₁), 2) for λ₁ in λ);"
   ]
  },
  {
   "cell_type": "code",
   "execution_count": 7,
   "id": "ed8218aa",
   "metadata": {},
   "outputs": [
    {
     "data": {
      "text/plain": [
       "symbolic_propagation (generic function with 1 method)"
      ]
     },
     "execution_count": 7,
     "metadata": {},
     "output_type": "execute_result"
    }
   ],
   "source": [
    "function local_minimize(obj::AbstractPolynomial, init_x::AbstractArray)\n",
    "    #=\n",
    "    Perform local minimization of obj polynomial using init_x as initial guess\n",
    "    =#\n",
    "    vars = variables(obj)\n",
    "\n",
    "    @assert length(vars) == length(init_x)\n",
    "    \n",
    "    function g(a...)\n",
    "        # Converting polynomial expression to function to be minimize\n",
    "        obj(vars => a)\n",
    "    end\n",
    "    \n",
    "    model = Model(NLopt.Optimizer)\n",
    "\n",
    "    set_optimizer_attribute(model, \"algorithm\", :LD_MMA)\n",
    "\n",
    "    set_silent(model)\n",
    "    @variable(model, y[1:length(vars)])\n",
    "\n",
    "    # set initial guess\n",
    "    for (var, init_val) in zip(y, init_x)\n",
    "        set_start_value(var, init_val)\n",
    "    end\n",
    "\n",
    "    register(model, :g, length(y), g; autodiff = true)\n",
    "    @NLobjective(model, Min, g(y...))\n",
    "    JuMP.optimize!(model)\n",
    "\n",
    "    map(value, y)\n",
    "end\n",
    "\n",
    "\n",
    "function propagate(x::AbstractArray)   \n",
    "    #=\n",
    "    Solve the equation of motion\n",
    "    =#\n",
    "    prod(exp(Δt * 𝓐(λ₁)) for λ₁ in x) * vecC₀\n",
    "end\n",
    "\n",
    "function symbolic_propagation(x::AbstractArray)   \n",
    "    map(z -> z(x), obj_propagator) * vecC₀\n",
    "end"
   ]
  },
  {
   "cell_type": "code",
   "execution_count": null,
   "id": "6b349ca3",
   "metadata": {},
   "outputs": [],
   "source": []
  },
  {
   "cell_type": "markdown",
   "id": "239dbecc",
   "metadata": {},
   "source": [
    "### Construct the objective function $\\langle  a^\\dagger a \\rangle$ "
   ]
  },
  {
   "cell_type": "code",
   "execution_count": 8,
   "id": "83289a55",
   "metadata": {},
   "outputs": [],
   "source": [
    "obj = (obj_propagator * vecC₀)[2]\n",
    "obj = real_poly(obj);\n",
    "\n",
    "\n"
   ]
  },
  {
   "cell_type": "markdown",
   "id": "e2fe3fd3",
   "metadata": {},
   "source": [
    "function clip(z)\n",
    "    sum(T for T in terms(z) if maxdegree(T) ≤ 3)\n",
    "end\n",
    "\n",
    "obj = map(clip, obj_propagator)\n",
    "\n",
    "obj = (obj * vecC₀)[2]\n",
    "\n",
    "obj = real_poly(obj);"
   ]
  },
  {
   "cell_type": "code",
   "execution_count": 9,
   "id": "0e1857b4",
   "metadata": {},
   "outputs": [
    {
     "name": "stdout",
     "output_type": "stream",
     "text": [
      "***************************TSSOS***************************\n",
      "TSSOS is launching...\n"
     ]
    },
    {
     "ename": "LoadError",
     "evalue": "SYSTEM: show(lasterr) caused an error",
     "output_type": "error",
     "traceback": [
      "SYSTEM: show(lasterr) caused an error",
      "",
      "Stacktrace:",
      "  [1] Array",
      "    @ ./boot.jl:457 [inlined]",
      "  [2] Array",
      "    @ ./boot.jl:466 [inlined]",
      "  [3] similar",
      "    @ ./array.jl:378 [inlined]",
      "  [4] similar",
      "    @ ./abstractarray.jl:783 [inlined]",
      "  [5] _unsafe_getindex",
      "    @ ./multidimensional.jl:851 [inlined]",
      "  [6] _getindex",
      "    @ ./multidimensional.jl:839 [inlined]",
      "  [7] getindex",
      "    @ ./abstractarray.jl:1218 [inlined]",
      "  [8] bfind(A::Matrix{UInt8}, l::Int64, a::Vector{UInt8})",
      "    @ TSSOS ~/.julia/packages/TSSOS/drkzz/src/blockpop_uncons.jl:290",
      "  [9] macro expansion",
      "    @ ~/.julia/packages/TSSOS/drkzz/src/blockpop_cons.jl:458 [inlined]",
      " [10] macro expansion",
      "    @ ./timing.jl:299 [inlined]",
      " [11] blockcpop(n::Int64, m::Int64, supp::Vector{Matrix{UInt8}}, coe::Vector{Vector{Float64}}, basis::Vector{Matrix{UInt8}}, blocks::Vector{Vector{Vector{UInt16}}}, cl::Vector{UInt16}, blocksize::Vector{Vector{UInt16}}; nb::Int64, numeq::Int64, gb::Vector{Polynomial{true, Float64}}, x::Vector{PolyVar{true}}, lead::Matrix{UInt8}, solver::String, QUIET::Bool, solve::Bool, solution::Bool, MomentOne::Bool, Gram::Bool)",
      "    @ TSSOS ~/.julia/packages/TSSOS/drkzz/src/blockpop_cons.jl:401",
      " [12] tssos_first(pop::Vector{Polynomial{true, Float64}}, x::Vector{PolyVar{true}}, d::Int64; nb::Int64, numeq::Int64, quotient::Bool, basis::Vector{Any}, reducebasis::Bool, TS::String, merge::Bool, md::Int64, solver::String, QUIET::Bool, solve::Bool, MomentOne::Bool, Gram::Bool, solution::Bool, tol::Float64)",
      "    @ TSSOS ~/.julia/packages/TSSOS/drkzz/src/blockpop_cons.jl:119",
      " [13] top-level scope",
      "    @ In[9]:3",
      " [14] eval",
      "    @ ./boot.jl:373 [inlined]",
      " [15] include_string(mapexpr::typeof(REPL.softscope), mod::Module, code::String, filename::String)",
      "    @ Base ./loading.jl:1196"
     ]
    }
   ],
   "source": [
    "# Get the global minimum via TSSOS library\n",
    "#opt,sol,data = tssos_first(obj, variables(obj); QUIET = true, solution = true)\n",
    "opt,sol,data = tssos_first(\n",
    "    [obj; [ξ + 1 for ξ in λ]; [-ξ + 1 for ξ in λ]], \n",
    "    variables(obj), maxdegree(obj) ÷ 2, numeq=0; QUIET = true, solution = true\n",
    ")\n",
    "\n",
    "previous_sol = sol\n",
    "previous_opt = opt\n",
    "\n",
    "while ~isnothing(sol)\n",
    "    previous_sol = sol\n",
    "    previous_opt = opt\n",
    "            \n",
    "    opt,sol,data = tssos_higher!(data; QUIET = true, solution = true)\n",
    "end\n",
    "\n",
    "\n",
    "tssos_glob_obj_min = previous_opt\n",
    "glob_min_x = previous_sol"
   ]
  },
  {
   "cell_type": "code",
   "execution_count": 10,
   "id": "f914c370",
   "metadata": {},
   "outputs": [
    {
     "ename": "LoadError",
     "evalue": "UndefVarError: glob_min_x not defined",
     "output_type": "error",
     "traceback": [
      "UndefVarError: glob_min_x not defined",
      "",
      "Stacktrace:",
      " [1] top-level scope",
      "   @ In[10]:1",
      " [2] eval",
      "   @ ./boot.jl:373 [inlined]",
      " [3] include_string(mapexpr::typeof(REPL.softscope), mod::Module, code::String, filename::String)",
      "   @ Base ./loading.jl:1196"
     ]
    }
   ],
   "source": [
    "real(propagate(glob_min_x)[2]), real(symbolic_propagation(glob_min_x)[2])"
   ]
  },
  {
   "cell_type": "code",
   "execution_count": 11,
   "id": "ed98f8d8",
   "metadata": {},
   "outputs": [
    {
     "ename": "LoadError",
     "evalue": "UndefVarError: glob_min_x not defined",
     "output_type": "error",
     "traceback": [
      "UndefVarError: glob_min_x not defined",
      "",
      "Stacktrace:",
      " [1] top-level scope",
      "   @ In[11]:1",
      " [2] eval",
      "   @ ./boot.jl:373 [inlined]",
      " [3] include_string(mapexpr::typeof(REPL.softscope), mod::Module, code::String, filename::String)",
      "   @ Base ./loading.jl:1196"
     ]
    }
   ],
   "source": [
    "maximum(abs.(propagate(glob_min_x) - symbolic_propagation(glob_min_x)))"
   ]
  },
  {
   "cell_type": "code",
   "execution_count": 12,
   "id": "cc601219",
   "metadata": {},
   "outputs": [
    {
     "ename": "LoadError",
     "evalue": "UndefVarError: glob_min_x not defined",
     "output_type": "error",
     "traceback": [
      "UndefVarError: glob_min_x not defined",
      "",
      "Stacktrace:",
      " [1] top-level scope",
      "   @ In[12]:1",
      " [2] eval",
      "   @ ./boot.jl:373 [inlined]",
      " [3] include_string(mapexpr::typeof(REPL.softscope), mod::Module, code::String, filename::String)",
      "   @ Base ./loading.jl:1196"
     ]
    }
   ],
   "source": [
    "propagate(glob_min_x)"
   ]
  },
  {
   "cell_type": "code",
   "execution_count": 13,
   "id": "41e907f7",
   "metadata": {},
   "outputs": [
    {
     "data": {
      "text/plain": [
       "0.3141592653589793"
      ]
     },
     "execution_count": 13,
     "metadata": {},
     "output_type": "execute_result"
    }
   ],
   "source": [
    "2*π / 20"
   ]
  },
  {
   "cell_type": "code",
   "execution_count": 14,
   "id": "fe21eec8",
   "metadata": {},
   "outputs": [
    {
     "data": {
      "text/plain": [
       "0.10583005244258371"
      ]
     },
     "execution_count": 14,
     "metadata": {},
     "output_type": "execute_result"
    }
   ],
   "source": [
    "Δt * maximum(abs.(eigvals(𝓐(3))))"
   ]
  },
  {
   "cell_type": "code",
   "execution_count": 15,
   "id": "abf2b9d7",
   "metadata": {},
   "outputs": [
    {
     "data": {
      "text/plain": [
       "0.009999500008333264"
      ]
     },
     "execution_count": 15,
     "metadata": {},
     "output_type": "execute_result"
    }
   ],
   "source": [
    "besselj(1, Δt)"
   ]
  },
  {
   "cell_type": "code",
   "execution_count": null,
   "id": "ed499f9b",
   "metadata": {},
   "outputs": [],
   "source": []
  }
 ],
 "metadata": {
  "kernelspec": {
   "display_name": "Julia 1.7.2",
   "language": "julia",
   "name": "julia-1.7"
  },
  "language_info": {
   "file_extension": ".jl",
   "mimetype": "application/julia",
   "name": "julia",
   "version": "1.7.2"
  }
 },
 "nbformat": 4,
 "nbformat_minor": 5
}
