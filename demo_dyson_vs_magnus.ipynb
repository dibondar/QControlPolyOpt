{
 "cells": [
  {
   "cell_type": "markdown",
   "metadata": {},
   "source": [
    "# Quantum control via commutative pop optimization"
   ]
  },
  {
   "cell_type": "code",
   "execution_count": 10,
   "metadata": {},
   "outputs": [],
   "source": [
    "import matplotlib.pyplot as plt\n",
    "\n",
    "import numpy as np\n",
    "\n",
    "import pickle\n",
    "\n",
    "from qutip import propagator, Qobj, Options\n",
    "\n",
    "from qcontrol_polyopt import CQCPolyOptDyson, CQCPolyOptMagnus\n",
    "\n",
    "from sympy import I, diag, Float, symbols, lambdify, sympify, Matrix\n",
    "\n",
    "from sympy.matrices import randMatrix, matrix2numpy"
   ]
  },
  {
   "cell_type": "markdown",
   "metadata": {},
   "source": [
    "# Constructing a quantum system"
   ]
  },
  {
   "cell_type": "code",
   "execution_count": 2,
   "metadata": {},
   "outputs": [],
   "source": [
    "# Quantum system is taken from https://github.com/q-optimize/c3/blob/master/examples/two_qubits.ipynb\n",
    "\n",
    "# Drift Hamiltonian \n",
    "H0 = np.array([[0.00000000e+00+0.j, 0.00000000e+00+0.j, 0.00000000e+00+0.j],\n",
    "       [0.00000000e+00+0.j, 3.21505101e+10+0.j, 0.00000000e+00+0.j],\n",
    "       [0.00000000e+00+0.j, 0.00000000e+00+0.j, 6.23173079e+10+0.j]])\n",
    "\n",
    "# Normalize the drift Hamiltonian by its maximum.\n",
    "# This normalization factor can be accounted for by rescaling the time.\n",
    "H0 /= H0.max()\n",
    "\n",
    "\n",
    "# Control Hamiltonian\n",
    "V = np.array([[0.        +0.j, 1.        +0.j, 0.        +0.j],\n",
    "       [1.        +0.j, 0.        +0.j, 1.41421356+0.j],\n",
    "       [0.        +0.j, 1.41421356+0.j, 0.        +0.j]])\n",
    "\n",
    "# Normalize the control Hamiltonian by its maximum.\n",
    "# This normalization factor can be accounted for by rescaling the control field.\n",
    "V /= V.max()\n"
   ]
  },
  {
   "cell_type": "markdown",
   "metadata": {},
   "source": [
    "Generate a quantum system with the hamiltonian\n",
    "$\\hat{H}(t) = \\hat{H}_0 + u(t) \\hat{V}$,\n",
    "where $u(t)$ is a control field."
   ]
  },
  {
   "cell_type": "code",
   "execution_count": 3,
   "metadata": {},
   "outputs": [],
   "source": [
    "qsys_params = dict(\n",
    "    \n",
    "    H0 = Matrix(H0),\n",
    "    V = Matrix(V),\n",
    "    \n",
    "    # final time\n",
    "    T = 1, \n",
    "    \n",
    "    # polynomial order for the control\n",
    "    npoly=2,\n",
    "    \n",
    "    min_module='both',\n",
    "    #min_module='scipy',\n",
    "    #min_module='ncpol2sdpa',\n",
    ")\n",
    "\n",
    "# convert sympy matrix to qutip objects for subsequent propagation \n",
    "H0 = Qobj(matrix2numpy(qsys_params['H0']))\n",
    "V = Qobj(matrix2numpy(qsys_params['V']))"
   ]
  },
  {
   "cell_type": "markdown",
   "metadata": {},
   "source": [
    "# Perform calculations"
   ]
  },
  {
   "cell_type": "code",
   "execution_count": 4,
   "metadata": {},
   "outputs": [
    {
     "name": "stdout",
     "output_type": "stream",
     "text": [
      "<function _lambdifygenerated at 0x7faa3e4b69d0>\n",
      "t1*x1 + x0\n"
     ]
    },
    {
     "name": "stderr",
     "output_type": "stream",
     "text": [
      "/Users/dbondar/opt/anaconda3/lib/python3.8/site-packages/scipy/optimize/_minimize.py:522: RuntimeWarning: Method CG does not use Hessian information (hess).\n",
      "  warn('Method %s does not use Hessian information (hess).' % method,\n"
     ]
    },
    {
     "name": "stdout",
     "output_type": "stream",
     "text": [
      "0.0005980748499892108\n",
      "0.0005979825272418312\n",
      "0.11234871007948737\n",
      "0.11234866338867493\n",
      "0\n",
      "============================================================\n"
     ]
    }
   ],
   "source": [
    "amplitudes = [0]#[0.1, 0.5, 2, 10,]\n",
    "\n",
    "fidelity_dyson_scipy = []\n",
    "fidelity_dyson_ncpol2sdpa = []\n",
    "\n",
    "fidelity_magnus_scipy = []\n",
    "fidelity_magnus_ncpol2sdpa = []\n",
    "\n",
    "\n",
    "for ampl in amplitudes:\n",
    "    # the chosen control\n",
    "    u_original_str = '0.1 + {} * sin(2 * 3.1416 * 1 * t)'.format(ampl)\n",
    "\n",
    "    # get target unitary\n",
    "    U_target = propagator(\n",
    "        [H0, [V, u_original_str]], \n",
    "        qsys_params['T'],\n",
    "    )\n",
    "\n",
    "    # covert the chosen control to the numpy function for plotting\n",
    "    #t = symbols('t')\n",
    "    #u_original = lambdify(t, sympify(u_original_str), 'numpy')\n",
    "    \n",
    "    dyson_result = CQCPolyOptDyson(U_target=U_target, **qsys_params)\n",
    "    \n",
    "    U_dyson = propagator([H0, [V, dyson_result.u_reconstructed['scipy'][0]]], dyson_result.T)\n",
    "    fidelity_dyson_scipy.append(\n",
    "        (U_dyson - U_target).norm()\n",
    "    )\n",
    "    print(fidelity_dyson_scipy[-1])\n",
    "    \n",
    "    U_dyson = propagator([H0, [V, dyson_result.u_reconstructed['ncpol2sdpa'][0]]], dyson_result.T)\n",
    "    fidelity_dyson_ncpol2sdpa.append(\n",
    "        (U_dyson - U_target).norm()\n",
    "    )\n",
    "    print(fidelity_dyson_ncpol2sdpa[-1])\n",
    "    \n",
    "    \n",
    "    magnus_result = CQCPolyOptMagnus(U_target=U_target, **qsys_params)\n",
    "    U_magnus = propagator([H0, [V, magnus_result.u_reconstructed['scipy'][0]]], magnus_result.T)\n",
    "    fidelity_magnus_scipy.append(\n",
    "        (U_magnus - U_target).norm()\n",
    "    )\n",
    "    print(fidelity_magnus_scipy[-1])\n",
    "    \n",
    "    U_magnus = propagator([H0, [V, magnus_result.u_reconstructed['ncpol2sdpa'][0]]], magnus_result.T)\n",
    "    fidelity_magnus_ncpol2sdpa.append(\n",
    "        (U_magnus - U_target).norm()\n",
    "    )\n",
    "    print(fidelity_magnus_ncpol2sdpa[-1])\n",
    "    \n",
    "    print(ampl)\n",
    "    print(\"============================================================\")\n",
    "    \n",
    "    \n",
    "    "
   ]
  },
  {
   "cell_type": "code",
   "execution_count": 5,
   "metadata": {},
   "outputs": [
    {
     "data": {
      "image/png": "[encoded data removed]",
      "text/plain": [
       "<Figure size 432x288 with 1 Axes>"
      ]
     },
     "metadata": {
      "needs_background": "light"
     },
     "output_type": "display_data"
    },
    {
     "data": {
      "image/png": "[encoded data removed]",
      "text/plain": [
       "<Figure size 432x288 with 1 Axes>"
      ]
     },
     "metadata": {
      "needs_background": "light"
     },
     "output_type": "display_data"
    }
   ],
   "source": [
    "plt.title(\"Quantum control via commutative pop optimization via the first-order Dyson series\\n\")\n",
    "\n",
    "plt.plot(amplitudes, fidelity_dyson_scipy, '*-', label='Dyson (vis scipy)')\n",
    "plt.plot(amplitudes, fidelity_dyson_ncpol2sdpa, '*-', label='Dyson (vis ncpol2sdpa)')\n",
    "plt.xlabel('field amplitude')\n",
    "plt.ylabel('Distance between the target and obtained gate,\\n $||\\, \\hat{U}[u_{exact}(t)] - \\hat{U}[u_{recovered}(t)] \\,||$')\n",
    "plt.legend()\n",
    "plt.show()\n",
    "\n",
    "plt.title(\"Quantum control via commutative pop optimization via the second-order Magnus series\\n\")\n",
    "plt.plot(amplitudes, fidelity_magnus_scipy, '*-', label='Magnus (via scipy)')\n",
    "plt.plot(amplitudes, fidelity_magnus_ncpol2sdpa, '*-', label='Magnus (via ncpol2sdpa)')\n",
    "\n",
    "plt.xlabel('field amplitude')\n",
    "plt.ylabel('Distance between the target and obtained gates,\\n $||\\, \\hat{U}[u_{exact}(t)] - \\hat{U}[u_{recovered}(t)] \\,||$')\n",
    "plt.legend()\n",
    "plt.show()"
   ]
  },
  {
   "cell_type": "code",
   "execution_count": 6,
   "metadata": {},
   "outputs": [],
   "source": [
    "t = symbols('t')\n",
    "u_original = lambdify(t, sympify(u_original_str), 'numpy')\n",
    "    \n",
    "times = np.linspace(0, qsys_params['T'], 200)\n",
    "\n",
    "u_scipy = magnus_result.u_reconstructed['scipy'][1]\n",
    "\n",
    "u_ncpol2sdpa = magnus_result.u_reconstructed['ncpol2sdpa'][1]"
   ]
  },
  {
   "cell_type": "code",
   "execution_count": 7,
   "metadata": {},
   "outputs": [
    {
     "data": {
      "text/latex": [
       "$\\displaystyle 0.1$"
      ],
      "text/plain": [
       "0.100000000000000"
      ]
     },
     "execution_count": 7,
     "metadata": {},
     "output_type": "execute_result"
    }
   ],
   "source": [
    "sympify(u_original_str)"
   ]
  },
  {
   "cell_type": "code",
   "execution_count": 8,
   "metadata": {},
   "outputs": [
    {
     "data": {
      "text/plain": [
       "[<matplotlib.lines.Line2D at 0x7faa3f345820>]"
      ]
     },
     "execution_count": 8,
     "metadata": {},
     "output_type": "execute_result"
    },
    {
     "data": {
      "image/png": "[encoded data removed]",
      "text/plain": [
       "<Figure size 432x288 with 1 Axes>"
      ]
     },
     "metadata": {
      "needs_background": "light"
     },
     "output_type": "display_data"
    }
   ],
   "source": [
    "plt.plot(times, u_original(times) + 0 * times)\n",
    "plt.plot(times, u_scipy(times))\n",
    "plt.plot(times, u_ncpol2sdpa(times))"
   ]
  },
  {
   "cell_type": "code",
   "execution_count": 9,
   "metadata": {},
   "outputs": [
    {
     "data": {
      "text/plain": [
       "[<matplotlib.lines.Line2D at 0x7faa3ec952b0>]"
      ]
     },
     "execution_count": 9,
     "metadata": {},
     "output_type": "execute_result"
    },
    {
     "data": {
      "image/png": "[encoded data removed]",
      "text/plain": [
       "<Figure size 432x288 with 1 Axes>"
      ]
     },
     "metadata": {
      "needs_background": "light"
     },
     "output_type": "display_data"
    }
   ],
   "source": [
    "u_scipy = dyson_result.u_reconstructed['scipy'][1]\n",
    "\n",
    "u_ncpol2sdpa = dyson_result.u_reconstructed['ncpol2sdpa'][1]\n",
    "\n",
    "plt.plot(times, u_original(times) + 0 * times)\n",
    "plt.plot(times, u_scipy(times))\n",
    "plt.plot(times, u_ncpol2sdpa(times))"
   ]
  },
  {
   "cell_type": "code",
   "execution_count": null,
   "metadata": {},
   "outputs": [],
   "source": []
  }
 ],
 "metadata": {
  "kernelspec": {
   "display_name": "Python 3",
   "language": "python",
   "name": "python3"
  },
  "language_info": {
   "codemirror_mode": {
    "name": "ipython",
    "version": 3
   },
   "file_extension": ".py",
   "mimetype": "text/x-python",
   "name": "python",
   "nbconvert_exporter": "python",
   "pygments_lexer": "ipython3",
   "version": "3.8.5"
  }
 },
 "nbformat": 4,
 "nbformat_minor": 4
}
